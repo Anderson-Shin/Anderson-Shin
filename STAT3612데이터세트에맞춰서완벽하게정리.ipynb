{
  "nbformat": 4,
  "nbformat_minor": 0,
  "metadata": {
    "colab": {
      "provenance": [],
      "gpuType": "T4",
      "collapsed_sections": [
        "dc7O0_U9mQ8z"
      ],
      "authorship_tag": "ABX9TyO8rr2SsOI8mOS5VOw3itHz",
      "include_colab_link": true
    },
    "kernelspec": {
      "name": "python3",
      "display_name": "Python 3"
    },
    "language_info": {
      "name": "python"
    },
    "accelerator": "GPU",
    "widgets": {
      "application/vnd.jupyter.widget-state+json": {
        "31b1260b43f94914a8e9dd0335e3368b": {
          "model_module": "@jupyter-widgets/controls",
          "model_name": "HBoxModel",
          "model_module_version": "1.5.0",
          "state": {
            "_dom_classes": [],
            "_model_module": "@jupyter-widgets/controls",
            "_model_module_version": "1.5.0",
            "_model_name": "HBoxModel",
            "_view_count": null,
            "_view_module": "@jupyter-widgets/controls",
            "_view_module_version": "1.5.0",
            "_view_name": "HBoxView",
            "box_style": "",
            "children": [
              "IPY_MODEL_4e28987762734bd9bec935f563af8048",
              "IPY_MODEL_ede32ccbe98c492f82ffc65c0449773a",
              "IPY_MODEL_708a14f3dc174fabb54299772f5b56d5"
            ],
            "layout": "IPY_MODEL_82c4c0d7987c409aabc7794d205c8870"
          }
        },
        "4e28987762734bd9bec935f563af8048": {
          "model_module": "@jupyter-widgets/controls",
          "model_name": "HTMLModel",
          "model_module_version": "1.5.0",
          "state": {
            "_dom_classes": [],
            "_model_module": "@jupyter-widgets/controls",
            "_model_module_version": "1.5.0",
            "_model_name": "HTMLModel",
            "_view_count": null,
            "_view_module": "@jupyter-widgets/controls",
            "_view_module_version": "1.5.0",
            "_view_name": "HTMLView",
            "description": "",
            "description_tooltip": null,
            "layout": "IPY_MODEL_7faa86b990d645a1b305836d4acff8c8",
            "placeholder": "​",
            "style": "IPY_MODEL_7bcb074f69ef4787b93f87623dcaa54f",
            "value": "vocab.txt: 100%"
          }
        },
        "ede32ccbe98c492f82ffc65c0449773a": {
          "model_module": "@jupyter-widgets/controls",
          "model_name": "FloatProgressModel",
          "model_module_version": "1.5.0",
          "state": {
            "_dom_classes": [],
            "_model_module": "@jupyter-widgets/controls",
            "_model_module_version": "1.5.0",
            "_model_name": "FloatProgressModel",
            "_view_count": null,
            "_view_module": "@jupyter-widgets/controls",
            "_view_module_version": "1.5.0",
            "_view_name": "ProgressView",
            "bar_style": "success",
            "description": "",
            "description_tooltip": null,
            "layout": "IPY_MODEL_9cb7e3535bd14c1eba2501e416a757a8",
            "max": 213450,
            "min": 0,
            "orientation": "horizontal",
            "style": "IPY_MODEL_6a6188433c034ddd97fed3f2cd0b15ff",
            "value": 213450
          }
        },
        "708a14f3dc174fabb54299772f5b56d5": {
          "model_module": "@jupyter-widgets/controls",
          "model_name": "HTMLModel",
          "model_module_version": "1.5.0",
          "state": {
            "_dom_classes": [],
            "_model_module": "@jupyter-widgets/controls",
            "_model_module_version": "1.5.0",
            "_model_name": "HTMLModel",
            "_view_count": null,
            "_view_module": "@jupyter-widgets/controls",
            "_view_module_version": "1.5.0",
            "_view_name": "HTMLView",
            "description": "",
            "description_tooltip": null,
            "layout": "IPY_MODEL_a61b6912e64f41d08d40b4e9c7e425fe",
            "placeholder": "​",
            "style": "IPY_MODEL_6278c61de1e6455fa3e5a06e12d0a817",
            "value": " 213k/213k [00:00&lt;00:00, 1.90MB/s]"
          }
        },
        "82c4c0d7987c409aabc7794d205c8870": {
          "model_module": "@jupyter-widgets/base",
          "model_name": "LayoutModel",
          "model_module_version": "1.2.0",
          "state": {
            "_model_module": "@jupyter-widgets/base",
            "_model_module_version": "1.2.0",
            "_model_name": "LayoutModel",
            "_view_count": null,
            "_view_module": "@jupyter-widgets/base",
            "_view_module_version": "1.2.0",
            "_view_name": "LayoutView",
            "align_content": null,
            "align_items": null,
            "align_self": null,
            "border": null,
            "bottom": null,
            "display": null,
            "flex": null,
            "flex_flow": null,
            "grid_area": null,
            "grid_auto_columns": null,
            "grid_auto_flow": null,
            "grid_auto_rows": null,
            "grid_column": null,
            "grid_gap": null,
            "grid_row": null,
            "grid_template_areas": null,
            "grid_template_columns": null,
            "grid_template_rows": null,
            "height": null,
            "justify_content": null,
            "justify_items": null,
            "left": null,
            "margin": null,
            "max_height": null,
            "max_width": null,
            "min_height": null,
            "min_width": null,
            "object_fit": null,
            "object_position": null,
            "order": null,
            "overflow": null,
            "overflow_x": null,
            "overflow_y": null,
            "padding": null,
            "right": null,
            "top": null,
            "visibility": null,
            "width": null
          }
        },
        "7faa86b990d645a1b305836d4acff8c8": {
          "model_module": "@jupyter-widgets/base",
          "model_name": "LayoutModel",
          "model_module_version": "1.2.0",
          "state": {
            "_model_module": "@jupyter-widgets/base",
            "_model_module_version": "1.2.0",
            "_model_name": "LayoutModel",
            "_view_count": null,
            "_view_module": "@jupyter-widgets/base",
            "_view_module_version": "1.2.0",
            "_view_name": "LayoutView",
            "align_content": null,
            "align_items": null,
            "align_self": null,
            "border": null,
            "bottom": null,
            "display": null,
            "flex": null,
            "flex_flow": null,
            "grid_area": null,
            "grid_auto_columns": null,
            "grid_auto_flow": null,
            "grid_auto_rows": null,
            "grid_column": null,
            "grid_gap": null,
            "grid_row": null,
            "grid_template_areas": null,
            "grid_template_columns": null,
            "grid_template_rows": null,
            "height": null,
            "justify_content": null,
            "justify_items": null,
            "left": null,
            "margin": null,
            "max_height": null,
            "max_width": null,
            "min_height": null,
            "min_width": null,
            "object_fit": null,
            "object_position": null,
            "order": null,
            "overflow": null,
            "overflow_x": null,
            "overflow_y": null,
            "padding": null,
            "right": null,
            "top": null,
            "visibility": null,
            "width": null
          }
        },
        "7bcb074f69ef4787b93f87623dcaa54f": {
          "model_module": "@jupyter-widgets/controls",
          "model_name": "DescriptionStyleModel",
          "model_module_version": "1.5.0",
          "state": {
            "_model_module": "@jupyter-widgets/controls",
            "_model_module_version": "1.5.0",
            "_model_name": "DescriptionStyleModel",
            "_view_count": null,
            "_view_module": "@jupyter-widgets/base",
            "_view_module_version": "1.2.0",
            "_view_name": "StyleView",
            "description_width": ""
          }
        },
        "9cb7e3535bd14c1eba2501e416a757a8": {
          "model_module": "@jupyter-widgets/base",
          "model_name": "LayoutModel",
          "model_module_version": "1.2.0",
          "state": {
            "_model_module": "@jupyter-widgets/base",
            "_model_module_version": "1.2.0",
            "_model_name": "LayoutModel",
            "_view_count": null,
            "_view_module": "@jupyter-widgets/base",
            "_view_module_version": "1.2.0",
            "_view_name": "LayoutView",
            "align_content": null,
            "align_items": null,
            "align_self": null,
            "border": null,
            "bottom": null,
            "display": null,
            "flex": null,
            "flex_flow": null,
            "grid_area": null,
            "grid_auto_columns": null,
            "grid_auto_flow": null,
            "grid_auto_rows": null,
            "grid_column": null,
            "grid_gap": null,
            "grid_row": null,
            "grid_template_areas": null,
            "grid_template_columns": null,
            "grid_template_rows": null,
            "height": null,
            "justify_content": null,
            "justify_items": null,
            "left": null,
            "margin": null,
            "max_height": null,
            "max_width": null,
            "min_height": null,
            "min_width": null,
            "object_fit": null,
            "object_position": null,
            "order": null,
            "overflow": null,
            "overflow_x": null,
            "overflow_y": null,
            "padding": null,
            "right": null,
            "top": null,
            "visibility": null,
            "width": null
          }
        },
        "6a6188433c034ddd97fed3f2cd0b15ff": {
          "model_module": "@jupyter-widgets/controls",
          "model_name": "ProgressStyleModel",
          "model_module_version": "1.5.0",
          "state": {
            "_model_module": "@jupyter-widgets/controls",
            "_model_module_version": "1.5.0",
            "_model_name": "ProgressStyleModel",
            "_view_count": null,
            "_view_module": "@jupyter-widgets/base",
            "_view_module_version": "1.2.0",
            "_view_name": "StyleView",
            "bar_color": null,
            "description_width": ""
          }
        },
        "a61b6912e64f41d08d40b4e9c7e425fe": {
          "model_module": "@jupyter-widgets/base",
          "model_name": "LayoutModel",
          "model_module_version": "1.2.0",
          "state": {
            "_model_module": "@jupyter-widgets/base",
            "_model_module_version": "1.2.0",
            "_model_name": "LayoutModel",
            "_view_count": null,
            "_view_module": "@jupyter-widgets/base",
            "_view_module_version": "1.2.0",
            "_view_name": "LayoutView",
            "align_content": null,
            "align_items": null,
            "align_self": null,
            "border": null,
            "bottom": null,
            "display": null,
            "flex": null,
            "flex_flow": null,
            "grid_area": null,
            "grid_auto_columns": null,
            "grid_auto_flow": null,
            "grid_auto_rows": null,
            "grid_column": null,
            "grid_gap": null,
            "grid_row": null,
            "grid_template_areas": null,
            "grid_template_columns": null,
            "grid_template_rows": null,
            "height": null,
            "justify_content": null,
            "justify_items": null,
            "left": null,
            "margin": null,
            "max_height": null,
            "max_width": null,
            "min_height": null,
            "min_width": null,
            "object_fit": null,
            "object_position": null,
            "order": null,
            "overflow": null,
            "overflow_x": null,
            "overflow_y": null,
            "padding": null,
            "right": null,
            "top": null,
            "visibility": null,
            "width": null
          }
        },
        "6278c61de1e6455fa3e5a06e12d0a817": {
          "model_module": "@jupyter-widgets/controls",
          "model_name": "DescriptionStyleModel",
          "model_module_version": "1.5.0",
          "state": {
            "_model_module": "@jupyter-widgets/controls",
            "_model_module_version": "1.5.0",
            "_model_name": "DescriptionStyleModel",
            "_view_count": null,
            "_view_module": "@jupyter-widgets/base",
            "_view_module_version": "1.2.0",
            "_view_name": "StyleView",
            "description_width": ""
          }
        },
        "001dcb66cab64e558ebd1ea907a13bee": {
          "model_module": "@jupyter-widgets/controls",
          "model_name": "HBoxModel",
          "model_module_version": "1.5.0",
          "state": {
            "_dom_classes": [],
            "_model_module": "@jupyter-widgets/controls",
            "_model_module_version": "1.5.0",
            "_model_name": "HBoxModel",
            "_view_count": null,
            "_view_module": "@jupyter-widgets/controls",
            "_view_module_version": "1.5.0",
            "_view_name": "HBoxView",
            "box_style": "",
            "children": [
              "IPY_MODEL_af89100d974c4b51960c81693f5e1ea0",
              "IPY_MODEL_54bbab07464a48adb84c97de4c8dd160",
              "IPY_MODEL_cb0c71de6cb04e7f839ff55a0432a7f3"
            ],
            "layout": "IPY_MODEL_4f79ae25c994416a881e4e32f1f3f9c1"
          }
        },
        "af89100d974c4b51960c81693f5e1ea0": {
          "model_module": "@jupyter-widgets/controls",
          "model_name": "HTMLModel",
          "model_module_version": "1.5.0",
          "state": {
            "_dom_classes": [],
            "_model_module": "@jupyter-widgets/controls",
            "_model_module_version": "1.5.0",
            "_model_name": "HTMLModel",
            "_view_count": null,
            "_view_module": "@jupyter-widgets/controls",
            "_view_module_version": "1.5.0",
            "_view_name": "HTMLView",
            "description": "",
            "description_tooltip": null,
            "layout": "IPY_MODEL_c1a806bc3e894668bfdc5a37bf63926c",
            "placeholder": "​",
            "style": "IPY_MODEL_659b114e6e914f03b9dbba817aade841",
            "value": "config.json: 100%"
          }
        },
        "54bbab07464a48adb84c97de4c8dd160": {
          "model_module": "@jupyter-widgets/controls",
          "model_name": "FloatProgressModel",
          "model_module_version": "1.5.0",
          "state": {
            "_dom_classes": [],
            "_model_module": "@jupyter-widgets/controls",
            "_model_module_version": "1.5.0",
            "_model_name": "FloatProgressModel",
            "_view_count": null,
            "_view_module": "@jupyter-widgets/controls",
            "_view_module_version": "1.5.0",
            "_view_name": "ProgressView",
            "bar_style": "success",
            "description": "",
            "description_tooltip": null,
            "layout": "IPY_MODEL_507179a5f9d1445ea967e59c522708c7",
            "max": 385,
            "min": 0,
            "orientation": "horizontal",
            "style": "IPY_MODEL_f45c58e99a0e49dc91572e6e275f3a27",
            "value": 385
          }
        },
        "cb0c71de6cb04e7f839ff55a0432a7f3": {
          "model_module": "@jupyter-widgets/controls",
          "model_name": "HTMLModel",
          "model_module_version": "1.5.0",
          "state": {
            "_dom_classes": [],
            "_model_module": "@jupyter-widgets/controls",
            "_model_module_version": "1.5.0",
            "_model_name": "HTMLModel",
            "_view_count": null,
            "_view_module": "@jupyter-widgets/controls",
            "_view_module_version": "1.5.0",
            "_view_name": "HTMLView",
            "description": "",
            "description_tooltip": null,
            "layout": "IPY_MODEL_dec876e8ca14439b9681b72fc1d712f5",
            "placeholder": "​",
            "style": "IPY_MODEL_1a53a35bb9444f80bc26da1c3f44998c",
            "value": " 385/385 [00:00&lt;00:00, 11.7kB/s]"
          }
        },
        "4f79ae25c994416a881e4e32f1f3f9c1": {
          "model_module": "@jupyter-widgets/base",
          "model_name": "LayoutModel",
          "model_module_version": "1.2.0",
          "state": {
            "_model_module": "@jupyter-widgets/base",
            "_model_module_version": "1.2.0",
            "_model_name": "LayoutModel",
            "_view_count": null,
            "_view_module": "@jupyter-widgets/base",
            "_view_module_version": "1.2.0",
            "_view_name": "LayoutView",
            "align_content": null,
            "align_items": null,
            "align_self": null,
            "border": null,
            "bottom": null,
            "display": null,
            "flex": null,
            "flex_flow": null,
            "grid_area": null,
            "grid_auto_columns": null,
            "grid_auto_flow": null,
            "grid_auto_rows": null,
            "grid_column": null,
            "grid_gap": null,
            "grid_row": null,
            "grid_template_areas": null,
            "grid_template_columns": null,
            "grid_template_rows": null,
            "height": null,
            "justify_content": null,
            "justify_items": null,
            "left": null,
            "margin": null,
            "max_height": null,
            "max_width": null,
            "min_height": null,
            "min_width": null,
            "object_fit": null,
            "object_position": null,
            "order": null,
            "overflow": null,
            "overflow_x": null,
            "overflow_y": null,
            "padding": null,
            "right": null,
            "top": null,
            "visibility": null,
            "width": null
          }
        },
        "c1a806bc3e894668bfdc5a37bf63926c": {
          "model_module": "@jupyter-widgets/base",
          "model_name": "LayoutModel",
          "model_module_version": "1.2.0",
          "state": {
            "_model_module": "@jupyter-widgets/base",
            "_model_module_version": "1.2.0",
            "_model_name": "LayoutModel",
            "_view_count": null,
            "_view_module": "@jupyter-widgets/base",
            "_view_module_version": "1.2.0",
            "_view_name": "LayoutView",
            "align_content": null,
            "align_items": null,
            "align_self": null,
            "border": null,
            "bottom": null,
            "display": null,
            "flex": null,
            "flex_flow": null,
            "grid_area": null,
            "grid_auto_columns": null,
            "grid_auto_flow": null,
            "grid_auto_rows": null,
            "grid_column": null,
            "grid_gap": null,
            "grid_row": null,
            "grid_template_areas": null,
            "grid_template_columns": null,
            "grid_template_rows": null,
            "height": null,
            "justify_content": null,
            "justify_items": null,
            "left": null,
            "margin": null,
            "max_height": null,
            "max_width": null,
            "min_height": null,
            "min_width": null,
            "object_fit": null,
            "object_position": null,
            "order": null,
            "overflow": null,
            "overflow_x": null,
            "overflow_y": null,
            "padding": null,
            "right": null,
            "top": null,
            "visibility": null,
            "width": null
          }
        },
        "659b114e6e914f03b9dbba817aade841": {
          "model_module": "@jupyter-widgets/controls",
          "model_name": "DescriptionStyleModel",
          "model_module_version": "1.5.0",
          "state": {
            "_model_module": "@jupyter-widgets/controls",
            "_model_module_version": "1.5.0",
            "_model_name": "DescriptionStyleModel",
            "_view_count": null,
            "_view_module": "@jupyter-widgets/base",
            "_view_module_version": "1.2.0",
            "_view_name": "StyleView",
            "description_width": ""
          }
        },
        "507179a5f9d1445ea967e59c522708c7": {
          "model_module": "@jupyter-widgets/base",
          "model_name": "LayoutModel",
          "model_module_version": "1.2.0",
          "state": {
            "_model_module": "@jupyter-widgets/base",
            "_model_module_version": "1.2.0",
            "_model_name": "LayoutModel",
            "_view_count": null,
            "_view_module": "@jupyter-widgets/base",
            "_view_module_version": "1.2.0",
            "_view_name": "LayoutView",
            "align_content": null,
            "align_items": null,
            "align_self": null,
            "border": null,
            "bottom": null,
            "display": null,
            "flex": null,
            "flex_flow": null,
            "grid_area": null,
            "grid_auto_columns": null,
            "grid_auto_flow": null,
            "grid_auto_rows": null,
            "grid_column": null,
            "grid_gap": null,
            "grid_row": null,
            "grid_template_areas": null,
            "grid_template_columns": null,
            "grid_template_rows": null,
            "height": null,
            "justify_content": null,
            "justify_items": null,
            "left": null,
            "margin": null,
            "max_height": null,
            "max_width": null,
            "min_height": null,
            "min_width": null,
            "object_fit": null,
            "object_position": null,
            "order": null,
            "overflow": null,
            "overflow_x": null,
            "overflow_y": null,
            "padding": null,
            "right": null,
            "top": null,
            "visibility": null,
            "width": null
          }
        },
        "f45c58e99a0e49dc91572e6e275f3a27": {
          "model_module": "@jupyter-widgets/controls",
          "model_name": "ProgressStyleModel",
          "model_module_version": "1.5.0",
          "state": {
            "_model_module": "@jupyter-widgets/controls",
            "_model_module_version": "1.5.0",
            "_model_name": "ProgressStyleModel",
            "_view_count": null,
            "_view_module": "@jupyter-widgets/base",
            "_view_module_version": "1.2.0",
            "_view_name": "StyleView",
            "bar_color": null,
            "description_width": ""
          }
        },
        "dec876e8ca14439b9681b72fc1d712f5": {
          "model_module": "@jupyter-widgets/base",
          "model_name": "LayoutModel",
          "model_module_version": "1.2.0",
          "state": {
            "_model_module": "@jupyter-widgets/base",
            "_model_module_version": "1.2.0",
            "_model_name": "LayoutModel",
            "_view_count": null,
            "_view_module": "@jupyter-widgets/base",
            "_view_module_version": "1.2.0",
            "_view_name": "LayoutView",
            "align_content": null,
            "align_items": null,
            "align_self": null,
            "border": null,
            "bottom": null,
            "display": null,
            "flex": null,
            "flex_flow": null,
            "grid_area": null,
            "grid_auto_columns": null,
            "grid_auto_flow": null,
            "grid_auto_rows": null,
            "grid_column": null,
            "grid_gap": null,
            "grid_row": null,
            "grid_template_areas": null,
            "grid_template_columns": null,
            "grid_template_rows": null,
            "height": null,
            "justify_content": null,
            "justify_items": null,
            "left": null,
            "margin": null,
            "max_height": null,
            "max_width": null,
            "min_height": null,
            "min_width": null,
            "object_fit": null,
            "object_position": null,
            "order": null,
            "overflow": null,
            "overflow_x": null,
            "overflow_y": null,
            "padding": null,
            "right": null,
            "top": null,
            "visibility": null,
            "width": null
          }
        },
        "1a53a35bb9444f80bc26da1c3f44998c": {
          "model_module": "@jupyter-widgets/controls",
          "model_name": "DescriptionStyleModel",
          "model_module_version": "1.5.0",
          "state": {
            "_model_module": "@jupyter-widgets/controls",
            "_model_module_version": "1.5.0",
            "_model_name": "DescriptionStyleModel",
            "_view_count": null,
            "_view_module": "@jupyter-widgets/base",
            "_view_module_version": "1.2.0",
            "_view_name": "StyleView",
            "description_width": ""
          }
        },
        "3d5e79c4ff29498b963ff5921756f3d3": {
          "model_module": "@jupyter-widgets/controls",
          "model_name": "HBoxModel",
          "model_module_version": "1.5.0",
          "state": {
            "_dom_classes": [],
            "_model_module": "@jupyter-widgets/controls",
            "_model_module_version": "1.5.0",
            "_model_name": "HBoxModel",
            "_view_count": null,
            "_view_module": "@jupyter-widgets/controls",
            "_view_module_version": "1.5.0",
            "_view_name": "HBoxView",
            "box_style": "",
            "children": [
              "IPY_MODEL_93b1d79e86bf4c299cc299f74bb9b253",
              "IPY_MODEL_f3888266a6a8419ea36660c49bdb10b8",
              "IPY_MODEL_037314bf9fff40ac83e17c1a48793ffd"
            ],
            "layout": "IPY_MODEL_ce406e7cffa74105b1132ae1c01d91f9"
          }
        },
        "93b1d79e86bf4c299cc299f74bb9b253": {
          "model_module": "@jupyter-widgets/controls",
          "model_name": "HTMLModel",
          "model_module_version": "1.5.0",
          "state": {
            "_dom_classes": [],
            "_model_module": "@jupyter-widgets/controls",
            "_model_module_version": "1.5.0",
            "_model_name": "HTMLModel",
            "_view_count": null,
            "_view_module": "@jupyter-widgets/controls",
            "_view_module_version": "1.5.0",
            "_view_name": "HTMLView",
            "description": "",
            "description_tooltip": null,
            "layout": "IPY_MODEL_cdb37234996a46e38254576ad7a783c0",
            "placeholder": "​",
            "style": "IPY_MODEL_3ae623ef4e4441b6899edf9a3acb9de3",
            "value": "pytorch_model.bin: 100%"
          }
        },
        "f3888266a6a8419ea36660c49bdb10b8": {
          "model_module": "@jupyter-widgets/controls",
          "model_name": "FloatProgressModel",
          "model_module_version": "1.5.0",
          "state": {
            "_dom_classes": [],
            "_model_module": "@jupyter-widgets/controls",
            "_model_module_version": "1.5.0",
            "_model_name": "FloatProgressModel",
            "_view_count": null,
            "_view_module": "@jupyter-widgets/controls",
            "_view_module_version": "1.5.0",
            "_view_name": "ProgressView",
            "bar_style": "success",
            "description": "",
            "description_tooltip": null,
            "layout": "IPY_MODEL_509ac45128b0474b9b1ae026073f4045",
            "max": 435778770,
            "min": 0,
            "orientation": "horizontal",
            "style": "IPY_MODEL_2c215c8e2a7c4446805364de890fae0a",
            "value": 435778770
          }
        },
        "037314bf9fff40ac83e17c1a48793ffd": {
          "model_module": "@jupyter-widgets/controls",
          "model_name": "HTMLModel",
          "model_module_version": "1.5.0",
          "state": {
            "_dom_classes": [],
            "_model_module": "@jupyter-widgets/controls",
            "_model_module_version": "1.5.0",
            "_model_name": "HTMLModel",
            "_view_count": null,
            "_view_module": "@jupyter-widgets/controls",
            "_view_module_version": "1.5.0",
            "_view_name": "HTMLView",
            "description": "",
            "description_tooltip": null,
            "layout": "IPY_MODEL_c240423296314e19983a1c73c5eb21b4",
            "placeholder": "​",
            "style": "IPY_MODEL_364dc5f5164b4dffbdea389a4ab85539",
            "value": " 436M/436M [00:03&lt;00:00, 175MB/s]"
          }
        },
        "ce406e7cffa74105b1132ae1c01d91f9": {
          "model_module": "@jupyter-widgets/base",
          "model_name": "LayoutModel",
          "model_module_version": "1.2.0",
          "state": {
            "_model_module": "@jupyter-widgets/base",
            "_model_module_version": "1.2.0",
            "_model_name": "LayoutModel",
            "_view_count": null,
            "_view_module": "@jupyter-widgets/base",
            "_view_module_version": "1.2.0",
            "_view_name": "LayoutView",
            "align_content": null,
            "align_items": null,
            "align_self": null,
            "border": null,
            "bottom": null,
            "display": null,
            "flex": null,
            "flex_flow": null,
            "grid_area": null,
            "grid_auto_columns": null,
            "grid_auto_flow": null,
            "grid_auto_rows": null,
            "grid_column": null,
            "grid_gap": null,
            "grid_row": null,
            "grid_template_areas": null,
            "grid_template_columns": null,
            "grid_template_rows": null,
            "height": null,
            "justify_content": null,
            "justify_items": null,
            "left": null,
            "margin": null,
            "max_height": null,
            "max_width": null,
            "min_height": null,
            "min_width": null,
            "object_fit": null,
            "object_position": null,
            "order": null,
            "overflow": null,
            "overflow_x": null,
            "overflow_y": null,
            "padding": null,
            "right": null,
            "top": null,
            "visibility": null,
            "width": null
          }
        },
        "cdb37234996a46e38254576ad7a783c0": {
          "model_module": "@jupyter-widgets/base",
          "model_name": "LayoutModel",
          "model_module_version": "1.2.0",
          "state": {
            "_model_module": "@jupyter-widgets/base",
            "_model_module_version": "1.2.0",
            "_model_name": "LayoutModel",
            "_view_count": null,
            "_view_module": "@jupyter-widgets/base",
            "_view_module_version": "1.2.0",
            "_view_name": "LayoutView",
            "align_content": null,
            "align_items": null,
            "align_self": null,
            "border": null,
            "bottom": null,
            "display": null,
            "flex": null,
            "flex_flow": null,
            "grid_area": null,
            "grid_auto_columns": null,
            "grid_auto_flow": null,
            "grid_auto_rows": null,
            "grid_column": null,
            "grid_gap": null,
            "grid_row": null,
            "grid_template_areas": null,
            "grid_template_columns": null,
            "grid_template_rows": null,
            "height": null,
            "justify_content": null,
            "justify_items": null,
            "left": null,
            "margin": null,
            "max_height": null,
            "max_width": null,
            "min_height": null,
            "min_width": null,
            "object_fit": null,
            "object_position": null,
            "order": null,
            "overflow": null,
            "overflow_x": null,
            "overflow_y": null,
            "padding": null,
            "right": null,
            "top": null,
            "visibility": null,
            "width": null
          }
        },
        "3ae623ef4e4441b6899edf9a3acb9de3": {
          "model_module": "@jupyter-widgets/controls",
          "model_name": "DescriptionStyleModel",
          "model_module_version": "1.5.0",
          "state": {
            "_model_module": "@jupyter-widgets/controls",
            "_model_module_version": "1.5.0",
            "_model_name": "DescriptionStyleModel",
            "_view_count": null,
            "_view_module": "@jupyter-widgets/base",
            "_view_module_version": "1.2.0",
            "_view_name": "StyleView",
            "description_width": ""
          }
        },
        "509ac45128b0474b9b1ae026073f4045": {
          "model_module": "@jupyter-widgets/base",
          "model_name": "LayoutModel",
          "model_module_version": "1.2.0",
          "state": {
            "_model_module": "@jupyter-widgets/base",
            "_model_module_version": "1.2.0",
            "_model_name": "LayoutModel",
            "_view_count": null,
            "_view_module": "@jupyter-widgets/base",
            "_view_module_version": "1.2.0",
            "_view_name": "LayoutView",
            "align_content": null,
            "align_items": null,
            "align_self": null,
            "border": null,
            "bottom": null,
            "display": null,
            "flex": null,
            "flex_flow": null,
            "grid_area": null,
            "grid_auto_columns": null,
            "grid_auto_flow": null,
            "grid_auto_rows": null,
            "grid_column": null,
            "grid_gap": null,
            "grid_row": null,
            "grid_template_areas": null,
            "grid_template_columns": null,
            "grid_template_rows": null,
            "height": null,
            "justify_content": null,
            "justify_items": null,
            "left": null,
            "margin": null,
            "max_height": null,
            "max_width": null,
            "min_height": null,
            "min_width": null,
            "object_fit": null,
            "object_position": null,
            "order": null,
            "overflow": null,
            "overflow_x": null,
            "overflow_y": null,
            "padding": null,
            "right": null,
            "top": null,
            "visibility": null,
            "width": null
          }
        },
        "2c215c8e2a7c4446805364de890fae0a": {
          "model_module": "@jupyter-widgets/controls",
          "model_name": "ProgressStyleModel",
          "model_module_version": "1.5.0",
          "state": {
            "_model_module": "@jupyter-widgets/controls",
            "_model_module_version": "1.5.0",
            "_model_name": "ProgressStyleModel",
            "_view_count": null,
            "_view_module": "@jupyter-widgets/base",
            "_view_module_version": "1.2.0",
            "_view_name": "StyleView",
            "bar_color": null,
            "description_width": ""
          }
        },
        "c240423296314e19983a1c73c5eb21b4": {
          "model_module": "@jupyter-widgets/base",
          "model_name": "LayoutModel",
          "model_module_version": "1.2.0",
          "state": {
            "_model_module": "@jupyter-widgets/base",
            "_model_module_version": "1.2.0",
            "_model_name": "LayoutModel",
            "_view_count": null,
            "_view_module": "@jupyter-widgets/base",
            "_view_module_version": "1.2.0",
            "_view_name": "LayoutView",
            "align_content": null,
            "align_items": null,
            "align_self": null,
            "border": null,
            "bottom": null,
            "display": null,
            "flex": null,
            "flex_flow": null,
            "grid_area": null,
            "grid_auto_columns": null,
            "grid_auto_flow": null,
            "grid_auto_rows": null,
            "grid_column": null,
            "grid_gap": null,
            "grid_row": null,
            "grid_template_areas": null,
            "grid_template_columns": null,
            "grid_template_rows": null,
            "height": null,
            "justify_content": null,
            "justify_items": null,
            "left": null,
            "margin": null,
            "max_height": null,
            "max_width": null,
            "min_height": null,
            "min_width": null,
            "object_fit": null,
            "object_position": null,
            "order": null,
            "overflow": null,
            "overflow_x": null,
            "overflow_y": null,
            "padding": null,
            "right": null,
            "top": null,
            "visibility": null,
            "width": null
          }
        },
        "364dc5f5164b4dffbdea389a4ab85539": {
          "model_module": "@jupyter-widgets/controls",
          "model_name": "DescriptionStyleModel",
          "model_module_version": "1.5.0",
          "state": {
            "_model_module": "@jupyter-widgets/controls",
            "_model_module_version": "1.5.0",
            "_model_name": "DescriptionStyleModel",
            "_view_count": null,
            "_view_module": "@jupyter-widgets/base",
            "_view_module_version": "1.2.0",
            "_view_name": "StyleView",
            "description_width": ""
          }
        },
        "813e2e05f59141e88dc27f403cd288db": {
          "model_module": "@jupyter-widgets/controls",
          "model_name": "HBoxModel",
          "model_module_version": "1.5.0",
          "state": {
            "_dom_classes": [],
            "_model_module": "@jupyter-widgets/controls",
            "_model_module_version": "1.5.0",
            "_model_name": "HBoxModel",
            "_view_count": null,
            "_view_module": "@jupyter-widgets/controls",
            "_view_module_version": "1.5.0",
            "_view_name": "HBoxView",
            "box_style": "",
            "children": [
              "IPY_MODEL_485d2b32dd374346ad606b3b895cb7c0",
              "IPY_MODEL_42f3c3dc31d64df68007ffa305634f31",
              "IPY_MODEL_20c426f0c0084670bfc49819b21a4465"
            ],
            "layout": "IPY_MODEL_8bb2c0444aeb4141999be2506640d57e"
          }
        },
        "485d2b32dd374346ad606b3b895cb7c0": {
          "model_module": "@jupyter-widgets/controls",
          "model_name": "HTMLModel",
          "model_module_version": "1.5.0",
          "state": {
            "_dom_classes": [],
            "_model_module": "@jupyter-widgets/controls",
            "_model_module_version": "1.5.0",
            "_model_name": "HTMLModel",
            "_view_count": null,
            "_view_module": "@jupyter-widgets/controls",
            "_view_module_version": "1.5.0",
            "_view_name": "HTMLView",
            "description": "",
            "description_tooltip": null,
            "layout": "IPY_MODEL_95fb9d62f0bd4d4c9b488c2f1c627427",
            "placeholder": "​",
            "style": "IPY_MODEL_da93336f2039451183b61c5801510016",
            "value": "vocab.txt: 100%"
          }
        },
        "42f3c3dc31d64df68007ffa305634f31": {
          "model_module": "@jupyter-widgets/controls",
          "model_name": "FloatProgressModel",
          "model_module_version": "1.5.0",
          "state": {
            "_dom_classes": [],
            "_model_module": "@jupyter-widgets/controls",
            "_model_module_version": "1.5.0",
            "_model_name": "FloatProgressModel",
            "_view_count": null,
            "_view_module": "@jupyter-widgets/controls",
            "_view_module_version": "1.5.0",
            "_view_name": "ProgressView",
            "bar_style": "success",
            "description": "",
            "description_tooltip": null,
            "layout": "IPY_MODEL_10fc746559f64dabaa0e28f3113fe596",
            "max": 213450,
            "min": 0,
            "orientation": "horizontal",
            "style": "IPY_MODEL_2479612720cd416eade58b65b340be4c",
            "value": 213450
          }
        },
        "20c426f0c0084670bfc49819b21a4465": {
          "model_module": "@jupyter-widgets/controls",
          "model_name": "HTMLModel",
          "model_module_version": "1.5.0",
          "state": {
            "_dom_classes": [],
            "_model_module": "@jupyter-widgets/controls",
            "_model_module_version": "1.5.0",
            "_model_name": "HTMLModel",
            "_view_count": null,
            "_view_module": "@jupyter-widgets/controls",
            "_view_module_version": "1.5.0",
            "_view_name": "HTMLView",
            "description": "",
            "description_tooltip": null,
            "layout": "IPY_MODEL_892dfb36d3134dc39a5e529248f1920d",
            "placeholder": "​",
            "style": "IPY_MODEL_4a655d3e14374bd3a4b0864a3ed13056",
            "value": " 213k/213k [00:00&lt;00:00, 1.94MB/s]"
          }
        },
        "8bb2c0444aeb4141999be2506640d57e": {
          "model_module": "@jupyter-widgets/base",
          "model_name": "LayoutModel",
          "model_module_version": "1.2.0",
          "state": {
            "_model_module": "@jupyter-widgets/base",
            "_model_module_version": "1.2.0",
            "_model_name": "LayoutModel",
            "_view_count": null,
            "_view_module": "@jupyter-widgets/base",
            "_view_module_version": "1.2.0",
            "_view_name": "LayoutView",
            "align_content": null,
            "align_items": null,
            "align_self": null,
            "border": null,
            "bottom": null,
            "display": null,
            "flex": null,
            "flex_flow": null,
            "grid_area": null,
            "grid_auto_columns": null,
            "grid_auto_flow": null,
            "grid_auto_rows": null,
            "grid_column": null,
            "grid_gap": null,
            "grid_row": null,
            "grid_template_areas": null,
            "grid_template_columns": null,
            "grid_template_rows": null,
            "height": null,
            "justify_content": null,
            "justify_items": null,
            "left": null,
            "margin": null,
            "max_height": null,
            "max_width": null,
            "min_height": null,
            "min_width": null,
            "object_fit": null,
            "object_position": null,
            "order": null,
            "overflow": null,
            "overflow_x": null,
            "overflow_y": null,
            "padding": null,
            "right": null,
            "top": null,
            "visibility": null,
            "width": null
          }
        },
        "95fb9d62f0bd4d4c9b488c2f1c627427": {
          "model_module": "@jupyter-widgets/base",
          "model_name": "LayoutModel",
          "model_module_version": "1.2.0",
          "state": {
            "_model_module": "@jupyter-widgets/base",
            "_model_module_version": "1.2.0",
            "_model_name": "LayoutModel",
            "_view_count": null,
            "_view_module": "@jupyter-widgets/base",
            "_view_module_version": "1.2.0",
            "_view_name": "LayoutView",
            "align_content": null,
            "align_items": null,
            "align_self": null,
            "border": null,
            "bottom": null,
            "display": null,
            "flex": null,
            "flex_flow": null,
            "grid_area": null,
            "grid_auto_columns": null,
            "grid_auto_flow": null,
            "grid_auto_rows": null,
            "grid_column": null,
            "grid_gap": null,
            "grid_row": null,
            "grid_template_areas": null,
            "grid_template_columns": null,
            "grid_template_rows": null,
            "height": null,
            "justify_content": null,
            "justify_items": null,
            "left": null,
            "margin": null,
            "max_height": null,
            "max_width": null,
            "min_height": null,
            "min_width": null,
            "object_fit": null,
            "object_position": null,
            "order": null,
            "overflow": null,
            "overflow_x": null,
            "overflow_y": null,
            "padding": null,
            "right": null,
            "top": null,
            "visibility": null,
            "width": null
          }
        },
        "da93336f2039451183b61c5801510016": {
          "model_module": "@jupyter-widgets/controls",
          "model_name": "DescriptionStyleModel",
          "model_module_version": "1.5.0",
          "state": {
            "_model_module": "@jupyter-widgets/controls",
            "_model_module_version": "1.5.0",
            "_model_name": "DescriptionStyleModel",
            "_view_count": null,
            "_view_module": "@jupyter-widgets/base",
            "_view_module_version": "1.2.0",
            "_view_name": "StyleView",
            "description_width": ""
          }
        },
        "10fc746559f64dabaa0e28f3113fe596": {
          "model_module": "@jupyter-widgets/base",
          "model_name": "LayoutModel",
          "model_module_version": "1.2.0",
          "state": {
            "_model_module": "@jupyter-widgets/base",
            "_model_module_version": "1.2.0",
            "_model_name": "LayoutModel",
            "_view_count": null,
            "_view_module": "@jupyter-widgets/base",
            "_view_module_version": "1.2.0",
            "_view_name": "LayoutView",
            "align_content": null,
            "align_items": null,
            "align_self": null,
            "border": null,
            "bottom": null,
            "display": null,
            "flex": null,
            "flex_flow": null,
            "grid_area": null,
            "grid_auto_columns": null,
            "grid_auto_flow": null,
            "grid_auto_rows": null,
            "grid_column": null,
            "grid_gap": null,
            "grid_row": null,
            "grid_template_areas": null,
            "grid_template_columns": null,
            "grid_template_rows": null,
            "height": null,
            "justify_content": null,
            "justify_items": null,
            "left": null,
            "margin": null,
            "max_height": null,
            "max_width": null,
            "min_height": null,
            "min_width": null,
            "object_fit": null,
            "object_position": null,
            "order": null,
            "overflow": null,
            "overflow_x": null,
            "overflow_y": null,
            "padding": null,
            "right": null,
            "top": null,
            "visibility": null,
            "width": null
          }
        },
        "2479612720cd416eade58b65b340be4c": {
          "model_module": "@jupyter-widgets/controls",
          "model_name": "ProgressStyleModel",
          "model_module_version": "1.5.0",
          "state": {
            "_model_module": "@jupyter-widgets/controls",
            "_model_module_version": "1.5.0",
            "_model_name": "ProgressStyleModel",
            "_view_count": null,
            "_view_module": "@jupyter-widgets/base",
            "_view_module_version": "1.2.0",
            "_view_name": "StyleView",
            "bar_color": null,
            "description_width": ""
          }
        },
        "892dfb36d3134dc39a5e529248f1920d": {
          "model_module": "@jupyter-widgets/base",
          "model_name": "LayoutModel",
          "model_module_version": "1.2.0",
          "state": {
            "_model_module": "@jupyter-widgets/base",
            "_model_module_version": "1.2.0",
            "_model_name": "LayoutModel",
            "_view_count": null,
            "_view_module": "@jupyter-widgets/base",
            "_view_module_version": "1.2.0",
            "_view_name": "LayoutView",
            "align_content": null,
            "align_items": null,
            "align_self": null,
            "border": null,
            "bottom": null,
            "display": null,
            "flex": null,
            "flex_flow": null,
            "grid_area": null,
            "grid_auto_columns": null,
            "grid_auto_flow": null,
            "grid_auto_rows": null,
            "grid_column": null,
            "grid_gap": null,
            "grid_row": null,
            "grid_template_areas": null,
            "grid_template_columns": null,
            "grid_template_rows": null,
            "height": null,
            "justify_content": null,
            "justify_items": null,
            "left": null,
            "margin": null,
            "max_height": null,
            "max_width": null,
            "min_height": null,
            "min_width": null,
            "object_fit": null,
            "object_position": null,
            "order": null,
            "overflow": null,
            "overflow_x": null,
            "overflow_y": null,
            "padding": null,
            "right": null,
            "top": null,
            "visibility": null,
            "width": null
          }
        },
        "4a655d3e14374bd3a4b0864a3ed13056": {
          "model_module": "@jupyter-widgets/controls",
          "model_name": "DescriptionStyleModel",
          "model_module_version": "1.5.0",
          "state": {
            "_model_module": "@jupyter-widgets/controls",
            "_model_module_version": "1.5.0",
            "_model_name": "DescriptionStyleModel",
            "_view_count": null,
            "_view_module": "@jupyter-widgets/base",
            "_view_module_version": "1.2.0",
            "_view_name": "StyleView",
            "description_width": ""
          }
        },
        "bddb47f2d48b471a9a95eb3edbe0f27c": {
          "model_module": "@jupyter-widgets/controls",
          "model_name": "HBoxModel",
          "model_module_version": "1.5.0",
          "state": {
            "_dom_classes": [],
            "_model_module": "@jupyter-widgets/controls",
            "_model_module_version": "1.5.0",
            "_model_name": "HBoxModel",
            "_view_count": null,
            "_view_module": "@jupyter-widgets/controls",
            "_view_module_version": "1.5.0",
            "_view_name": "HBoxView",
            "box_style": "",
            "children": [
              "IPY_MODEL_638c7323e17d4a3684837f65907d21cb",
              "IPY_MODEL_ecd8ec8f7dcd4ddab72620dc983a3b95",
              "IPY_MODEL_05bbca4e03924a71a759424de7b8857b"
            ],
            "layout": "IPY_MODEL_ef18cce3eec1454ca18fc463009d01e9"
          }
        },
        "638c7323e17d4a3684837f65907d21cb": {
          "model_module": "@jupyter-widgets/controls",
          "model_name": "HTMLModel",
          "model_module_version": "1.5.0",
          "state": {
            "_dom_classes": [],
            "_model_module": "@jupyter-widgets/controls",
            "_model_module_version": "1.5.0",
            "_model_name": "HTMLModel",
            "_view_count": null,
            "_view_module": "@jupyter-widgets/controls",
            "_view_module_version": "1.5.0",
            "_view_name": "HTMLView",
            "description": "",
            "description_tooltip": null,
            "layout": "IPY_MODEL_148907d07106421fab21343265c50cbb",
            "placeholder": "​",
            "style": "IPY_MODEL_5c809b4f582d4a26b2575d3f7210360f",
            "value": "config.json: 100%"
          }
        },
        "ecd8ec8f7dcd4ddab72620dc983a3b95": {
          "model_module": "@jupyter-widgets/controls",
          "model_name": "FloatProgressModel",
          "model_module_version": "1.5.0",
          "state": {
            "_dom_classes": [],
            "_model_module": "@jupyter-widgets/controls",
            "_model_module_version": "1.5.0",
            "_model_name": "FloatProgressModel",
            "_view_count": null,
            "_view_module": "@jupyter-widgets/controls",
            "_view_module_version": "1.5.0",
            "_view_name": "ProgressView",
            "bar_style": "success",
            "description": "",
            "description_tooltip": null,
            "layout": "IPY_MODEL_7a3dc2f2a0fe43908c557c9c5dd91661",
            "max": 385,
            "min": 0,
            "orientation": "horizontal",
            "style": "IPY_MODEL_84f625ecaf51486b87931817db4af56d",
            "value": 385
          }
        },
        "05bbca4e03924a71a759424de7b8857b": {
          "model_module": "@jupyter-widgets/controls",
          "model_name": "HTMLModel",
          "model_module_version": "1.5.0",
          "state": {
            "_dom_classes": [],
            "_model_module": "@jupyter-widgets/controls",
            "_model_module_version": "1.5.0",
            "_model_name": "HTMLModel",
            "_view_count": null,
            "_view_module": "@jupyter-widgets/controls",
            "_view_module_version": "1.5.0",
            "_view_name": "HTMLView",
            "description": "",
            "description_tooltip": null,
            "layout": "IPY_MODEL_4a3fb1887efb4401ade60acaaf6ffe17",
            "placeholder": "​",
            "style": "IPY_MODEL_fe6ba13ff98e4809923c5e680e629d6a",
            "value": " 385/385 [00:00&lt;00:00, 6.45kB/s]"
          }
        },
        "ef18cce3eec1454ca18fc463009d01e9": {
          "model_module": "@jupyter-widgets/base",
          "model_name": "LayoutModel",
          "model_module_version": "1.2.0",
          "state": {
            "_model_module": "@jupyter-widgets/base",
            "_model_module_version": "1.2.0",
            "_model_name": "LayoutModel",
            "_view_count": null,
            "_view_module": "@jupyter-widgets/base",
            "_view_module_version": "1.2.0",
            "_view_name": "LayoutView",
            "align_content": null,
            "align_items": null,
            "align_self": null,
            "border": null,
            "bottom": null,
            "display": null,
            "flex": null,
            "flex_flow": null,
            "grid_area": null,
            "grid_auto_columns": null,
            "grid_auto_flow": null,
            "grid_auto_rows": null,
            "grid_column": null,
            "grid_gap": null,
            "grid_row": null,
            "grid_template_areas": null,
            "grid_template_columns": null,
            "grid_template_rows": null,
            "height": null,
            "justify_content": null,
            "justify_items": null,
            "left": null,
            "margin": null,
            "max_height": null,
            "max_width": null,
            "min_height": null,
            "min_width": null,
            "object_fit": null,
            "object_position": null,
            "order": null,
            "overflow": null,
            "overflow_x": null,
            "overflow_y": null,
            "padding": null,
            "right": null,
            "top": null,
            "visibility": null,
            "width": null
          }
        },
        "148907d07106421fab21343265c50cbb": {
          "model_module": "@jupyter-widgets/base",
          "model_name": "LayoutModel",
          "model_module_version": "1.2.0",
          "state": {
            "_model_module": "@jupyter-widgets/base",
            "_model_module_version": "1.2.0",
            "_model_name": "LayoutModel",
            "_view_count": null,
            "_view_module": "@jupyter-widgets/base",
            "_view_module_version": "1.2.0",
            "_view_name": "LayoutView",
            "align_content": null,
            "align_items": null,
            "align_self": null,
            "border": null,
            "bottom": null,
            "display": null,
            "flex": null,
            "flex_flow": null,
            "grid_area": null,
            "grid_auto_columns": null,
            "grid_auto_flow": null,
            "grid_auto_rows": null,
            "grid_column": null,
            "grid_gap": null,
            "grid_row": null,
            "grid_template_areas": null,
            "grid_template_columns": null,
            "grid_template_rows": null,
            "height": null,
            "justify_content": null,
            "justify_items": null,
            "left": null,
            "margin": null,
            "max_height": null,
            "max_width": null,
            "min_height": null,
            "min_width": null,
            "object_fit": null,
            "object_position": null,
            "order": null,
            "overflow": null,
            "overflow_x": null,
            "overflow_y": null,
            "padding": null,
            "right": null,
            "top": null,
            "visibility": null,
            "width": null
          }
        },
        "5c809b4f582d4a26b2575d3f7210360f": {
          "model_module": "@jupyter-widgets/controls",
          "model_name": "DescriptionStyleModel",
          "model_module_version": "1.5.0",
          "state": {
            "_model_module": "@jupyter-widgets/controls",
            "_model_module_version": "1.5.0",
            "_model_name": "DescriptionStyleModel",
            "_view_count": null,
            "_view_module": "@jupyter-widgets/base",
            "_view_module_version": "1.2.0",
            "_view_name": "StyleView",
            "description_width": ""
          }
        },
        "7a3dc2f2a0fe43908c557c9c5dd91661": {
          "model_module": "@jupyter-widgets/base",
          "model_name": "LayoutModel",
          "model_module_version": "1.2.0",
          "state": {
            "_model_module": "@jupyter-widgets/base",
            "_model_module_version": "1.2.0",
            "_model_name": "LayoutModel",
            "_view_count": null,
            "_view_module": "@jupyter-widgets/base",
            "_view_module_version": "1.2.0",
            "_view_name": "LayoutView",
            "align_content": null,
            "align_items": null,
            "align_self": null,
            "border": null,
            "bottom": null,
            "display": null,
            "flex": null,
            "flex_flow": null,
            "grid_area": null,
            "grid_auto_columns": null,
            "grid_auto_flow": null,
            "grid_auto_rows": null,
            "grid_column": null,
            "grid_gap": null,
            "grid_row": null,
            "grid_template_areas": null,
            "grid_template_columns": null,
            "grid_template_rows": null,
            "height": null,
            "justify_content": null,
            "justify_items": null,
            "left": null,
            "margin": null,
            "max_height": null,
            "max_width": null,
            "min_height": null,
            "min_width": null,
            "object_fit": null,
            "object_position": null,
            "order": null,
            "overflow": null,
            "overflow_x": null,
            "overflow_y": null,
            "padding": null,
            "right": null,
            "top": null,
            "visibility": null,
            "width": null
          }
        },
        "84f625ecaf51486b87931817db4af56d": {
          "model_module": "@jupyter-widgets/controls",
          "model_name": "ProgressStyleModel",
          "model_module_version": "1.5.0",
          "state": {
            "_model_module": "@jupyter-widgets/controls",
            "_model_module_version": "1.5.0",
            "_model_name": "ProgressStyleModel",
            "_view_count": null,
            "_view_module": "@jupyter-widgets/base",
            "_view_module_version": "1.2.0",
            "_view_name": "StyleView",
            "bar_color": null,
            "description_width": ""
          }
        },
        "4a3fb1887efb4401ade60acaaf6ffe17": {
          "model_module": "@jupyter-widgets/base",
          "model_name": "LayoutModel",
          "model_module_version": "1.2.0",
          "state": {
            "_model_module": "@jupyter-widgets/base",
            "_model_module_version": "1.2.0",
            "_model_name": "LayoutModel",
            "_view_count": null,
            "_view_module": "@jupyter-widgets/base",
            "_view_module_version": "1.2.0",
            "_view_name": "LayoutView",
            "align_content": null,
            "align_items": null,
            "align_self": null,
            "border": null,
            "bottom": null,
            "display": null,
            "flex": null,
            "flex_flow": null,
            "grid_area": null,
            "grid_auto_columns": null,
            "grid_auto_flow": null,
            "grid_auto_rows": null,
            "grid_column": null,
            "grid_gap": null,
            "grid_row": null,
            "grid_template_areas": null,
            "grid_template_columns": null,
            "grid_template_rows": null,
            "height": null,
            "justify_content": null,
            "justify_items": null,
            "left": null,
            "margin": null,
            "max_height": null,
            "max_width": null,
            "min_height": null,
            "min_width": null,
            "object_fit": null,
            "object_position": null,
            "order": null,
            "overflow": null,
            "overflow_x": null,
            "overflow_y": null,
            "padding": null,
            "right": null,
            "top": null,
            "visibility": null,
            "width": null
          }
        },
        "fe6ba13ff98e4809923c5e680e629d6a": {
          "model_module": "@jupyter-widgets/controls",
          "model_name": "DescriptionStyleModel",
          "model_module_version": "1.5.0",
          "state": {
            "_model_module": "@jupyter-widgets/controls",
            "_model_module_version": "1.5.0",
            "_model_name": "DescriptionStyleModel",
            "_view_count": null,
            "_view_module": "@jupyter-widgets/base",
            "_view_module_version": "1.2.0",
            "_view_name": "StyleView",
            "description_width": ""
          }
        },
        "9da7afb6e45c4754aa28db777791a47a": {
          "model_module": "@jupyter-widgets/controls",
          "model_name": "HBoxModel",
          "model_module_version": "1.5.0",
          "state": {
            "_dom_classes": [],
            "_model_module": "@jupyter-widgets/controls",
            "_model_module_version": "1.5.0",
            "_model_name": "HBoxModel",
            "_view_count": null,
            "_view_module": "@jupyter-widgets/controls",
            "_view_module_version": "1.5.0",
            "_view_name": "HBoxView",
            "box_style": "",
            "children": [
              "IPY_MODEL_306641af7dfe425f8500216796a62f5e",
              "IPY_MODEL_e30d59c093de428591a1c5eff30f7f93",
              "IPY_MODEL_8d5ef06b52884106b227794175b137af"
            ],
            "layout": "IPY_MODEL_0449a3b1ea3349d49ed901f4aad84991"
          }
        },
        "306641af7dfe425f8500216796a62f5e": {
          "model_module": "@jupyter-widgets/controls",
          "model_name": "HTMLModel",
          "model_module_version": "1.5.0",
          "state": {
            "_dom_classes": [],
            "_model_module": "@jupyter-widgets/controls",
            "_model_module_version": "1.5.0",
            "_model_name": "HTMLModel",
            "_view_count": null,
            "_view_module": "@jupyter-widgets/controls",
            "_view_module_version": "1.5.0",
            "_view_name": "HTMLView",
            "description": "",
            "description_tooltip": null,
            "layout": "IPY_MODEL_605d71fa53444d2eafccb3dff56613fa",
            "placeholder": "​",
            "style": "IPY_MODEL_c765a0bad780462483ad5cf3c725313c",
            "value": "pytorch_model.bin: 100%"
          }
        },
        "e30d59c093de428591a1c5eff30f7f93": {
          "model_module": "@jupyter-widgets/controls",
          "model_name": "FloatProgressModel",
          "model_module_version": "1.5.0",
          "state": {
            "_dom_classes": [],
            "_model_module": "@jupyter-widgets/controls",
            "_model_module_version": "1.5.0",
            "_model_name": "FloatProgressModel",
            "_view_count": null,
            "_view_module": "@jupyter-widgets/controls",
            "_view_module_version": "1.5.0",
            "_view_name": "ProgressView",
            "bar_style": "success",
            "description": "",
            "description_tooltip": null,
            "layout": "IPY_MODEL_2be25275ab29411fa634ea87dc7b39d6",
            "max": 435778770,
            "min": 0,
            "orientation": "horizontal",
            "style": "IPY_MODEL_9cc00091a4984f38b35f951af598d5b3",
            "value": 435778770
          }
        },
        "8d5ef06b52884106b227794175b137af": {
          "model_module": "@jupyter-widgets/controls",
          "model_name": "HTMLModel",
          "model_module_version": "1.5.0",
          "state": {
            "_dom_classes": [],
            "_model_module": "@jupyter-widgets/controls",
            "_model_module_version": "1.5.0",
            "_model_name": "HTMLModel",
            "_view_count": null,
            "_view_module": "@jupyter-widgets/controls",
            "_view_module_version": "1.5.0",
            "_view_name": "HTMLView",
            "description": "",
            "description_tooltip": null,
            "layout": "IPY_MODEL_59103e7677ec4d01842f808d936ff22c",
            "placeholder": "​",
            "style": "IPY_MODEL_15bf780d9073437fb9efa09bff48cf0a",
            "value": " 436M/436M [00:04&lt;00:00, 97.6MB/s]"
          }
        },
        "0449a3b1ea3349d49ed901f4aad84991": {
          "model_module": "@jupyter-widgets/base",
          "model_name": "LayoutModel",
          "model_module_version": "1.2.0",
          "state": {
            "_model_module": "@jupyter-widgets/base",
            "_model_module_version": "1.2.0",
            "_model_name": "LayoutModel",
            "_view_count": null,
            "_view_module": "@jupyter-widgets/base",
            "_view_module_version": "1.2.0",
            "_view_name": "LayoutView",
            "align_content": null,
            "align_items": null,
            "align_self": null,
            "border": null,
            "bottom": null,
            "display": null,
            "flex": null,
            "flex_flow": null,
            "grid_area": null,
            "grid_auto_columns": null,
            "grid_auto_flow": null,
            "grid_auto_rows": null,
            "grid_column": null,
            "grid_gap": null,
            "grid_row": null,
            "grid_template_areas": null,
            "grid_template_columns": null,
            "grid_template_rows": null,
            "height": null,
            "justify_content": null,
            "justify_items": null,
            "left": null,
            "margin": null,
            "max_height": null,
            "max_width": null,
            "min_height": null,
            "min_width": null,
            "object_fit": null,
            "object_position": null,
            "order": null,
            "overflow": null,
            "overflow_x": null,
            "overflow_y": null,
            "padding": null,
            "right": null,
            "top": null,
            "visibility": null,
            "width": null
          }
        },
        "605d71fa53444d2eafccb3dff56613fa": {
          "model_module": "@jupyter-widgets/base",
          "model_name": "LayoutModel",
          "model_module_version": "1.2.0",
          "state": {
            "_model_module": "@jupyter-widgets/base",
            "_model_module_version": "1.2.0",
            "_model_name": "LayoutModel",
            "_view_count": null,
            "_view_module": "@jupyter-widgets/base",
            "_view_module_version": "1.2.0",
            "_view_name": "LayoutView",
            "align_content": null,
            "align_items": null,
            "align_self": null,
            "border": null,
            "bottom": null,
            "display": null,
            "flex": null,
            "flex_flow": null,
            "grid_area": null,
            "grid_auto_columns": null,
            "grid_auto_flow": null,
            "grid_auto_rows": null,
            "grid_column": null,
            "grid_gap": null,
            "grid_row": null,
            "grid_template_areas": null,
            "grid_template_columns": null,
            "grid_template_rows": null,
            "height": null,
            "justify_content": null,
            "justify_items": null,
            "left": null,
            "margin": null,
            "max_height": null,
            "max_width": null,
            "min_height": null,
            "min_width": null,
            "object_fit": null,
            "object_position": null,
            "order": null,
            "overflow": null,
            "overflow_x": null,
            "overflow_y": null,
            "padding": null,
            "right": null,
            "top": null,
            "visibility": null,
            "width": null
          }
        },
        "c765a0bad780462483ad5cf3c725313c": {
          "model_module": "@jupyter-widgets/controls",
          "model_name": "DescriptionStyleModel",
          "model_module_version": "1.5.0",
          "state": {
            "_model_module": "@jupyter-widgets/controls",
            "_model_module_version": "1.5.0",
            "_model_name": "DescriptionStyleModel",
            "_view_count": null,
            "_view_module": "@jupyter-widgets/base",
            "_view_module_version": "1.2.0",
            "_view_name": "StyleView",
            "description_width": ""
          }
        },
        "2be25275ab29411fa634ea87dc7b39d6": {
          "model_module": "@jupyter-widgets/base",
          "model_name": "LayoutModel",
          "model_module_version": "1.2.0",
          "state": {
            "_model_module": "@jupyter-widgets/base",
            "_model_module_version": "1.2.0",
            "_model_name": "LayoutModel",
            "_view_count": null,
            "_view_module": "@jupyter-widgets/base",
            "_view_module_version": "1.2.0",
            "_view_name": "LayoutView",
            "align_content": null,
            "align_items": null,
            "align_self": null,
            "border": null,
            "bottom": null,
            "display": null,
            "flex": null,
            "flex_flow": null,
            "grid_area": null,
            "grid_auto_columns": null,
            "grid_auto_flow": null,
            "grid_auto_rows": null,
            "grid_column": null,
            "grid_gap": null,
            "grid_row": null,
            "grid_template_areas": null,
            "grid_template_columns": null,
            "grid_template_rows": null,
            "height": null,
            "justify_content": null,
            "justify_items": null,
            "left": null,
            "margin": null,
            "max_height": null,
            "max_width": null,
            "min_height": null,
            "min_width": null,
            "object_fit": null,
            "object_position": null,
            "order": null,
            "overflow": null,
            "overflow_x": null,
            "overflow_y": null,
            "padding": null,
            "right": null,
            "top": null,
            "visibility": null,
            "width": null
          }
        },
        "9cc00091a4984f38b35f951af598d5b3": {
          "model_module": "@jupyter-widgets/controls",
          "model_name": "ProgressStyleModel",
          "model_module_version": "1.5.0",
          "state": {
            "_model_module": "@jupyter-widgets/controls",
            "_model_module_version": "1.5.0",
            "_model_name": "ProgressStyleModel",
            "_view_count": null,
            "_view_module": "@jupyter-widgets/base",
            "_view_module_version": "1.2.0",
            "_view_name": "StyleView",
            "bar_color": null,
            "description_width": ""
          }
        },
        "59103e7677ec4d01842f808d936ff22c": {
          "model_module": "@jupyter-widgets/base",
          "model_name": "LayoutModel",
          "model_module_version": "1.2.0",
          "state": {
            "_model_module": "@jupyter-widgets/base",
            "_model_module_version": "1.2.0",
            "_model_name": "LayoutModel",
            "_view_count": null,
            "_view_module": "@jupyter-widgets/base",
            "_view_module_version": "1.2.0",
            "_view_name": "LayoutView",
            "align_content": null,
            "align_items": null,
            "align_self": null,
            "border": null,
            "bottom": null,
            "display": null,
            "flex": null,
            "flex_flow": null,
            "grid_area": null,
            "grid_auto_columns": null,
            "grid_auto_flow": null,
            "grid_auto_rows": null,
            "grid_column": null,
            "grid_gap": null,
            "grid_row": null,
            "grid_template_areas": null,
            "grid_template_columns": null,
            "grid_template_rows": null,
            "height": null,
            "justify_content": null,
            "justify_items": null,
            "left": null,
            "margin": null,
            "max_height": null,
            "max_width": null,
            "min_height": null,
            "min_width": null,
            "object_fit": null,
            "object_position": null,
            "order": null,
            "overflow": null,
            "overflow_x": null,
            "overflow_y": null,
            "padding": null,
            "right": null,
            "top": null,
            "visibility": null,
            "width": null
          }
        },
        "15bf780d9073437fb9efa09bff48cf0a": {
          "model_module": "@jupyter-widgets/controls",
          "model_name": "DescriptionStyleModel",
          "model_module_version": "1.5.0",
          "state": {
            "_model_module": "@jupyter-widgets/controls",
            "_model_module_version": "1.5.0",
            "_model_name": "DescriptionStyleModel",
            "_view_count": null,
            "_view_module": "@jupyter-widgets/base",
            "_view_module_version": "1.2.0",
            "_view_name": "StyleView",
            "description_width": ""
          }
        }
      }
    }
  },
  "cells": [
    {
      "cell_type": "markdown",
      "metadata": {
        "id": "view-in-github",
        "colab_type": "text"
      },
      "source": [
        "<a href=\"https://colab.research.google.com/github/Anderson-Shin/Anderson-Shin/blob/main/STAT3612%EB%8D%B0%EC%9D%B4%ED%84%B0%EC%84%B8%ED%8A%B8%EC%97%90%EB%A7%9E%EC%B6%B0%EC%84%9C%EC%99%84%EB%B2%BD%ED%95%98%EA%B2%8C%EC%A0%95%EB%A6%AC.ipynb\" target=\"_parent\"><img src=\"https://colab.research.google.com/assets/colab-badge.svg\" alt=\"Open In Colab\"/></a>"
      ]
    },
    {
      "cell_type": "markdown",
      "source": [
        "#Raw Data"
      ],
      "metadata": {
        "id": "p-WsBmf9KodL"
      }
    },
    {
      "cell_type": "code",
      "source": [
        "from google.colab import drive\n",
        "import pandas as pd\n",
        "import numpy as np\n",
        "drive.mount('/content/drive')\n",
        "admission_path = '/content/drive/My Drive/STAT3612_dataset/admissions.csv'\n",
        "discharge_path = '/content/drive/My Drive/STAT3612_dataset/discharge.csv'\n",
        "df_adm = pd.read_csv(admission_path)\n",
        "df_discharge = pd.read_csv(discharge_path)"
      ],
      "metadata": {
        "colab": {
          "base_uri": "https://localhost:8080/"
        },
        "id": "dAflRf6sKgnI",
        "outputId": "04a57c5f-4f29-4ad6-87ec-d780a5db9e74"
      },
      "execution_count": null,
      "outputs": [
        {
          "output_type": "stream",
          "name": "stdout",
          "text": [
            "Mounted at /content/drive\n"
          ]
        }
      ]
    },
    {
      "cell_type": "markdown",
      "source": [
        "Dataframe implemented here are raw data from MIMIC IV data set. Where df_adm(contains admission data such as admittime, discharge time and so on)is admission data and df_discharge is discharge data(contain discharge notes, note type, chart time and so on)"
      ],
      "metadata": {
        "id": "Aunf0Q1RLMtF"
      }
    },
    {
      "cell_type": "code",
      "source": [
        "# ADMISSIONS Data\n",
        "df_adm1 = df_adm.copy()\n",
        "df_adm1.admittime = pd.to_datetime(df_adm1.admittime, format='%Y-%m-%d %H:%M:%S', errors='coerce')\n",
        "df_adm1.dischtime = pd.to_datetime(df_adm1.dischtime, format='%Y-%m-%d %H:%M:%S', errors='coerce')\n",
        "df_adm1.deathtime = pd.to_datetime(df_adm1.deathtime, format='%Y-%m-%d %H:%M:%S', errors='coerce')\n",
        "\n",
        "# arrange according to subject_id and admittime\n",
        "df_adm1 = df_adm1.sort_values(['subject_id', 'admittime']).reset_index(drop=True)\n",
        "\n",
        "# next_admittime & next_admission_type creation\n",
        "df_adm1['next_admittime'] = df_adm1.groupby('subject_id').admittime.shift(-1)\n",
        "df_adm1['next_admission_type'] = df_adm1.groupby('subject_id').admission_type.shift(-1)\n",
        "\n",
        "# # eliminate ELECTIVE type\n",
        "# df_adm1 = df_adm1[df_adm1['admission_type'] != 'ELECTIVE']\n",
        "\n",
        "# rearrange and calculate days between next admission\n",
        "df_adm1 = df_adm1.sort_values(['subject_id', 'admittime'])\n",
        "df_adm1[['next_admittime', 'next_admission_type']] = df_adm1.groupby(['subject_id'])[['next_admittime', 'next_admission_type']].fillna(method='bfill')\n",
        "df_adm1['days_next_admit'] = (df_adm1.next_admittime - df_adm1.dischtime).dt.total_seconds() / (24 * 60 * 60)\n",
        "\n",
        "# creat output_label intto readmitted_within_30days\n",
        "df_adm1['output_label'] = (df_adm1.days_next_admit < 30).astype('int')\n",
        "df_adm1['id'] = df_adm['subject_id'].astype(str) + '_' + df_adm['hadm_id'].astype(str)\n",
        "df_adm1 = df_adm1[['id'] + [col for col in df_adm1.columns if col != 'id']]\n",
        "df_adm1 = df_adm1.rename(columns={'output_label': 'readmitted_within_30days'})\n"
      ],
      "metadata": {
        "colab": {
          "base_uri": "https://localhost:8080/"
        },
        "id": "ICmjCtleNQeg",
        "outputId": "1723d04e-8d9f-4efb-acb6-cd0ea046cd74",
        "collapsed": true
      },
      "execution_count": null,
      "outputs": [
        {
          "output_type": "stream",
          "name": "stderr",
          "text": [
            "<ipython-input-2-a3278ed3b1a7>:19: FutureWarning: DataFrameGroupBy.fillna is deprecated and will be removed in a future version. Use obj.ffill() or obj.bfill() for forward or backward filling instead. If you want to fill with a single value, use DataFrame.fillna instead\n",
            "  df_adm1[['next_admittime', 'next_admission_type']] = df_adm1.groupby(['subject_id'])[['next_admittime', 'next_admission_type']].fillna(method='bfill')\n",
            "<ipython-input-2-a3278ed3b1a7>:19: FutureWarning: DataFrame.fillna with 'method' is deprecated and will raise in a future version. Use obj.ffill() or obj.bfill() instead.\n",
            "  df_adm1[['next_admittime', 'next_admission_type']] = df_adm1.groupby(['subject_id'])[['next_admittime', 'next_admission_type']].fillna(method='bfill')\n",
            "<ipython-input-2-a3278ed3b1a7>:19: FutureWarning: Downcasting object dtype arrays on .fillna, .ffill, .bfill is deprecated and will change in a future version. Call result.infer_objects(copy=False) instead. To opt-in to the future behavior, set `pd.set_option('future.no_silent_downcasting', True)`\n",
            "  df_adm1[['next_admittime', 'next_admission_type']] = df_adm1.groupby(['subject_id'])[['next_admittime', 'next_admission_type']].fillna(method='bfill')\n"
          ]
        }
      ]
    },
    {
      "cell_type": "markdown",
      "source": [
        "Above code trims the admission dataframe into extended dataframe with calculation of days between readmission and create the classification column in 0 and 1 according to readmitted_within_30days.I have added extra column 'id' as 'subject_id'+'_'+'hadm_id' for further use for data set given in the 3612 course and also changed the 'output_label' to 'readmitted_within_30days' to match dataframe flow for 3612 course data."
      ],
      "metadata": {
        "id": "28BZaSdATfa4"
      }
    },
    {
      "cell_type": "code",
      "source": [
        "# Discharge data -> Notes Data\n",
        "df_discharge1 = df_discharge.copy()\n",
        "df_discharge1['charttime'] = pd.to_datetime(df_discharge1['charttime']).dt.date\n",
        "df_adm1['admittime'] = pd.to_datetime(df_adm1['admittime']).dt.date\n",
        "df_adm1['dischtime'] = pd.to_datetime(df_adm1['dischtime']).dt.date\n",
        "df_discharge1['id'] = df_discharge1['subject_id'].astype(str) + '_' + df_discharge1['hadm_id'].astype(str)\n",
        "df_discharge1 = df_discharge1[['id'] + [col for col in df_discharge1.columns if col != 'id']]\n",
        "\n"
      ],
      "metadata": {
        "id": "PP6DdJJ0S5sW"
      },
      "execution_count": null,
      "outputs": []
    },
    {
      "cell_type": "markdown",
      "source": [
        "After loading the discharge data, I have changed the time format of admittime and dischtime into date since charttime in discharge data only contain the date but not timestamps. Then I have added 'id' column that I forementioned above to align with STAT3612 data set frame."
      ],
      "metadata": {
        "id": "x3sOrFSoMMNh"
      }
    },
    {
      "cell_type": "code",
      "source": [
        "def clean_and_merge_adm_discharge(df_adm1, df_discharge1):\n",
        "    \"\"\"\n",
        "    Merges admission and discharge dataframes, resolves '_x' and '_y' suffixes, and keeps meaningful columns.\n",
        "\n",
        "    Parameters:\n",
        "        df_adm1 (pd.DataFrame): DataFrame containing admission data.\n",
        "        df_discharge1 (pd.DataFrame): DataFrame containing discharge data.\n",
        "\n",
        "    Returns:\n",
        "        pd.DataFrame: Cleaned and merged DataFrame.\n",
        "    \"\"\"\n",
        "    # Perform the merge\n",
        "    merged_df = pd.merge(df_adm1, df_discharge1, on='id', how='inner')\n",
        "\n",
        "    # Rename or drop columns with suffixes _x and _y\n",
        "    column_mapping = {\n",
        "        'subject_id_x': 'subject_id',\n",
        "        'hadm_id_x': 'hadm_id',\n",
        "        'admittime': 'admittime',\n",
        "        'dischtime': 'dischtime',\n",
        "        'deathtime': 'deathtime',\n",
        "        'subject_id_y': 'discharge_subject_id',\n",
        "        'hadm_id_y': 'discharge_hadm_id'\n",
        "    }\n",
        "\n",
        "    # Rename the columns based on mapping\n",
        "    merged_df.rename(columns=column_mapping, inplace=True)\n",
        "\n",
        "    # Drop redundant columns if they don't add value\n",
        "    merged_df.drop(['discharge_subject_id', 'discharge_hadm_id'], axis=1, inplace=True)\n",
        "\n",
        "    return merged_df\n",
        "\n",
        "\n",
        "df_adm_notes = clean_and_merge_adm_discharge(df_adm1, df_discharge1)\n",
        "\n"
      ],
      "metadata": {
        "collapsed": true,
        "id": "Dm-3ZuP3PeqU"
      },
      "execution_count": null,
      "outputs": []
    },
    {
      "cell_type": "markdown",
      "source": [
        "Merge discharge and admission dataframe into a single dataframe according to 'id' column"
      ],
      "metadata": {
        "id": "HBRyd5o1MoGa"
      }
    },
    {
      "cell_type": "code",
      "source": [
        "def check_column_values(df, column_name):\n",
        "    \"\"\"\n",
        "    Prints unique values and value counts of a specified column in the dataframe.\n",
        "\n",
        "    Parameters:\n",
        "        df (pd.DataFrame): The dataframe to inspect.\n",
        "        column_name (str): The column whose values need to be checked.\n",
        "    \"\"\"\n",
        "    print(f\"Unique values in column '{column_name}':\")\n",
        "    print(df[column_name].unique())  # Display unique values\n",
        "\n",
        "    print(\"\\nValue counts in column '{column_name}':\")\n",
        "    print(df[column_name].value_counts())  # Display counts of each unique value\n",
        "check_column_values(df_discharge1, 'note_type')\n"
      ],
      "metadata": {
        "colab": {
          "base_uri": "https://localhost:8080/"
        },
        "id": "VcXgEyRjR1aS",
        "outputId": "527df56e-131f-4fe3-bc8e-9f4ad913aeb3"
      },
      "execution_count": null,
      "outputs": [
        {
          "output_type": "stream",
          "name": "stdout",
          "text": [
            "Unique values in column 'note_type':\n",
            "['DS']\n",
            "\n",
            "Value counts in column '{column_name}':\n",
            "note_type\n",
            "DS    331793\n",
            "Name: count, dtype: int64\n"
          ]
        }
      ]
    },
    {
      "cell_type": "markdown",
      "source": [
        "Further clean the dataframe according to the note_type so that it only contains discharge text data in the dataframe."
      ],
      "metadata": {
        "id": "b4U2SePTSo2R"
      }
    },
    {
      "cell_type": "code",
      "source": [
        "import pandas as pd\n",
        "\n",
        "def merge_adm_discharge(df_adm1, df_discharge1):\n",
        "    \"\"\"\n",
        "    Merges the admission and discharge dataframes on the 'id' column and filters relevant columns.\n",
        "\n",
        "    Parameters:\n",
        "        df_adm1 (pd.DataFrame): DataFrame containing admission data.\n",
        "        df_discharge1 (pd.DataFrame): DataFrame containing discharge data.\n",
        "\n",
        "    Returns:\n",
        "        pd.DataFrame: Merged DataFrame with columns 'id', 'subject_id', 'hadm_id', 'text', and 'readmitted_within_30days'.\n",
        "    \"\"\"\n",
        "    # Filter df_discharge1 for rows where note_type is 'DS'\n",
        "    df_discharge_filtered = df_discharge1[df_discharge1['note_type'] == 'DS']\n",
        "\n",
        "    # Select only the necessary columns from df_discharge1\n",
        "    df_discharge_filtered = df_discharge_filtered[['id', 'text']]\n",
        "\n",
        "    # Select only the necessary columns from df_adm1\n",
        "    df_adm_filtered = df_adm1[['id', 'subject_id', 'hadm_id', 'readmitted_within_30days']]\n",
        "\n",
        "    # Merge the two dataframes on the 'id' column\n",
        "    merged_df = pd.merge(df_adm_filtered, df_discharge_filtered, on='id', how='inner')\n",
        "\n",
        "    return merged_df\n",
        "\n",
        "discharge_only = merge_adm_discharge(df_adm1, df_discharge1)\n"
      ],
      "metadata": {
        "id": "0y_bpAK2NyFp"
      },
      "execution_count": null,
      "outputs": []
    },
    {
      "cell_type": "markdown",
      "source": [
        "Trim the discharge_only dataframe according to the format which contains id,subject_id, hadm_id, text and readmitted_within_30days columns."
      ],
      "metadata": {
        "id": "Rp92KIzDM9GT"
      }
    },
    {
      "cell_type": "code",
      "source": [
        "# charttime 및 admittime_C 처리\n",
        "df_adm_notes['admittime_C'] = df_adm_notes.admittime.apply(lambda x: str(x).split(' ')[0])\n",
        "df_adm_notes['admittime_C'] = pd.to_datetime(df_adm_notes.admittime_C, format='%Y-%m-%d', errors='coerce')\n",
        "df_adm_notes['charttime'] = pd.to_datetime(df_adm_notes.charttime, format='%Y-%m-%d', errors='coerce')"
      ],
      "metadata": {
        "id": "bfYw-D4APNlj"
      },
      "execution_count": null,
      "outputs": []
    },
    {
      "cell_type": "markdown",
      "source": [
        "Change the timestamp data in to date format for calcuation of days in between admission time and chart time to get early notes dataframe."
      ],
      "metadata": {
        "id": "tNLVsou1NRpE"
      }
    },
    {
      "cell_type": "code",
      "source": [
        "from datetime import timedelta\n",
        "\n",
        "def prepare_clinical_data(df_adm1, df_discharge1, n_days):\n",
        "    # Ensure datetime conversion for 'admittime' and 'charttime'\n",
        "    df_adm1['admittime'] = pd.to_datetime(df_adm1['admittime'])\n",
        "    df_discharge1['charttime'] = pd.to_datetime(df_discharge1['charttime'])\n",
        "\n",
        "    # Merging the two dataframes on subject_id and hadm_id\n",
        "    df_merged = pd.merge(\n",
        "        df_adm1[['subject_id', 'hadm_id', 'admittime', 'readmitted_within_30days']],\n",
        "        df_discharge1[['subject_id', 'hadm_id', 'charttime', 'text']],\n",
        "        on=['subject_id', 'hadm_id'],\n",
        "        how='inner'\n",
        "    )\n",
        "\n",
        "    # Calculate the difference between charttime and admission time to check if it is within n_days\n",
        "    df_merged['days_from_admission'] = (df_merged['charttime'] - df_merged['admittime']).dt.days\n",
        "\n",
        "    # Filter based on n_days\n",
        "    df_merged = df_merged[df_merged['days_from_admission'] < n_days]\n",
        "\n",
        "    # Remove the 'days_from_admission' column as it's not needed for the final output\n",
        "    df_merged = df_merged.drop(columns=['days_from_admission'])\n",
        "\n",
        "    # Create the final dataframe with separate subject_id, hadm_id, text, and readmitted_within_30days\n",
        "    df_final = df_merged[['subject_id', 'hadm_id', 'text', 'readmitted_within_30days']]\n",
        "\n",
        "    # Optional: If you want to use 'id' as a combination of subject_id and hadm_id, you can create it\n",
        "    df_final['id'] = df_final['subject_id'].astype(str) + '_' + df_final['hadm_id'].astype(str)\n",
        "\n",
        "    return df_final\n",
        "\n",
        "\n",
        "df_less_2 = prepare_clinical_data(df_adm1, df_discharge1, 2)\n",
        "df_less_3 = prepare_clinical_data(df_adm1, df_discharge1, 3)\n",
        "print(df_less_2.shape)\n",
        "print(df_less_3.shape)\n"
      ],
      "metadata": {
        "colab": {
          "base_uri": "https://localhost:8080/"
        },
        "id": "qheZ6qJun3Nj",
        "outputId": "45219b15-b9ee-43fe-c3b4-67887090b5d0",
        "collapsed": true
      },
      "execution_count": null,
      "outputs": [
        {
          "output_type": "stream",
          "name": "stderr",
          "text": [
            "<ipython-input-11-8f4d2ce7c5e7>:29: SettingWithCopyWarning: \n",
            "A value is trying to be set on a copy of a slice from a DataFrame.\n",
            "Try using .loc[row_indexer,col_indexer] = value instead\n",
            "\n",
            "See the caveats in the documentation: https://pandas.pydata.org/pandas-docs/stable/user_guide/indexing.html#returning-a-view-versus-a-copy\n",
            "  df_final['id'] = df_final['subject_id'].astype(str) + '_' + df_final['hadm_id'].astype(str)\n"
          ]
        },
        {
          "output_type": "stream",
          "name": "stdout",
          "text": [
            "(65143, 5)\n",
            "(119416, 5)\n"
          ]
        },
        {
          "output_type": "stream",
          "name": "stderr",
          "text": [
            "<ipython-input-11-8f4d2ce7c5e7>:29: SettingWithCopyWarning: \n",
            "A value is trying to be set on a copy of a slice from a DataFrame.\n",
            "Try using .loc[row_indexer,col_indexer] = value instead\n",
            "\n",
            "See the caveats in the documentation: https://pandas.pydata.org/pandas-docs/stable/user_guide/indexing.html#returning-a-view-versus-a-copy\n",
            "  df_final['id'] = df_final['subject_id'].astype(str) + '_' + df_final['hadm_id'].astype(str)\n"
          ]
        }
      ]
    },
    {
      "cell_type": "markdown",
      "source": [
        "df_less_2 indicating that this dataframe contains early note dataframe with same columns as discharge_only dataframe above but the text data is based on 2 days after the admission."
      ],
      "metadata": {
        "id": "72WZzOZONdWC"
      }
    },
    {
      "cell_type": "code",
      "source": [
        "import pandas as pd\n",
        "\n",
        "def label_percentage(df):\n",
        "    # Calculate the count of 0s and 1s in the 'Label' column\n",
        "    label_counts = df['readmitted_within_30days'].value_counts(normalize=True) * 100\n",
        "\n",
        "    # Return the percentages\n",
        "    return label_counts\n",
        "label_percentage(discharge_only)"
      ],
      "metadata": {
        "colab": {
          "base_uri": "https://localhost:8080/",
          "height": 178
        },
        "id": "vdHp96HWO1du",
        "outputId": "bb7cea44-28be-4cbb-c408-c1cfa362aae5"
      },
      "execution_count": null,
      "outputs": [
        {
          "output_type": "execute_result",
          "data": {
            "text/plain": [
              "readmitted_within_30days\n",
              "0    82.21142\n",
              "1    17.78858\n",
              "Name: proportion, dtype: float64"
            ],
            "text/html": [
              "<div>\n",
              "<style scoped>\n",
              "    .dataframe tbody tr th:only-of-type {\n",
              "        vertical-align: middle;\n",
              "    }\n",
              "\n",
              "    .dataframe tbody tr th {\n",
              "        vertical-align: top;\n",
              "    }\n",
              "\n",
              "    .dataframe thead th {\n",
              "        text-align: right;\n",
              "    }\n",
              "</style>\n",
              "<table border=\"1\" class=\"dataframe\">\n",
              "  <thead>\n",
              "    <tr style=\"text-align: right;\">\n",
              "      <th></th>\n",
              "      <th>proportion</th>\n",
              "    </tr>\n",
              "    <tr>\n",
              "      <th>readmitted_within_30days</th>\n",
              "      <th></th>\n",
              "    </tr>\n",
              "  </thead>\n",
              "  <tbody>\n",
              "    <tr>\n",
              "      <th>0</th>\n",
              "      <td>82.21142</td>\n",
              "    </tr>\n",
              "    <tr>\n",
              "      <th>1</th>\n",
              "      <td>17.78858</td>\n",
              "    </tr>\n",
              "  </tbody>\n",
              "</table>\n",
              "</div><br><label><b>dtype:</b> float64</label>"
            ]
          },
          "metadata": {},
          "execution_count": 12
        }
      ]
    },
    {
      "cell_type": "markdown",
      "source": [
        "Check the class imbalance between 0 and 1 for dataframe trimmed. As a result, we can observe that the ratio of 0 to 1 is approximately 18:82, showing bias for class distribution (too many 1 values compare to 0)"
      ],
      "metadata": {
        "id": "aq4eQqsPNpop"
      }
    },
    {
      "cell_type": "code",
      "source": [
        "discharge_only.to_csv('/content/drive/My Drive/STAT3612_dataset/raw_data/df_raw_discharge_only.csv', index=False)\n",
        "df_adm1.to_csv('/content/drive/My Drive/STAT3612_dataset/raw_data/df_raw_adm1.csv', index=False)\n",
        "df_adm_notes.to_csv('/content/drive/My Drive/STAT3612_dataset/raw_data/df_raw_adm_notes.csv', index=False)\n",
        "df_less_2.to_csv('/content/drive/My Drive/STAT3612_dataset/raw_data/df_raw_less_2.csv', index=False)\n",
        "df_less_3.to_csv('/content/drive/My Drive/STAT3612_dataset/raw_data/df_raw_less_3.csv', index=False)\n"
      ],
      "metadata": {
        "id": "j9kkXEXKdl5R"
      },
      "execution_count": null,
      "outputs": []
    },
    {
      "cell_type": "markdown",
      "source": [
        "I will handle the imbalance issues in the coming blocks of code below."
      ],
      "metadata": {
        "id": "XK3NOazKOSdI"
      }
    },
    {
      "cell_type": "markdown",
      "source": [
        "#STAT3612 data"
      ],
      "metadata": {
        "id": "9k0w8UgsqFXj"
      }
    },
    {
      "cell_type": "markdown",
      "source": [
        "This Section mainly focus on the test,val,train dataset given by the course."
      ],
      "metadata": {
        "id": "eVbwB7KZOiRj"
      }
    },
    {
      "cell_type": "code",
      "execution_count": null,
      "metadata": {
        "colab": {
          "base_uri": "https://localhost:8080/"
        },
        "id": "veXoesg30yE8",
        "outputId": "87dcbdc4-c88d-4a06-8ff5-7b6faa4af208"
      },
      "outputs": [
        {
          "output_type": "stream",
          "name": "stdout",
          "text": [
            "Mounted at /content/drive\n"
          ]
        }
      ],
      "source": [
        "from google.colab import drive\n",
        "import pandas as pd\n",
        "import numpy as np\n",
        "drive.mount('/content/drive')\n",
        "admission_path = '/content/drive/My Drive/STAT3612_dataset/admissions.csv'\n",
        "discharge_path = '/content/drive/My Drive/STAT3612_dataset/discharge.csv'\n",
        "train = pd.read_csv('/content/drive/My Drive/STAT3612_dataset/train.csv')\n",
        "test = pd.read_csv('/content/drive/My Drive/STAT3612_dataset/test.csv')\n",
        "val = pd.read_csv('/content/drive/My Drive/STAT3612_dataset/valid.csv')\n",
        "notes = pd.read_csv('/content/drive/My Drive/STAT3612_dataset/notes.csv')"
      ]
    },
    {
      "cell_type": "code",
      "source": [
        "print(train.shape)\n",
        "print(val.shape)\n",
        "print(test.shape)"
      ],
      "metadata": {
        "id": "fLX8OQ6GkvEi",
        "colab": {
          "base_uri": "https://localhost:8080/"
        },
        "outputId": "0bde316b-9dee-4acc-cd84-5ab9253cd55c"
      },
      "execution_count": null,
      "outputs": [
        {
          "output_type": "stream",
          "name": "stdout",
          "text": [
            "(49451, 8)\n",
            "(16721, 8)\n",
            "(16293, 7)\n"
          ]
        }
      ]
    },
    {
      "cell_type": "code",
      "source": [
        "# Check for duplicates in the 'id' column\n",
        "duplicates = test['id'].duplicated()\n",
        "\n",
        "# Count the number of duplicates\n",
        "num_duplicates = duplicates.sum()\n",
        "print(f\"There are {num_duplicates} duplicated entries in the 'id' column.\")\n",
        "\n",
        "# Optionally, display all duplicate rows\n",
        "if num_duplicates > 0:\n",
        "    duplicate_rows = df_adm1[df_adm1['id'].duplicated(keep=False)]\n",
        "    print(\"Duplicate rows:\")\n",
        "    print(duplicate_rows)\n",
        "else:\n",
        "    print(\"No duplicates found in the 'id' column.\")"
      ],
      "metadata": {
        "id": "s6UD49CZk9_m",
        "colab": {
          "base_uri": "https://localhost:8080/"
        },
        "outputId": "a6926878-1a22-4c63-9d13-a78687a95cbd"
      },
      "execution_count": null,
      "outputs": [
        {
          "output_type": "stream",
          "name": "stdout",
          "text": [
            "There are 13552 duplicated entries in the 'id' column.\n",
            "Duplicate rows:\n",
            "Empty DataFrame\n",
            "Columns: [id, subject_id, hadm_id, admittime, dischtime, deathtime, admission_type, admission_location, discharge_location, insurance, language, marital_status, ethnicity, edregtime, edouttime, hospital_expire_flag, next_admittime, next_admission_type, days_next_admit, readmitted_within_30days]\n",
            "Index: []\n"
          ]
        }
      ]
    },
    {
      "cell_type": "markdown",
      "source": [
        "As we can observe, there are many duplicates in id column and we need to further check the consistency of 'readmitted_within_30days' columns for duplicated id values"
      ],
      "metadata": {
        "id": "e-LkXlFwOq56"
      }
    },
    {
      "cell_type": "markdown",
      "source": [
        "check whether there is consistency with duplicates in id colum for test,val,train with readmitted values"
      ],
      "metadata": {
        "id": "TczwVvBNFxPt"
      }
    },
    {
      "cell_type": "code",
      "source": [
        "import pandas as pd\n",
        "\n",
        "def check_readmission_consistency(df):\n",
        "    \"\"\"\n",
        "    This function checks if all rows with duplicated 'id' values have the same value\n",
        "    for 'readmitted_within_30days'.\n",
        "\n",
        "    Parameters:\n",
        "    df (pd.DataFrame): The input pandas DataFrame.\n",
        "\n",
        "    Returns:\n",
        "    bool: True if all duplicated 'id' values have consistent 'readmitted_within_30days',\n",
        "          False otherwise.\n",
        "    \"\"\"\n",
        "    # Find duplicated 'id' values\n",
        "    duplicated_ids = df[df.duplicated(subset='id', keep=False)]\n",
        "\n",
        "    # Group by 'id' and check if all 'readmitted_within_30days' values are the same within each group\n",
        "    consistent = duplicated_ids.groupby('id')['readmitted_within_30days'].nunique().eq(1).all()\n",
        "\n",
        "    return consistent\n",
        "\n",
        "# Check for consistency\n",
        "result = check_readmission_consistency(train)\n",
        "\n",
        "# Print the result\n",
        "if result:\n",
        "    print(\"All duplicated 'id' values have the same 'readmitted_within_30days' value.\")\n",
        "else:\n",
        "    print(\"Some duplicated 'id' values have different 'readmitted_within_30days' values.\")\n"
      ],
      "metadata": {
        "id": "23yDDWzQ_7Ti",
        "colab": {
          "base_uri": "https://localhost:8080/"
        },
        "outputId": "c52a6e55-5953-4aa9-98fd-2390bf645a33"
      },
      "execution_count": null,
      "outputs": [
        {
          "output_type": "stream",
          "name": "stdout",
          "text": [
            "All duplicated 'id' values have the same 'readmitted_within_30days' value.\n"
          ]
        }
      ]
    },
    {
      "cell_type": "markdown",
      "source": [
        "It seems there is no inconsistency between duplicated id values and we can then remove does duplicates"
      ],
      "metadata": {
        "id": "jnomQ-S1PFMt"
      }
    },
    {
      "cell_type": "code",
      "source": [
        "import pandas as pd\n",
        "\n",
        "def eliminate_duplicates(df, column_name):\n",
        "    \"\"\"\n",
        "    This function takes a pandas DataFrame and a column name as input,\n",
        "    and returns a new DataFrame with duplicates removed from the specified column.\n",
        "\n",
        "    Parameters:\n",
        "    df (pd.DataFrame): The input pandas DataFrame.\n",
        "    column_name (str): The name of the column from which duplicates will be removed.\n",
        "\n",
        "    Returns:\n",
        "    pd.DataFrame: A new DataFrame with duplicates removed in the specified column.\n",
        "    \"\"\"\n",
        "    # Drop duplicates based on the specified column\n",
        "    df_unique = df.drop_duplicates(subset=[column_name]).reset_index(drop=True)\n",
        "    return df_unique\n",
        "\n",
        "# Example usage:\n",
        "# Assuming 'train' is your input DataFrame and 'id' is the column of interest\n",
        "train_unique = eliminate_duplicates(train, 'id')\n",
        "val_unique = eliminate_duplicates(val, 'id')\n",
        "test_unique = eliminate_duplicates(test, 'id')\n",
        "print(train_unique.shape)\n",
        "print(val_unique.shape)\n",
        "print(test_unique.shape)"
      ],
      "metadata": {
        "id": "YSQgJStqBUD8",
        "colab": {
          "base_uri": "https://localhost:8080/"
        },
        "outputId": "d1d859f7-3efb-4285-f8a3-19011455f2aa"
      },
      "execution_count": null,
      "outputs": [
        {
          "output_type": "stream",
          "name": "stdout",
          "text": [
            "(8234, 8)\n",
            "(2788, 8)\n",
            "(2741, 7)\n"
          ]
        }
      ]
    },
    {
      "cell_type": "markdown",
      "source": [
        "Succesfully removed all duplicates and now the dataframes have its only id values"
      ],
      "metadata": {
        "id": "XXLrHpsoPNgr"
      }
    },
    {
      "cell_type": "code",
      "source": [
        "import pandas as pd\n",
        "\n",
        "def check_id_existence(train_unique, notes):\n",
        "    \"\"\"\n",
        "    This function checks if 'id' values in the train_unique dataframe\n",
        "    exist in the 'id' column of the notes dataframe. It then counts how many\n",
        "    exist and how many do not exist.\n",
        "\n",
        "    Parameters:\n",
        "    train_unique (pd.DataFrame): The dataframe containing 'id' values to check.\n",
        "    notes (pd.DataFrame): The dataframe in which the 'id' values are being checked.\n",
        "\n",
        "    Returns:\n",
        "    dict: A dictionary containing counts of existing and non-existing 'id' values.\n",
        "    \"\"\"\n",
        "    # Check if 'id' in train_unique exists in 'id' column of notes\n",
        "    existing_ids = train_unique['id'].isin(notes['id'])\n",
        "\n",
        "    # Count the number of existing and non-existing 'id' values\n",
        "    num_existing = existing_ids.sum()  # True counts as 1\n",
        "    num_non_existing = len(existing_ids) - num_existing  # Total - existing\n",
        "\n",
        "    return {\n",
        "        'existing_count': num_existing,\n",
        "        'non_existing_count': num_non_existing\n",
        "    }\n",
        "\n",
        "# Example usage:\n",
        "# Assuming train_unique and notes are your dataframes\n",
        "\n",
        "\n",
        "# Call the function to check existence\n",
        "result = check_id_existence(test_unique,notes)\n",
        "\n",
        "# Print the result\n",
        "print(f\"Number of 'id' values that exist: {result['existing_count']}\")\n",
        "print(f\"Number of 'id' values that do not exist: {result['non_existing_count']}\")\n",
        "\n"
      ],
      "metadata": {
        "id": "LSIVjbOWEfB9",
        "colab": {
          "base_uri": "https://localhost:8080/"
        },
        "outputId": "5a83fb38-2556-43a1-80ff-ef5df08aca29"
      },
      "execution_count": null,
      "outputs": [
        {
          "output_type": "stream",
          "name": "stdout",
          "text": [
            "Number of 'id' values that exist: 2741\n",
            "Number of 'id' values that do not exist: 0\n"
          ]
        }
      ]
    },
    {
      "cell_type": "markdown",
      "source": [
        "Now, we need to check whether id values in the train,val,test data exist in the discharge_only dataframe (because this contains the actual ground truth for readmission label for test data)"
      ],
      "metadata": {
        "id": "zNS01yJNPfdv"
      }
    },
    {
      "cell_type": "code",
      "source": [
        "import pandas as pd\n",
        "\n",
        "def merge_dataframes(notes, train_unique):\n",
        "    \"\"\"\n",
        "    Merges the 'notes' and 'train_unique' dataframes on 'id', 'subject_id', and 'hadm_id'.\n",
        "\n",
        "    Parameters:\n",
        "        notes (pd.DataFrame): DataFrame containing clinical notes.\n",
        "        train_unique (pd.DataFrame): DataFrame containing readmission information.\n",
        "\n",
        "    Returns:\n",
        "        pd.DataFrame: Merged DataFrame with columns ['id', 'subject_id', 'hadm_id', 'text', 'readmitted_within_30days'].\n",
        "    \"\"\"\n",
        "    # Perform an inner merge on the specified columns\n",
        "    merged_df = pd.merge(\n",
        "        notes[['id', 'subject_id', 'hadm_id', 'text']],\n",
        "        train_unique[['id', 'subject_id', 'hadm_id', 'readmitted_within_30days']],\n",
        "        on=['id', 'subject_id', 'hadm_id'],\n",
        "        how='inner'\n",
        "    )\n",
        "\n",
        "    # Check if 'readmitted_within_30days' is of boolean type and convert explicitly\n",
        "    if merged_df['readmitted_within_30days'].dtype == bool:\n",
        "        merged_df['readmitted_within_30days'] = merged_df['readmitted_within_30days'].astype(int)\n",
        "\n",
        "    # If it is not boolean, explicitly apply conversion to 0 and 1\n",
        "    else:\n",
        "        merged_df['readmitted_within_30days'] = merged_df['readmitted_within_30days'].apply(lambda x: 1 if x else 0)\n",
        "\n",
        "    # Select only the required columns in the specified order\n",
        "    merged_df = merged_df[['id', 'subject_id', 'hadm_id', 'text', 'readmitted_within_30days']]\n",
        "\n",
        "    return merged_df\n",
        "\n",
        "# Example usage\n",
        "train_notes = merge_dataframes(notes, train_unique)\n",
        "val_notes = merge_dataframes(notes, val_unique)\n",
        "\n",
        "print(train_notes.shape)\n",
        "print(val_notes.shape)\n"
      ],
      "metadata": {
        "id": "ce3RDUHyFbO_",
        "colab": {
          "base_uri": "https://localhost:8080/"
        },
        "outputId": "fa3bf8cb-26d9-4cec-ae4c-c84867b6c57a"
      },
      "execution_count": null,
      "outputs": [
        {
          "output_type": "stream",
          "name": "stdout",
          "text": [
            "(8234, 5)\n",
            "(2788, 5)\n"
          ]
        }
      ]
    },
    {
      "cell_type": "markdown",
      "source": [
        "Merge train, val dataframes with the notes datafile which was also given in the course."
      ],
      "metadata": {
        "id": "H6ffD4CnP3k3"
      }
    },
    {
      "cell_type": "code",
      "source": [
        "import pandas as pd\n",
        "\n",
        "def merge_dataframes_with_test(test_unique, df_adm_notes):\n",
        "    \"\"\"\n",
        "    Merges the 'test_unique' and 'df_adm_notes' dataframes on 'id'.\n",
        "    Adds 'readmitted_within_30days' and 'text' columns from df_adm_notes.\n",
        "\n",
        "    Parameters:\n",
        "        test_unique (pd.DataFrame): DataFrame containing 'id', 'subject_id', and 'hadm_id'.\n",
        "        df_adm_notes (pd.DataFrame): DataFrame containing clinical notes with 'id', 'readmitted_within_30days', and 'text'.\n",
        "\n",
        "    Returns:\n",
        "        pd.DataFrame: Merged DataFrame with selected columns.\n",
        "    \"\"\"\n",
        "    # Strip any extra whitespace from column names to avoid key errors\n",
        "    df_adm_notes.columns = df_adm_notes.columns.str.strip()\n",
        "    test_unique.columns = test_unique.columns.str.strip()\n",
        "\n",
        "    # Merge the dataframes on 'id' column\n",
        "    merged_df = pd.merge(\n",
        "        test_unique[['id', 'subject_id', 'hadm_id']],  # Columns from test_unique\n",
        "        df_adm_notes[['id', 'readmitted_within_30days', 'text']],  # Columns from df_adm_notes\n",
        "        on='id',\n",
        "        how='inner'  # Use 'inner' to keep only matching rows\n",
        "    )\n",
        "\n",
        "    return merged_df\n",
        "\n",
        "# Example usage\n",
        "test_notes = merge_dataframes_with_test(test_unique, df_adm_notes)\n",
        "\n",
        "# Print the resulting merged dataframe\n",
        "test_notes.shape\n"
      ],
      "metadata": {
        "id": "pIi7EIEnntOZ",
        "colab": {
          "base_uri": "https://localhost:8080/"
        },
        "outputId": "3705c458-10aa-4072-e5bf-677a887f6f24"
      },
      "execution_count": null,
      "outputs": [
        {
          "output_type": "execute_result",
          "data": {
            "text/plain": [
              "(2741, 5)"
            ]
          },
          "metadata": {},
          "execution_count": 21
        }
      ]
    },
    {
      "cell_type": "markdown",
      "source": [
        "For test dataframe, I merged with the df_adm_notes dataframe which we constructed in the raw data section. It is because test dataframe does not contain 'readmitted_within_30days' column and therefore, I used df_adm_notes which contains the ground truth for readmitted_within_30days and also text data."
      ],
      "metadata": {
        "id": "wDGA9ENEQATh"
      }
    },
    {
      "cell_type": "markdown",
      "source": [
        "check the class proportion"
      ],
      "metadata": {
        "id": "tjA7WvKQnC4W"
      }
    },
    {
      "cell_type": "code",
      "source": [
        "train_notes.to_csv('/content/drive/My Drive/STAT3612_dataset/STAT3612_data_preprocessing_final/train_notes.csv', index=False)\n",
        "val_notes.to_csv('/content/drive/My Drive/STAT3612_dataset/STAT3612_data_preprocessing_final/val_notes.csv', index=False)\n",
        "test_notes.to_csv('/content/drive/My Drive/STAT3612_dataset/STAT3612_data_preprocessing_final/test_notes.csv', index=False)\n"
      ],
      "metadata": {
        "id": "oA_C3cnJuSyk"
      },
      "execution_count": null,
      "outputs": []
    },
    {
      "cell_type": "code",
      "source": [
        "import pandas as pd\n",
        "\n",
        "def label_percentage(df):\n",
        "    # Calculate the count of 0s and 1s in the 'Label' column\n",
        "    label_counts = df['readmitted_within_30days'].value_counts(normalize=True) * 100\n",
        "\n",
        "    # Return the percentages\n",
        "    return label_counts\n",
        "label_percentage(test_notes)"
      ],
      "metadata": {
        "colab": {
          "base_uri": "https://localhost:8080/",
          "height": 178
        },
        "id": "MTs73ueAKPga",
        "outputId": "fefa6fb5-b636-4172-8993-77a7a49c7469"
      },
      "execution_count": null,
      "outputs": [
        {
          "output_type": "execute_result",
          "data": {
            "text/plain": [
              "readmitted_within_30days\n",
              "0    81.940897\n",
              "1    18.059103\n",
              "Name: proportion, dtype: float64"
            ],
            "text/html": [
              "<div>\n",
              "<style scoped>\n",
              "    .dataframe tbody tr th:only-of-type {\n",
              "        vertical-align: middle;\n",
              "    }\n",
              "\n",
              "    .dataframe tbody tr th {\n",
              "        vertical-align: top;\n",
              "    }\n",
              "\n",
              "    .dataframe thead th {\n",
              "        text-align: right;\n",
              "    }\n",
              "</style>\n",
              "<table border=\"1\" class=\"dataframe\">\n",
              "  <thead>\n",
              "    <tr style=\"text-align: right;\">\n",
              "      <th></th>\n",
              "      <th>proportion</th>\n",
              "    </tr>\n",
              "    <tr>\n",
              "      <th>readmitted_within_30days</th>\n",
              "      <th></th>\n",
              "    </tr>\n",
              "  </thead>\n",
              "  <tbody>\n",
              "    <tr>\n",
              "      <th>0</th>\n",
              "      <td>81.940897</td>\n",
              "    </tr>\n",
              "    <tr>\n",
              "      <th>1</th>\n",
              "      <td>18.059103</td>\n",
              "    </tr>\n",
              "  </tbody>\n",
              "</table>\n",
              "</div><br><label><b>dtype:</b> float64</label>"
            ]
          },
          "metadata": {},
          "execution_count": 23
        }
      ]
    },
    {
      "cell_type": "markdown",
      "source": [
        "Again when we check the proportion of readmitted_within_30days class proprotion it is about 82:18, indicating class bias. I will discuss about it later after text cleaning"
      ],
      "metadata": {
        "id": "qgzM6LHbQUtK"
      }
    },
    {
      "cell_type": "markdown",
      "source": [
        "# Text cleaning"
      ],
      "metadata": {
        "id": "Zfe1j4mfdHdK"
      }
    },
    {
      "cell_type": "code",
      "source": [
        "import nltk\n",
        "from nltk.corpus import stopwords\n",
        "import re\n",
        "from tqdm import tqdm\n"
      ],
      "metadata": {
        "id": "t4L4B3IldPHf",
        "colab": {
          "base_uri": "https://localhost:8080/",
          "height": 339
        },
        "outputId": "80a4fb68-68d5-4f4b-f2d3-741ac804f066",
        "collapsed": true
      },
      "execution_count": null,
      "outputs": [
        {
          "output_type": "error",
          "ename": "KeyboardInterrupt",
          "evalue": "",
          "traceback": [
            "\u001b[0;31m---------------------------------------------------------------------------\u001b[0m",
            "\u001b[0;31mKeyboardInterrupt\u001b[0m                         Traceback (most recent call last)",
            "\u001b[0;32m<ipython-input-1-d6e0e551bb67>\u001b[0m in \u001b[0;36m<cell line: 1>\u001b[0;34m()\u001b[0m\n\u001b[0;32m----> 1\u001b[0;31m \u001b[0;32mimport\u001b[0m \u001b[0mnltk\u001b[0m\u001b[0;34m\u001b[0m\u001b[0;34m\u001b[0m\u001b[0m\n\u001b[0m\u001b[1;32m      2\u001b[0m \u001b[0;32mfrom\u001b[0m \u001b[0mnltk\u001b[0m\u001b[0;34m.\u001b[0m\u001b[0mcorpus\u001b[0m \u001b[0;32mimport\u001b[0m \u001b[0mstopwords\u001b[0m\u001b[0;34m\u001b[0m\u001b[0;34m\u001b[0m\u001b[0m\n\u001b[1;32m      3\u001b[0m \u001b[0;32mimport\u001b[0m \u001b[0mre\u001b[0m\u001b[0;34m\u001b[0m\u001b[0;34m\u001b[0m\u001b[0m\n\u001b[1;32m      4\u001b[0m \u001b[0;32mfrom\u001b[0m \u001b[0mtqdm\u001b[0m \u001b[0;32mimport\u001b[0m \u001b[0mtqdm\u001b[0m\u001b[0;34m\u001b[0m\u001b[0;34m\u001b[0m\u001b[0m\n",
            "\u001b[0;32m/usr/local/lib/python3.10/dist-packages/nltk/__init__.py\u001b[0m in \u001b[0;36m<module>\u001b[0;34m\u001b[0m\n\u001b[1;32m    131\u001b[0m \u001b[0;31m# Import top-level functionality into top-level namespace\u001b[0m\u001b[0;34m\u001b[0m\u001b[0;34m\u001b[0m\u001b[0m\n\u001b[1;32m    132\u001b[0m \u001b[0;34m\u001b[0m\u001b[0m\n\u001b[0;32m--> 133\u001b[0;31m \u001b[0;32mfrom\u001b[0m \u001b[0mnltk\u001b[0m\u001b[0;34m.\u001b[0m\u001b[0mcollocations\u001b[0m \u001b[0;32mimport\u001b[0m \u001b[0;34m*\u001b[0m\u001b[0;34m\u001b[0m\u001b[0;34m\u001b[0m\u001b[0m\n\u001b[0m\u001b[1;32m    134\u001b[0m \u001b[0;32mfrom\u001b[0m \u001b[0mnltk\u001b[0m\u001b[0;34m.\u001b[0m\u001b[0mdecorators\u001b[0m \u001b[0;32mimport\u001b[0m \u001b[0mdecorator\u001b[0m\u001b[0;34m,\u001b[0m \u001b[0mmemoize\u001b[0m\u001b[0;34m\u001b[0m\u001b[0;34m\u001b[0m\u001b[0m\n\u001b[1;32m    135\u001b[0m \u001b[0;32mfrom\u001b[0m \u001b[0mnltk\u001b[0m\u001b[0;34m.\u001b[0m\u001b[0mfeatstruct\u001b[0m \u001b[0;32mimport\u001b[0m \u001b[0;34m*\u001b[0m\u001b[0;34m\u001b[0m\u001b[0;34m\u001b[0m\u001b[0m\n",
            "\u001b[0;32m/usr/local/lib/python3.10/dist-packages/nltk/collocations.py\u001b[0m in \u001b[0;36m<module>\u001b[0;34m\u001b[0m\n\u001b[1;32m     34\u001b[0m \u001b[0;34m\u001b[0m\u001b[0m\n\u001b[1;32m     35\u001b[0m \u001b[0;31m# these two unused imports are referenced in collocations.doctest\u001b[0m\u001b[0;34m\u001b[0m\u001b[0;34m\u001b[0m\u001b[0m\n\u001b[0;32m---> 36\u001b[0;31m from nltk.metrics import (\n\u001b[0m\u001b[1;32m     37\u001b[0m     \u001b[0mBigramAssocMeasures\u001b[0m\u001b[0;34m,\u001b[0m\u001b[0;34m\u001b[0m\u001b[0;34m\u001b[0m\u001b[0m\n\u001b[1;32m     38\u001b[0m     \u001b[0mContingencyMeasures\u001b[0m\u001b[0;34m,\u001b[0m\u001b[0;34m\u001b[0m\u001b[0;34m\u001b[0m\u001b[0m\n",
            "\u001b[0;32m/usr/local/lib/python3.10/dist-packages/nltk/metrics/__init__.py\u001b[0m in \u001b[0;36m<module>\u001b[0;34m\u001b[0m\n\u001b[1;32m     16\u001b[0m \u001b[0;32mfrom\u001b[0m \u001b[0mnltk\u001b[0m\u001b[0;34m.\u001b[0m\u001b[0mmetrics\u001b[0m\u001b[0;34m.\u001b[0m\u001b[0magreement\u001b[0m \u001b[0;32mimport\u001b[0m \u001b[0mAnnotationTask\u001b[0m\u001b[0;34m\u001b[0m\u001b[0;34m\u001b[0m\u001b[0m\n\u001b[1;32m     17\u001b[0m \u001b[0;32mfrom\u001b[0m \u001b[0mnltk\u001b[0m\u001b[0;34m.\u001b[0m\u001b[0mmetrics\u001b[0m\u001b[0;34m.\u001b[0m\u001b[0maline\u001b[0m \u001b[0;32mimport\u001b[0m \u001b[0malign\u001b[0m\u001b[0;34m\u001b[0m\u001b[0;34m\u001b[0m\u001b[0m\n\u001b[0;32m---> 18\u001b[0;31m from nltk.metrics.association import (\n\u001b[0m\u001b[1;32m     19\u001b[0m     \u001b[0mBigramAssocMeasures\u001b[0m\u001b[0;34m,\u001b[0m\u001b[0;34m\u001b[0m\u001b[0;34m\u001b[0m\u001b[0m\n\u001b[1;32m     20\u001b[0m     \u001b[0mContingencyMeasures\u001b[0m\u001b[0;34m,\u001b[0m\u001b[0;34m\u001b[0m\u001b[0;34m\u001b[0m\u001b[0m\n",
            "\u001b[0;32m/usr/local/lib/python3.10/dist-packages/nltk/metrics/association.py\u001b[0m in \u001b[0;36m<module>\u001b[0;34m\u001b[0m\n\u001b[1;32m     24\u001b[0m \u001b[0;34m\u001b[0m\u001b[0m\n\u001b[1;32m     25\u001b[0m \u001b[0;32mtry\u001b[0m\u001b[0;34m:\u001b[0m\u001b[0;34m\u001b[0m\u001b[0;34m\u001b[0m\u001b[0m\n\u001b[0;32m---> 26\u001b[0;31m     \u001b[0;32mfrom\u001b[0m \u001b[0mscipy\u001b[0m\u001b[0;34m.\u001b[0m\u001b[0mstats\u001b[0m \u001b[0;32mimport\u001b[0m \u001b[0mfisher_exact\u001b[0m\u001b[0;34m\u001b[0m\u001b[0;34m\u001b[0m\u001b[0m\n\u001b[0m\u001b[1;32m     27\u001b[0m \u001b[0;32mexcept\u001b[0m \u001b[0mImportError\u001b[0m\u001b[0;34m:\u001b[0m\u001b[0;34m\u001b[0m\u001b[0;34m\u001b[0m\u001b[0m\n\u001b[1;32m     28\u001b[0m \u001b[0;34m\u001b[0m\u001b[0m\n",
            "\u001b[0;32m/usr/local/lib/python3.10/dist-packages/scipy/stats/__init__.py\u001b[0m in \u001b[0;36m<module>\u001b[0;34m\u001b[0m\n\u001b[1;32m    607\u001b[0m \u001b[0;32mfrom\u001b[0m \u001b[0;34m.\u001b[0m\u001b[0m_variation\u001b[0m \u001b[0;32mimport\u001b[0m \u001b[0mvariation\u001b[0m\u001b[0;34m\u001b[0m\u001b[0;34m\u001b[0m\u001b[0m\n\u001b[1;32m    608\u001b[0m \u001b[0;32mfrom\u001b[0m \u001b[0;34m.\u001b[0m\u001b[0mdistributions\u001b[0m \u001b[0;32mimport\u001b[0m \u001b[0;34m*\u001b[0m\u001b[0;34m\u001b[0m\u001b[0;34m\u001b[0m\u001b[0m\n\u001b[0;32m--> 609\u001b[0;31m \u001b[0;32mfrom\u001b[0m \u001b[0;34m.\u001b[0m\u001b[0m_morestats\u001b[0m \u001b[0;32mimport\u001b[0m \u001b[0;34m*\u001b[0m\u001b[0;34m\u001b[0m\u001b[0;34m\u001b[0m\u001b[0m\n\u001b[0m\u001b[1;32m    610\u001b[0m \u001b[0;32mfrom\u001b[0m \u001b[0;34m.\u001b[0m\u001b[0m_multicomp\u001b[0m \u001b[0;32mimport\u001b[0m \u001b[0;34m*\u001b[0m\u001b[0;34m\u001b[0m\u001b[0;34m\u001b[0m\u001b[0m\n\u001b[1;32m    611\u001b[0m \u001b[0;32mfrom\u001b[0m \u001b[0;34m.\u001b[0m\u001b[0m_binomtest\u001b[0m \u001b[0;32mimport\u001b[0m \u001b[0mbinomtest\u001b[0m\u001b[0;34m\u001b[0m\u001b[0;34m\u001b[0m\u001b[0m\n",
            "\u001b[0;32m/usr/local/lib/python3.10/dist-packages/scipy/stats/_morestats.py\u001b[0m in \u001b[0;36m<module>\u001b[0;34m\u001b[0m\n\u001b[1;32m     16\u001b[0m \u001b[0;32mfrom\u001b[0m \u001b[0;34m.\u001b[0m\u001b[0m_ansari_swilk_statistics\u001b[0m \u001b[0;32mimport\u001b[0m \u001b[0mgscale\u001b[0m\u001b[0;34m,\u001b[0m \u001b[0mswilk\u001b[0m\u001b[0;34m\u001b[0m\u001b[0;34m\u001b[0m\u001b[0m\n\u001b[1;32m     17\u001b[0m \u001b[0;32mfrom\u001b[0m \u001b[0;34m.\u001b[0m \u001b[0;32mimport\u001b[0m \u001b[0m_stats_py\u001b[0m\u001b[0;34m,\u001b[0m \u001b[0m_wilcoxon\u001b[0m\u001b[0;34m\u001b[0m\u001b[0;34m\u001b[0m\u001b[0m\n\u001b[0;32m---> 18\u001b[0;31m \u001b[0;32mfrom\u001b[0m \u001b[0;34m.\u001b[0m\u001b[0m_fit\u001b[0m \u001b[0;32mimport\u001b[0m \u001b[0mFitResult\u001b[0m\u001b[0;34m\u001b[0m\u001b[0;34m\u001b[0m\u001b[0m\n\u001b[0m\u001b[1;32m     19\u001b[0m \u001b[0;32mfrom\u001b[0m \u001b[0;34m.\u001b[0m\u001b[0m_stats_py\u001b[0m \u001b[0;32mimport\u001b[0m \u001b[0mfind_repeats\u001b[0m\u001b[0;34m,\u001b[0m \u001b[0m_get_pvalue\u001b[0m\u001b[0;34m,\u001b[0m \u001b[0mSignificanceResult\u001b[0m  \u001b[0;31m# noqa: F401\u001b[0m\u001b[0;34m\u001b[0m\u001b[0;34m\u001b[0m\u001b[0m\n\u001b[1;32m     20\u001b[0m \u001b[0;32mfrom\u001b[0m \u001b[0;34m.\u001b[0m\u001b[0mcontingency\u001b[0m \u001b[0;32mimport\u001b[0m \u001b[0mchi2_contingency\u001b[0m\u001b[0;34m\u001b[0m\u001b[0;34m\u001b[0m\u001b[0m\n",
            "\u001b[0;31mKeyboardInterrupt\u001b[0m: "
          ]
        }
      ]
    },
    {
      "cell_type": "code",
      "source": [
        "# Download stopwords from NLTK\n",
        "nltk.download('stopwords')\n",
        "stop_words = set(stopwords.words('english'))\n",
        "\n",
        "def clean_text(text):\n",
        "    # Remove text within square brackets (e.g., [diagnosis] or [note])\n",
        "    text = re.sub(r'\\[.*?\\]', '', text)\n",
        "\n",
        "    # Remove unwanted special characters and punctuation\n",
        "    text = re.sub(r'[/\":+]', '', text)\n",
        "    text = re.sub(r'_', '', text)\n",
        "\n",
        "    # Remove all digits\n",
        "    text = re.sub(r'\\d+', '', text)\n",
        "\n",
        "    # Normalize abbreviations and common clinical terms\n",
        "    text = re.sub(r'dr\\.', 'doctor', text)  # Normalize 'dr.' to 'doctor'\n",
        "    text = re.sub(r'm\\.d\\.', 'md', text)    # Normalize 'm.d.' to 'md'\n",
        "\n",
        "    # Remove specific phrases that are not relevant (e.g., admission/discharge dates)\n",
        "    text = re.sub(r'admission date:', '', text)\n",
        "    text = re.sub(r'discharge date:', '', text)\n",
        "\n",
        "    # Remove double hyphens, underscores, or equal signs used as separators\n",
        "    text = re.sub(r'--|__|==', '', text)\n",
        "\n",
        "    # Remove unwanted special characters like '<', '>', and periods used as incorrect markers\n",
        "    text = re.sub(r'[<>]', '', text)\n",
        "    text = re.sub(r'\\.[a-zA-Z]', '', text)  # Remove misplaced periods followed by a letter\n",
        "\n",
        "    # Remove hashtags like '# hepatic encephalopathy' or '# nutrition'\n",
        "    text = re.sub(r'#\\s*\\w+', '', text)\n",
        "\n",
        "    # Clean up periods that are misplaced or unnecessary (e.g., protein .)\n",
        "    text = re.sub(r'\\s*\\.\\s*', ' ', text)\n",
        "\n",
        "    # Replace asterisks with spaces to preserve word separation\n",
        "    text = re.sub(r'\\*+', ' ', text)\n",
        "\n",
        "    # Remove extra spaces or leading/trailing whitespace\n",
        "    text = text.strip()\n",
        "\n",
        "    # Remove stop words\n",
        "    text = ' '.join([word for word in text.split() if word.lower() not in stop_words])\n",
        "\n",
        "    return text\n",
        "\n",
        "def preprocess_text_data(df):\n",
        "    print(f\"Original dataframe shape: {df.shape}\")\n",
        "\n",
        "    # Preprocess text data: handle NaN values, newlines, and extra spaces\n",
        "    df['text'] = df['text'].fillna(' ').str.replace('\\n', ' ').replace('\\r', ' ').str.strip().str.lower()\n",
        "\n",
        "    # Apply text cleaning\n",
        "    df['text'] = df['text'].apply(clean_text)\n",
        "\n",
        "    # Group by `hadm_id` to aggregate all text entries for each unique `hadm_id`\n",
        "    # Concatenate text entries into a single string for each `hadm_id`\n",
        "    df = df.groupby('id').agg({\n",
        "        'text': ' '.join,           # Concatenate all text for each `hadm_id`\n",
        "        'readmitted_within_30days': 'first'     # Use the first label for each `readmitted_within_30days` if consistent\n",
        "    }).reset_index()\n",
        "\n",
        "    # Rename columns to match expected output\n",
        "    df.rename(columns={'readmitted_within_30days': 'Label', 'id': 'ID'}, inplace=True)\n",
        "\n",
        "    print(f\"Processed dataframe shape: {df.shape}\")\n",
        "    return df"
      ],
      "metadata": {
        "colab": {
          "base_uri": "https://localhost:8080/"
        },
        "id": "MTJpwI6gdA2k",
        "outputId": "055a90b4-bce2-402b-dbdd-22571ffaa36a"
      },
      "execution_count": null,
      "outputs": [
        {
          "output_type": "stream",
          "name": "stderr",
          "text": [
            "[nltk_data] Downloading package stopwords to /root/nltk_data...\n",
            "[nltk_data]   Unzipping corpora/stopwords.zip.\n"
          ]
        }
      ]
    },
    {
      "cell_type": "code",
      "source": [
        "test_notes_cleaned = preprocess_text_data(test_notes)\n",
        "val_notes_cleaned = preprocess_text_data(val_notes)\n",
        "train_notes_cleaned = preprocess_text_data(train_notes)"
      ],
      "metadata": {
        "id": "Zmk0h4u7qRgU",
        "colab": {
          "base_uri": "https://localhost:8080/"
        },
        "outputId": "fb753248-977d-42e1-f938-2585e262cba7"
      },
      "execution_count": null,
      "outputs": [
        {
          "output_type": "stream",
          "name": "stdout",
          "text": [
            "Original dataframe shape: (2741, 5)\n",
            "Processed dataframe shape: (2741, 3)\n",
            "Original dataframe shape: (2788, 5)\n",
            "Processed dataframe shape: (2788, 3)\n",
            "Original dataframe shape: (8234, 5)\n",
            "Processed dataframe shape: (8234, 3)\n"
          ]
        }
      ]
    },
    {
      "cell_type": "markdown",
      "source": [
        "After the data preprocess_text_data function, each train,test,val dataset will have three columns which are 'ID', 'Label' and 'text'"
      ],
      "metadata": {
        "id": "Y9E_skS1RtFF"
      }
    },
    {
      "cell_type": "code",
      "source": [
        "# train_notes_cleaned.to_csv('/content/drive/My Drive/STAT3612_dataset/STAT3612_data_preprocessing_final/train_notes_cleaned.csv', index=False)\n",
        "# val_notes_cleaned.to_csv('/content/drive/My Drive/STAT3612_dataset/STAT3612_data_preprocessing_final/val_notes_cleaned.csv', index=False)\n",
        "# test_notes_cleaned.to_csv('/content/drive/My Drive/STAT3612_dataset/STAT3612_data_preprocessing_final/test_notes_cleaned.csv', index=False)"
      ],
      "metadata": {
        "id": "sfLZnkXHwaEo"
      },
      "execution_count": null,
      "outputs": []
    },
    {
      "cell_type": "code",
      "source": [
        "# # df_discharge_only = preprocess_text_data(df_discharge_only)\n",
        "# df_less_2_cleaned = preprocess_text_data(df_less_2)\n",
        "# df_less_3_cleaned = preprocess_text_data(df_less_3)\n",
        "# discharge_only_cleaned = preprocess_text_data(discharge_only)"
      ],
      "metadata": {
        "id": "YXxFooHWdMeD"
      },
      "execution_count": null,
      "outputs": []
    },
    {
      "cell_type": "code",
      "source": [
        "# df_discharge_only.to_csv('/content/drive/My Drive/STAT3612_dataset/STAT3612_data_preprocessing_final/df_discharge_only.csv', index=False)\n",
        "# df_adm1.to_csv('/content/drive/My Drive/STAT3612_dataset/STAT3612_data_preprocessing_final/df_adm1.csv', index=False)\n",
        "# df_adm_notes.to_csv('/content/drive/My Drive/STAT3612_dataset/STAT3612_data_preprocessing_final/df_adm_notes1.csv', index=False)\n",
        "# df_less_2_only.to_csv('/content/drive/My Drive/STAT3612_dataset/STAT3612_data_preprocessing_final/df_less_2_only.csv', index=False)\n",
        "# df_less_3_only.to_csv('/content/drive/My Drive/STAT3612_dataset/STAT3612_data_preprocessing_final/df_less_3_only.csv', index=False)\n"
      ],
      "metadata": {
        "id": "UC7jmWYYhKeX"
      },
      "execution_count": null,
      "outputs": []
    },
    {
      "cell_type": "markdown",
      "source": [
        "#Balancing procedure"
      ],
      "metadata": {
        "id": "Pl3egPVwJrB2"
      }
    },
    {
      "cell_type": "code",
      "source": [
        "from google.colab import drive\n",
        "import pandas as pd\n",
        "import numpy as np\n",
        "drive.mount('/content/drive')\n",
        "\n",
        "train_notes_cleaned = pd.read_csv('/content/drive/My Drive/STAT3612_dataset/STAT3612_data_preprocessing_final/train_notes_cleaned.csv')\n",
        "val_notes_cleaned = pd.read_csv('/content/drive/My Drive/STAT3612_dataset/STAT3612_data_preprocessing_final/val_notes_cleaned.csv')\n",
        "test_notes_cleaned = pd.read_csv('/content/drive/My Drive/STAT3612_dataset/STAT3612_data_preprocessing_final/test_notes_cleaned.csv')\n"
      ],
      "metadata": {
        "colab": {
          "base_uri": "https://localhost:8080/"
        },
        "collapsed": true,
        "id": "GWVHmAOPJtNs",
        "outputId": "99118c74-b968-4af1-833f-affb8db64208"
      },
      "execution_count": null,
      "outputs": [
        {
          "output_type": "stream",
          "name": "stdout",
          "text": [
            "Mounted at /content/drive\n"
          ]
        }
      ]
    },
    {
      "cell_type": "code",
      "source": [
        "print(train_notes_cleaned.shape)\n",
        "print(val_notes_cleaned.shape)\n",
        "print(test_notes_cleaned.shape)"
      ],
      "metadata": {
        "colab": {
          "base_uri": "https://localhost:8080/"
        },
        "id": "1aD_BPwJUoTJ",
        "outputId": "60b0621f-ae40-45f7-ce3c-f64d66f61f90"
      },
      "execution_count": null,
      "outputs": [
        {
          "output_type": "stream",
          "name": "stdout",
          "text": [
            "(8234, 3)\n",
            "(2788, 3)\n",
            "(2741, 3)\n"
          ]
        }
      ]
    },
    {
      "cell_type": "code",
      "source": [
        "print(train_notes_cleaned['Label'].value_counts())"
      ],
      "metadata": {
        "colab": {
          "base_uri": "https://localhost:8080/"
        },
        "id": "KR5wO2mcVy6n",
        "outputId": "42d57d12-a1da-42f2-cf9c-6de6727e9744"
      },
      "execution_count": null,
      "outputs": [
        {
          "output_type": "stream",
          "name": "stdout",
          "text": [
            "Label\n",
            "0    6785\n",
            "1    1449\n",
            "Name: count, dtype: int64\n"
          ]
        }
      ]
    },
    {
      "cell_type": "code",
      "source": [
        "!pip install imbalanced-learn"
      ],
      "metadata": {
        "colab": {
          "base_uri": "https://localhost:8080/"
        },
        "id": "4WJ44iapLY7Q",
        "outputId": "162dfba8-1ad7-46f6-d375-2e85b3802518"
      },
      "execution_count": null,
      "outputs": [
        {
          "output_type": "stream",
          "name": "stdout",
          "text": [
            "Requirement already satisfied: imbalanced-learn in /usr/local/lib/python3.10/dist-packages (0.12.4)\n",
            "Requirement already satisfied: numpy>=1.17.3 in /usr/local/lib/python3.10/dist-packages (from imbalanced-learn) (1.26.4)\n",
            "Requirement already satisfied: scipy>=1.5.0 in /usr/local/lib/python3.10/dist-packages (from imbalanced-learn) (1.13.1)\n",
            "Requirement already satisfied: scikit-learn>=1.0.2 in /usr/local/lib/python3.10/dist-packages (from imbalanced-learn) (1.5.2)\n",
            "Requirement already satisfied: joblib>=1.1.1 in /usr/local/lib/python3.10/dist-packages (from imbalanced-learn) (1.4.2)\n",
            "Requirement already satisfied: threadpoolctl>=2.0.0 in /usr/local/lib/python3.10/dist-packages (from imbalanced-learn) (3.5.0)\n"
          ]
        }
      ]
    },
    {
      "cell_type": "markdown",
      "source": [
        "I have implemented downsampling and upsampling but chose downsampling since it reduce the size of the datasets."
      ],
      "metadata": {
        "id": "rscvgprMV9eZ"
      }
    },
    {
      "cell_type": "code",
      "source": [
        "def handle_imbalance(df, text_column, label_column, method='downsampling'):\n",
        "\n",
        "    # Separate classes\n",
        "    class_1 = df[df[label_column] == 1]  # Class with label 1\n",
        "    class_0 = df[df[label_column] == 0]  # Class with label 0\n",
        "\n",
        "    # Identify majority and minority\n",
        "    if len(class_1) > len(class_0):\n",
        "        majority, minority = class_1, class_0\n",
        "    else:\n",
        "        majority, minority = class_0, class_1\n",
        "\n",
        "    if method == 'downsampling':\n",
        "        # Downsample majority to minority size\n",
        "        majority_downsampled = resample(\n",
        "            majority,\n",
        "            replace=False,  # No replacement for downsampling\n",
        "            n_samples=len(minority),  # Match minority size\n",
        "            random_state=42\n",
        "        )\n",
        "        balanced_df = pd.concat([majority_downsampled, minority])\n",
        "\n",
        "    elif method == 'upsampling':\n",
        "        # Upsample minority to majority size\n",
        "        minority_upsampled = resample(\n",
        "            minority,\n",
        "            replace=True,  # Allow replacement for upsampling\n",
        "            n_samples=len(majority),  # Match majority size\n",
        "            random_state=42\n",
        "        )\n",
        "        balanced_df = pd.concat([majority, minority_upsampled])\n",
        "\n",
        "    else:\n",
        "        raise ValueError(\"Invalid method. Choose 'downsampling' or 'upsampling'.\")\n",
        "\n",
        "    return balanced_df\n"
      ],
      "metadata": {
        "id": "6jNLvwWoLRVj"
      },
      "execution_count": null,
      "outputs": []
    },
    {
      "cell_type": "code",
      "source": [
        "train_upsampled = handle_imbalance(train_notes_cleaned, text_column='text', label_column='Label', method='upsampling')\n",
        "val_upsampled = handle_imbalance(val_notes_cleaned, text_column='text', label_column='Label', method='upsampling')\n",
        "test_upsampled = handle_imbalance(test_notes_cleaned, text_column='text', label_column='Label', method='upsampling')\n",
        "print(f\"Downsampled Class Distribution:\\n{val_upsampled['Label'].value_counts()}\")\n",
        "print(val_upsampled.shape)"
      ],
      "metadata": {
        "colab": {
          "base_uri": "https://localhost:8080/"
        },
        "id": "1lQkv0syLPRh",
        "outputId": "4e401319-170c-4f94-a0ae-6126f68844b6"
      },
      "execution_count": null,
      "outputs": [
        {
          "output_type": "stream",
          "name": "stdout",
          "text": [
            "Downsampled Class Distribution:\n",
            "Label\n",
            "0    2307\n",
            "1    2307\n",
            "Name: count, dtype: int64\n",
            "(4614, 3)\n"
          ]
        }
      ]
    },
    {
      "cell_type": "code",
      "source": [
        "# train_upsampled.to_csv('/content/drive/My Drive/STAT3612_dataset/STAT3612_data_preprocessing_final/upsampling_test/train_upsampled.csv', index=False)\n",
        "# val_upsampled.to_csv('/content/drive/My Drive/STAT3612_dataset/STAT3612_data_preprocessing_final/upsampling_test/val_upsampled.csv', index=False)\n",
        "# test_upsampled.to_csv('/content/drive/My Drive/STAT3612_dataset/STAT3612_data_preprocessing_final/upsampling_test/test_upsampled.csv', index=False)\n"
      ],
      "metadata": {
        "id": "lJo3EhJpdu99"
      },
      "execution_count": null,
      "outputs": []
    },
    {
      "cell_type": "markdown",
      "source": [
        "As a result, we have 1 to 1 class proportion between classes (0 and 1)"
      ],
      "metadata": {
        "id": "gLmJCjVZR8E5"
      }
    },
    {
      "cell_type": "code",
      "source": [
        "import pandas as pd\n",
        "\n",
        "def label_percentage(df):\n",
        "    # Calculate the count of 0s and 1s in the 'Label' column\n",
        "    label_counts = df['Label'].value_counts(normalize=True) * 100\n",
        "\n",
        "    # Return the percentages\n",
        "    return label_counts\n",
        "label_percentage(test_downsampled)"
      ],
      "metadata": {
        "colab": {
          "base_uri": "https://localhost:8080/",
          "height": 178
        },
        "id": "jBTJih6iKQ1o",
        "outputId": "1590db75-9f57-4570-d6e4-a01c6bdbf052"
      },
      "execution_count": null,
      "outputs": [
        {
          "output_type": "execute_result",
          "data": {
            "text/plain": [
              "Label\n",
              "0    50.0\n",
              "1    50.0\n",
              "Name: proportion, dtype: float64"
            ],
            "text/html": [
              "<div>\n",
              "<style scoped>\n",
              "    .dataframe tbody tr th:only-of-type {\n",
              "        vertical-align: middle;\n",
              "    }\n",
              "\n",
              "    .dataframe tbody tr th {\n",
              "        vertical-align: top;\n",
              "    }\n",
              "\n",
              "    .dataframe thead th {\n",
              "        text-align: right;\n",
              "    }\n",
              "</style>\n",
              "<table border=\"1\" class=\"dataframe\">\n",
              "  <thead>\n",
              "    <tr style=\"text-align: right;\">\n",
              "      <th></th>\n",
              "      <th>proportion</th>\n",
              "    </tr>\n",
              "    <tr>\n",
              "      <th>Label</th>\n",
              "      <th></th>\n",
              "    </tr>\n",
              "  </thead>\n",
              "  <tbody>\n",
              "    <tr>\n",
              "      <th>0</th>\n",
              "      <td>50.0</td>\n",
              "    </tr>\n",
              "    <tr>\n",
              "      <th>1</th>\n",
              "      <td>50.0</td>\n",
              "    </tr>\n",
              "  </tbody>\n",
              "</table>\n",
              "</div><br><label><b>dtype:</b> float64</label>"
            ]
          },
          "metadata": {},
          "execution_count": 27
        }
      ]
    },
    {
      "cell_type": "code",
      "source": [],
      "metadata": {
        "id": "wm3tL9lTigPh"
      },
      "execution_count": null,
      "outputs": []
    },
    {
      "cell_type": "markdown",
      "source": [
        "#Modeling (Imbalanced Label)"
      ],
      "metadata": {
        "id": "dc7O0_U9mQ8z"
      }
    },
    {
      "cell_type": "code",
      "source": [
        "from google.colab import drive\n",
        "import pandas as pd\n",
        "drive.mount('/content/drive')\n",
        "train_notes_cleaned = pd.read_csv('/content/drive/My Drive/STAT3612_dataset/STAT3612_data_preprocessing_final/train_notes_cleaned.csv')\n",
        "val_notes_cleaned = pd.read_csv('/content/drive/My Drive/STAT3612_dataset/STAT3612_data_preprocessing_final/val_notes_cleaned.csv')\n",
        "test_notes_cleaned = pd.read_csv('/content/drive/My Drive/STAT3612_dataset/STAT3612_data_preprocessing_final/test_notes_cleaned.csv')"
      ],
      "metadata": {
        "colab": {
          "base_uri": "https://localhost:8080/"
        },
        "id": "KfGbCbCUm4AL",
        "outputId": "826fa346-0c3b-4e2a-b929-03760b888cea"
      },
      "execution_count": 2,
      "outputs": [
        {
          "output_type": "stream",
          "name": "stdout",
          "text": [
            "Mounted at /content/drive\n"
          ]
        }
      ]
    },
    {
      "cell_type": "code",
      "source": [
        "import torch\n",
        "import pandas as pd\n",
        "from tqdm import tqdm\n",
        "from transformers import BertTokenizer, BertForSequenceClassification, AdamW, get_cosine_schedule_with_warmup\n",
        "from torch.utils.data import DataLoader, TensorDataset, RandomSampler, WeightedRandomSampler\n",
        "from sklearn.metrics import (precision_score, recall_score, f1_score, accuracy_score,\n",
        "                             roc_auc_score, roc_curve, precision_recall_curve, auc)\n",
        "from torch.optim.lr_scheduler import ReduceLROnPlateau\n",
        "from imblearn.over_sampling import RandomOverSampler  # Oversampling 추가\n",
        "import matplotlib.pyplot as plt\n",
        "import numpy as np\n",
        "\n",
        "\n",
        "\n",
        "# GPU 사용 설정\n",
        "device = torch.device('cuda' if torch.cuda.is_available() else 'cpu')\n",
        "print(f\"Using device: {device}\")\n",
        "\n",
        "# ClinicalBERT 불러오기\n",
        "tokenizer = BertTokenizer.from_pretrained('emilyalsentzer/Bio_ClinicalBERT')\n",
        "# model = BertForSequenceClassification.from_pretrained('emilyalsentzer/Bio_ClinicalBERT', num_labels=2).to(device)\n",
        "model = BertForSequenceClassification.from_pretrained('emilyalsentzer/Bio_ClinicalBERT', num_labels=2, hidden_dropout_prob=0.2).to(device)  # Dropout 비율 증가)\n"
      ],
      "metadata": {
        "colab": {
          "base_uri": "https://localhost:8080/",
          "height": 279,
          "referenced_widgets": [
            "813e2e05f59141e88dc27f403cd288db",
            "485d2b32dd374346ad606b3b895cb7c0",
            "42f3c3dc31d64df68007ffa305634f31",
            "20c426f0c0084670bfc49819b21a4465",
            "8bb2c0444aeb4141999be2506640d57e",
            "95fb9d62f0bd4d4c9b488c2f1c627427",
            "da93336f2039451183b61c5801510016",
            "10fc746559f64dabaa0e28f3113fe596",
            "2479612720cd416eade58b65b340be4c",
            "892dfb36d3134dc39a5e529248f1920d",
            "4a655d3e14374bd3a4b0864a3ed13056",
            "bddb47f2d48b471a9a95eb3edbe0f27c",
            "638c7323e17d4a3684837f65907d21cb",
            "ecd8ec8f7dcd4ddab72620dc983a3b95",
            "05bbca4e03924a71a759424de7b8857b",
            "ef18cce3eec1454ca18fc463009d01e9",
            "148907d07106421fab21343265c50cbb",
            "5c809b4f582d4a26b2575d3f7210360f",
            "7a3dc2f2a0fe43908c557c9c5dd91661",
            "84f625ecaf51486b87931817db4af56d",
            "4a3fb1887efb4401ade60acaaf6ffe17",
            "fe6ba13ff98e4809923c5e680e629d6a",
            "9da7afb6e45c4754aa28db777791a47a",
            "306641af7dfe425f8500216796a62f5e",
            "e30d59c093de428591a1c5eff30f7f93",
            "8d5ef06b52884106b227794175b137af",
            "0449a3b1ea3349d49ed901f4aad84991",
            "605d71fa53444d2eafccb3dff56613fa",
            "c765a0bad780462483ad5cf3c725313c",
            "2be25275ab29411fa634ea87dc7b39d6",
            "9cc00091a4984f38b35f951af598d5b3",
            "59103e7677ec4d01842f808d936ff22c",
            "15bf780d9073437fb9efa09bff48cf0a"
          ]
        },
        "collapsed": true,
        "id": "FDjJhSVBmTlN",
        "outputId": "7f7a9426-cd88-4d19-d4c5-626ef5455396"
      },
      "execution_count": 1,
      "outputs": [
        {
          "output_type": "stream",
          "name": "stdout",
          "text": [
            "Using device: cuda\n"
          ]
        },
        {
          "output_type": "stream",
          "name": "stderr",
          "text": [
            "/usr/local/lib/python3.10/dist-packages/huggingface_hub/utils/_auth.py:94: UserWarning: \n",
            "The secret `HF_TOKEN` does not exist in your Colab secrets.\n",
            "To authenticate with the Hugging Face Hub, create a token in your settings tab (https://huggingface.co/settings/tokens), set it as secret in your Google Colab and restart your session.\n",
            "You will be able to reuse this secret in all of your notebooks.\n",
            "Please note that authentication is recommended but still optional to access public models or datasets.\n",
            "  warnings.warn(\n"
          ]
        },
        {
          "output_type": "display_data",
          "data": {
            "text/plain": [
              "vocab.txt:   0%|          | 0.00/213k [00:00<?, ?B/s]"
            ],
            "application/vnd.jupyter.widget-view+json": {
              "version_major": 2,
              "version_minor": 0,
              "model_id": "813e2e05f59141e88dc27f403cd288db"
            }
          },
          "metadata": {}
        },
        {
          "output_type": "display_data",
          "data": {
            "text/plain": [
              "config.json:   0%|          | 0.00/385 [00:00<?, ?B/s]"
            ],
            "application/vnd.jupyter.widget-view+json": {
              "version_major": 2,
              "version_minor": 0,
              "model_id": "bddb47f2d48b471a9a95eb3edbe0f27c"
            }
          },
          "metadata": {}
        },
        {
          "output_type": "display_data",
          "data": {
            "text/plain": [
              "pytorch_model.bin:   0%|          | 0.00/436M [00:00<?, ?B/s]"
            ],
            "application/vnd.jupyter.widget-view+json": {
              "version_major": 2,
              "version_minor": 0,
              "model_id": "9da7afb6e45c4754aa28db777791a47a"
            }
          },
          "metadata": {}
        },
        {
          "output_type": "stream",
          "name": "stderr",
          "text": [
            "Some weights of BertForSequenceClassification were not initialized from the model checkpoint at emilyalsentzer/Bio_ClinicalBERT and are newly initialized: ['classifier.bias', 'classifier.weight']\n",
            "You should probably TRAIN this model on a down-stream task to be able to use it for predictions and inference.\n"
          ]
        }
      ]
    },
    {
      "cell_type": "code",
      "source": [
        "# Focal Loss 정의 (alpha 값 변경)\n",
        "class FocalLoss(torch.nn.Module):\n",
        "    def __init__(self, alpha=0.815, gamma=2, reduction='mean'):\n",
        "        super(FocalLoss, self).__init__()\n",
        "        self.alpha = alpha\n",
        "        self.gamma = gamma\n",
        "        self.reduction = reduction\n",
        "\n",
        "    def forward(self, inputs, targets):\n",
        "        ce_loss = torch.nn.CrossEntropyLoss(reduction='none')(inputs, targets)\n",
        "        pt = torch.exp(-ce_loss)\n",
        "        focal_loss = self.alpha * ((1 - pt) ** self.gamma) * ce_loss\n",
        "\n",
        "        if self.reduction == 'mean':\n",
        "            return focal_loss.mean()\n",
        "        elif self.reduction == 'sum':\n",
        "            return focal_loss.sum()\n",
        "        else:\n",
        "            return focal_loss\n",
        "\n",
        "# Early Stopping class\n",
        "class EarlyStopping:\n",
        "    def __init__(self, patience=3, verbose=False):\n",
        "        self.patience = patience\n",
        "        self.verbose = verbose\n",
        "        self.counter = 0\n",
        "        self.best_loss = float('inf')\n",
        "        self.early_stop = False\n",
        "\n",
        "    def __call__(self, val_loss):\n",
        "        if val_loss < self.best_loss:\n",
        "            self.best_loss = val_loss\n",
        "            self.counter = 0\n",
        "        else:\n",
        "            self.counter += 1\n",
        "            if self.counter >= self.patience:\n",
        "                self.early_stop = True\n",
        "                if self.verbose:\n",
        "                    print(\"Early stopping triggered\")\n"
      ],
      "metadata": {
        "id": "J87Zq5ZYmhnb"
      },
      "execution_count": 2,
      "outputs": []
    },
    {
      "cell_type": "code",
      "source": [
        "# 데이터 준비 및 토큰화 함수\n",
        "def prepare_data_and_tokenize(df):\n",
        "    texts = df['text'].tolist()\n",
        "    labels = df['Label'].tolist()\n",
        "\n",
        "    input_ids = []\n",
        "    attention_masks = []\n",
        "\n",
        "    print(\"Tokenizing data...\")\n",
        "    for text in tqdm(texts, desc=\"Tokenizing texts\", unit=\"text\"):\n",
        "        encoded_dict = tokenizer(\n",
        "            text,\n",
        "            add_special_tokens=True,\n",
        "            max_length=512,\n",
        "            padding='max_length',\n",
        "            truncation=True,\n",
        "            return_tensors='pt'\n",
        "        )\n",
        "        input_ids.append(encoded_dict['input_ids'])\n",
        "        attention_masks.append(encoded_dict['attention_mask'])\n",
        "\n",
        "    input_ids = torch.cat(input_ids, dim=0)\n",
        "    attention_masks = torch.cat(attention_masks, dim=0)\n",
        "    labels = torch.tensor(labels)\n",
        "\n",
        "    return input_ids, attention_masks, labels"
      ],
      "metadata": {
        "id": "ssTaydowmh_A"
      },
      "execution_count": 3,
      "outputs": []
    },
    {
      "cell_type": "code",
      "source": [
        "# # Oversampling 함수 추가\n",
        "# def oversample_data(input_ids, attention_masks, labels):\n",
        "#     print(\"Performing oversampling...\")\n",
        "#     ros = RandomOverSampler(sampling_strategy='minority', random_state=42)\n",
        "#     # 데이터 Reshape 필요\n",
        "#     input_ids_np = input_ids.numpy()\n",
        "#     attention_masks_np = attention_masks.numpy()\n",
        "#     labels_np = labels.numpy()\n",
        "#     # Oversampling 실행\n",
        "#     input_ids_resampled, labels_resampled = ros.fit_resample(input_ids_np, labels_np)\n",
        "#     attention_masks_resampled, _ = ros.fit_resample(attention_masks_np, labels_np)\n",
        "#     return torch.tensor(input_ids_resampled), torch.tensor(attention_masks_resampled), torch.tensor(labels_resampled)\n"
      ],
      "metadata": {
        "id": "fJAK76NA81PE"
      },
      "execution_count": null,
      "outputs": []
    },
    {
      "cell_type": "code",
      "source": [
        "# DataLoader 생성 함수 (Weighted Sampler 추가)\n",
        "def create_data_loader(input_ids, attention_masks, labels, batch_size=32, sampler_type=\"weighted\"):\n",
        "    dataset = TensorDataset(input_ids, attention_masks, labels)\n",
        "    if sampler_type == \"weighted\":\n",
        "        # Class Weight 기반 Sampler 생성\n",
        "        class_counts = np.bincount(labels.numpy())\n",
        "        class_weights = 1.0 / class_counts\n",
        "        weights = class_weights[labels.numpy()]\n",
        "        sampler = WeightedRandomSampler(weights, len(weights))\n",
        "    else:\n",
        "        sampler = RandomSampler(dataset)\n",
        "    return DataLoader(dataset, sampler=sampler, batch_size=batch_size)\n"
      ],
      "metadata": {
        "id": "2MZ42JjAmiKt"
      },
      "execution_count": 4,
      "outputs": []
    },
    {
      "cell_type": "code",
      "source": [
        "# Training function with Focal Loss\n",
        "def train_with_focal_loss(model, dataloader, optimizer, scheduler, loss_fn, alpha=1, gamma=2):\n",
        "    model.train()\n",
        "    total_loss = 0\n",
        "\n",
        "    for batch in dataloader:\n",
        "        batch = tuple(t.to(device) for t in batch)\n",
        "        b_input_ids, b_input_mask, b_labels = batch\n",
        "\n",
        "        model.zero_grad()\n",
        "        outputs = model(b_input_ids, attention_mask=b_input_mask)\n",
        "        logits = outputs.logits\n",
        "\n",
        "        loss = loss_fn(logits, b_labels)\n",
        "        total_loss += loss.item()\n",
        "        loss.backward()\n",
        "\n",
        "        optimizer.step()\n",
        "        scheduler.step()\n",
        "\n",
        "    return total_loss / len(dataloader)\n"
      ],
      "metadata": {
        "id": "C4GDQIdUmiWp"
      },
      "execution_count": 5,
      "outputs": []
    },
    {
      "cell_type": "code",
      "source": [
        "# 평가 함수 (Precision-Recall Curve 추가)\n",
        "def evaluate(model, dataloader):\n",
        "    model.eval()\n",
        "    total_eval_loss = 0\n",
        "    all_preds, all_labels, all_probs = [], [], []\n",
        "\n",
        "    with torch.no_grad():\n",
        "        for batch in dataloader:\n",
        "            batch = tuple(t.to(device) for t in batch)\n",
        "            b_input_ids, b_input_mask, b_labels = batch\n",
        "            outputs = model(b_input_ids, attention_mask=b_input_mask, labels=b_labels)\n",
        "            total_eval_loss += outputs.loss.item()\n",
        "\n",
        "            logits = outputs.logits\n",
        "            all_preds.extend(torch.argmax(logits, dim=1).cpu().numpy())\n",
        "            all_labels.extend(b_labels.cpu().numpy())\n",
        "            probs = torch.nn.functional.softmax(logits, dim=1)\n",
        "            all_probs.extend(probs.cpu().numpy()[:, 1])\n",
        "\n",
        "    accuracy = accuracy_score(all_labels, all_preds)\n",
        "    f1 = f1_score(all_labels, all_preds, average='weighted')\n",
        "    precision = precision_score(all_labels, all_preds, average='weighted')\n",
        "    recall = recall_score(all_labels, all_preds, average='weighted')\n",
        "    auroc = roc_auc_score(all_labels, all_probs)\n",
        "\n",
        "    # Precision-Recall Curve 시각화\n",
        "    precision_vals, recall_vals, _ = precision_recall_curve(all_labels, all_probs)\n",
        "    plt.figure()\n",
        "    plt.plot(recall_vals, precision_vals, marker='.', label='Precision-Recall Curve')\n",
        "    plt.xlabel('Recall')\n",
        "    plt.ylabel('Precision')\n",
        "    plt.legend()\n",
        "    plt.show()\n",
        "\n",
        "    return total_eval_loss / len(dataloader), accuracy, f1, precision, recall, auroc\n"
      ],
      "metadata": {
        "id": "PQa9turcmihj"
      },
      "execution_count": 6,
      "outputs": []
    },
    {
      "cell_type": "code",
      "source": [
        "# 학습 및 검증 데이터 준비\n",
        "# train_input_ids, train_attention_masks, train_labels = prepare_data_and_tokenize(train_notes_cleaned)\n",
        "# val_input_ids, val_attention_masks, val_labels = prepare_data_and_tokenize(val_notes_cleaned)\n",
        "# test_input_ids, test_attention_masks, test_labels = prepare_data_and_tokenize(test_notes_cleaned)\n",
        "from google.colab import drive\n",
        "drive.mount('/content/drive')\n",
        "import os\n",
        "drive_path ='/content/drive/MyDrive/STAT3612_dataset/STAT3612_data_preprocessing_final/imbalnce_test'\n",
        "os.makedirs(drive_path,exist_ok=True)\n",
        "\n",
        "train_input_ids, train_attention_masks, train_labels = torch.load(os.path.join(drive_path, 'train.pt'))\n",
        "val_input_ids, val_attention_masks, val_labels = torch.load(os.path.join(drive_path, 'val.pt'))\n",
        "test_input_ids, test_attention_masks, test_labels = torch.load(os.path.join(drive_path, 'test.pt'))\n",
        "# Oversampling 적용\n",
        "# train_input_ids, train_attention_masks, train_labels = oversample_data(train_input_ids, train_attention_masks, train_labels)\n",
        "\n",
        "# DataLoader 생성\n",
        "train_dataloader = create_data_loader(train_input_ids, train_attention_masks, train_labels, sampler_type=\"weighted\")\n",
        "val_dataloader = create_data_loader(val_input_ids, val_attention_masks, val_labels)\n",
        "test_dataloader = create_data_loader(test_input_ids, test_attention_masks, test_labels)\n"
      ],
      "metadata": {
        "colab": {
          "base_uri": "https://localhost:8080/"
        },
        "id": "pTyaYup0nWKF",
        "outputId": "e5a99c0a-d44e-44e8-bd31-45ae4b6227b7"
      },
      "execution_count": 7,
      "outputs": [
        {
          "output_type": "stream",
          "name": "stdout",
          "text": [
            "Mounted at /content/drive\n"
          ]
        },
        {
          "output_type": "stream",
          "name": "stderr",
          "text": [
            "<ipython-input-7-2519be51a275>:11: FutureWarning: You are using `torch.load` with `weights_only=False` (the current default value), which uses the default pickle module implicitly. It is possible to construct malicious pickle data which will execute arbitrary code during unpickling (See https://github.com/pytorch/pytorch/blob/main/SECURITY.md#untrusted-models for more details). In a future release, the default value for `weights_only` will be flipped to `True`. This limits the functions that could be executed during unpickling. Arbitrary objects will no longer be allowed to be loaded via this mode unless they are explicitly allowlisted by the user via `torch.serialization.add_safe_globals`. We recommend you start setting `weights_only=True` for any use case where you don't have full control of the loaded file. Please open an issue on GitHub for any issues related to this experimental feature.\n",
            "  train_input_ids, train_attention_masks, train_labels = torch.load(os.path.join(drive_path, 'train.pt'))\n",
            "<ipython-input-7-2519be51a275>:12: FutureWarning: You are using `torch.load` with `weights_only=False` (the current default value), which uses the default pickle module implicitly. It is possible to construct malicious pickle data which will execute arbitrary code during unpickling (See https://github.com/pytorch/pytorch/blob/main/SECURITY.md#untrusted-models for more details). In a future release, the default value for `weights_only` will be flipped to `True`. This limits the functions that could be executed during unpickling. Arbitrary objects will no longer be allowed to be loaded via this mode unless they are explicitly allowlisted by the user via `torch.serialization.add_safe_globals`. We recommend you start setting `weights_only=True` for any use case where you don't have full control of the loaded file. Please open an issue on GitHub for any issues related to this experimental feature.\n",
            "  val_input_ids, val_attention_masks, val_labels = torch.load(os.path.join(drive_path, 'val.pt'))\n",
            "<ipython-input-7-2519be51a275>:13: FutureWarning: You are using `torch.load` with `weights_only=False` (the current default value), which uses the default pickle module implicitly. It is possible to construct malicious pickle data which will execute arbitrary code during unpickling (See https://github.com/pytorch/pytorch/blob/main/SECURITY.md#untrusted-models for more details). In a future release, the default value for `weights_only` will be flipped to `True`. This limits the functions that could be executed during unpickling. Arbitrary objects will no longer be allowed to be loaded via this mode unless they are explicitly allowlisted by the user via `torch.serialization.add_safe_globals`. We recommend you start setting `weights_only=True` for any use case where you don't have full control of the loaded file. Please open an issue on GitHub for any issues related to this experimental feature.\n",
            "  test_input_ids, test_attention_masks, test_labels = torch.load(os.path.join(drive_path, 'test.pt'))\n"
          ]
        }
      ]
    },
    {
      "cell_type": "code",
      "source": [
        "# import os\n",
        "# drive_path ='/content/drive/MyDrive/STAT3612_dataset/STAT3612_data_preprocessing_final/imbalnce_test'\n",
        "# os.makedirs(drive_path,exist_ok=True)\n",
        "# torch.save((train_input_ids, train_attention_masks, train_labels), os.path.join(drive_path, 'train.pt'))\n",
        "# torch.save((val_input_ids, val_attention_masks, val_labels), os.path.join(drive_path, 'val.pt'))\n",
        "# torch.save((test_input_ids, test_attention_masks, test_labels), os.path.join(drive_path, 'test.pt'))"
      ],
      "metadata": {
        "id": "J0w7xzGenscX"
      },
      "execution_count": 20,
      "outputs": []
    },
    {
      "cell_type": "code",
      "source": [
        "# 옵티마이저 및 학습률 스케줄러 설정\n",
        "optimizer = AdamW(model.parameters(), lr=2e-5, eps=1e-8,weight_decay=1e-4)\n",
        "scheduler = get_cosine_schedule_with_warmup(optimizer, num_warmup_steps=0.1*(len(train_dataloader) * 10), num_training_steps=len(train_dataloader) * 10)\n",
        "\n",
        "# Early Stopping 초기화\n",
        "early_stopping = EarlyStopping(patience=3, verbose=True)"
      ],
      "metadata": {
        "id": "HONs-R8HnZdT"
      },
      "execution_count": 11,
      "outputs": []
    },
    {
      "cell_type": "code",
      "source": [
        "# # 옵티마이저 및 ReduceLROnPlateau 설정\n",
        "# optimizer = AdamW(model.parameters(), lr=2e-5, eps=1e-8, weight_decay=1e-4)\n",
        "# scheduler = ReduceLROnPlateau(optimizer, mode='min', factor=0.1, patience=2, verbose=True)\n",
        "# # Early Stopping 초기화\n",
        "# early_stopping = EarlyStopping(patience=3, verbose=True)\n",
        "# loss_fn = FocalLoss(alpha=0.815, gamma=2)\n"
      ],
      "metadata": {
        "id": "UAypI6acaGxn"
      },
      "execution_count": 11,
      "outputs": []
    },
    {
      "cell_type": "code",
      "source": [
        "# 학습 루프\n",
        "epochs = 10\n",
        "for epoch in range(epochs):\n",
        "    print(f\"\\nEpoch {epoch + 1}/{epochs}\")\n",
        "    train_loss = train_with_focal_loss(model, train_dataloader, optimizer, scheduler, FocalLoss())\n",
        "    print(f\"Training loss: {train_loss:.6f}\")\n",
        "\n",
        "    val_loss, accuracy, f1, precision, recall, auroc = evaluate(model, val_dataloader)\n",
        "    print(f\"Validation loss: {val_loss:.6f}\")\n",
        "    print(f\"Accuracy: {accuracy:.4f}\")\n",
        "    print(f\"F1 Score: {f1:.4f}\")\n",
        "    print(f\"Precision: {precision:.4f}\")\n",
        "    print(f\"Recall: {recall:.4f}\")\n",
        "    print(f\"AUROC: {auroc:.4f}\")\n",
        "\n",
        "    # Early stopping 체크\n",
        "    early_stopping(val_loss)\n",
        "    if early_stopping.early_stop:\n",
        "        break"
      ],
      "metadata": {
        "colab": {
          "base_uri": "https://localhost:8080/",
          "height": 1000
        },
        "id": "SLRyMsVRnbgd",
        "outputId": "1b240e9c-234d-493e-cbb4-56dc052330d0",
        "collapsed": true
      },
      "execution_count": 12,
      "outputs": [
        {
          "output_type": "stream",
          "name": "stdout",
          "text": [
            "\n",
            "Epoch 1/10\n",
            "Training loss: 0.148842\n"
          ]
        },
        {
          "output_type": "display_data",
          "data": {
            "text/plain": [
              "<Figure size 640x480 with 1 Axes>"
            ],
            "image/png": "[encoded data removed]"
          },
          "metadata": {}
        },
        {
          "output_type": "stream",
          "name": "stdout",
          "text": [
            "Validation loss: 0.686925\n",
            "Accuracy: 0.5212\n",
            "F1 Score: 0.4141\n",
            "Precision: 0.5675\n",
            "Recall: 0.5212\n",
            "AUROC: 0.6282\n",
            "\n",
            "Epoch 2/10\n",
            "Training loss: 0.136882\n"
          ]
        },
        {
          "output_type": "display_data",
          "data": {
            "text/plain": [
              "<Figure size 640x480 with 1 Axes>"
            ],
            "image/png": "[encoded data removed]"
          },
          "metadata": {}
        },
        {
          "output_type": "stream",
          "name": "stdout",
          "text": [
            "Validation loss: 0.665453\n",
            "Accuracy: 0.5976\n",
            "F1 Score: 0.5879\n",
            "Precision: 0.6065\n",
            "Recall: 0.5976\n",
            "AUROC: 0.6623\n",
            "\n",
            "Epoch 3/10\n",
            "Training loss: 0.124501\n"
          ]
        },
        {
          "output_type": "display_data",
          "data": {
            "text/plain": [
              "<Figure size 640x480 with 1 Axes>"
            ],
            "image/png": "[encoded data removed]"
          },
          "metadata": {}
        },
        {
          "output_type": "stream",
          "name": "stdout",
          "text": [
            "Validation loss: 0.647984\n",
            "Accuracy: 0.6062\n",
            "F1 Score: 0.5949\n",
            "Precision: 0.6183\n",
            "Recall: 0.6062\n",
            "AUROC: 0.6898\n",
            "\n",
            "Epoch 4/10\n",
            "Training loss: 0.106414\n"
          ]
        },
        {
          "output_type": "display_data",
          "data": {
            "text/plain": [
              "<Figure size 640x480 with 1 Axes>"
            ],
            "image/png": "[encoded data removed]"
          },
          "metadata": {}
        },
        {
          "output_type": "stream",
          "name": "stdout",
          "text": [
            "Validation loss: 0.638435\n",
            "Accuracy: 0.6255\n",
            "F1 Score: 0.6248\n",
            "Precision: 0.6268\n",
            "Recall: 0.6255\n",
            "AUROC: 0.6795\n",
            "\n",
            "Epoch 5/10\n",
            "Training loss: 0.080530\n"
          ]
        },
        {
          "output_type": "display_data",
          "data": {
            "text/plain": [
              "<Figure size 640x480 with 1 Axes>"
            ],
            "image/png": "[encoded data removed]"
          },
          "metadata": {}
        },
        {
          "output_type": "stream",
          "name": "stdout",
          "text": [
            "Validation loss: 0.660520\n",
            "Accuracy: 0.6220\n",
            "F1 Score: 0.6035\n",
            "Precision: 0.6378\n",
            "Recall: 0.6220\n",
            "AUROC: 0.6678\n",
            "\n",
            "Epoch 6/10\n",
            "Training loss: 0.062167\n"
          ]
        },
        {
          "output_type": "display_data",
          "data": {
            "text/plain": [
              "<Figure size 640x480 with 1 Axes>"
            ],
            "image/png": "[encoded data removed]"
          },
          "metadata": {}
        },
        {
          "output_type": "stream",
          "name": "stdout",
          "text": [
            "Validation loss: 0.670898\n",
            "Accuracy: 0.6094\n",
            "F1 Score: 0.6034\n",
            "Precision: 0.6155\n",
            "Recall: 0.6094\n",
            "AUROC: 0.6638\n",
            "\n",
            "Epoch 7/10\n",
            "Training loss: 0.044819\n"
          ]
        },
        {
          "output_type": "display_data",
          "data": {
            "text/plain": [
              "<Figure size 640x480 with 1 Axes>"
            ],
            "image/png": "[encoded data removed]"
          },
          "metadata": {}
        },
        {
          "output_type": "stream",
          "name": "stdout",
          "text": [
            "Validation loss: 0.692698\n",
            "Accuracy: 0.6055\n",
            "F1 Score: 0.6043\n",
            "Precision: 0.6080\n",
            "Recall: 0.6055\n",
            "AUROC: 0.6660\n",
            "Early stopping triggered\n"
          ]
        }
      ]
    },
    {
      "cell_type": "code",
      "source": [
        "# Final evaluation on test set\n",
        "test_loss, test_accuracy, test_f1, test_precision, test_recall, test_auroc = evaluate(model, test_dataloader)\n",
        "print(f\"\\nTest Results:\")\n",
        "print(f\"Test Loss: {test_loss:.6f}\")\n",
        "print(f\"Test Accuracy: {test_accuracy:.4f}\")\n",
        "print(f\"Test F1 Score: {test_f1:.4f}\")\n",
        "print(f\"Test Precision: {test_precision:.4f}\")\n",
        "print(f\"Test Recall: {test_recall:.4f}\")\n",
        "print(f\"Test AUROC: {test_auroc:.4f}\")"
      ],
      "metadata": {
        "id": "5OTo8JsBndlh"
      },
      "execution_count": null,
      "outputs": []
    },
    {
      "cell_type": "markdown",
      "source": [
        "# Model (Balanced Label)"
      ],
      "metadata": {
        "id": "utqAHplYXopA"
      }
    },
    {
      "cell_type": "markdown",
      "source": [
        "In this part, I have used balanced class (0:1 proportion is balanced to 50:50) to perform prediction."
      ],
      "metadata": {
        "id": "D003vWpEZhH5"
      }
    },
    {
      "cell_type": "code",
      "source": [
        "import torch\n",
        "from tqdm import tqdm\n",
        "from transformers import BertTokenizer, BertForSequenceClassification, AdamW, get_cosine_schedule_with_warmup\n",
        "from torch.utils.data import DataLoader, TensorDataset, RandomSampler\n",
        "from sklearn.metrics import (precision_score, recall_score, f1_score, accuracy_score,\n",
        "                             roc_auc_score, roc_curve, precision_recall_curve, auc)\n",
        "import matplotlib.pyplot as plt\n",
        "import numpy as np\n",
        "\n",
        "# GPU Configuration\n",
        "device = torch.device('cuda' if torch.cuda.is_available() else 'cpu')\n",
        "print(f\"Using device: {device}\")\n",
        "\n",
        "# ClinicalBERT Loading\n",
        "tokenizer = BertTokenizer.from_pretrained('emilyalsentzer/Bio_ClinicalBERT')\n",
        "model = BertForSequenceClassification.from_pretrained(\n",
        "    'emilyalsentzer/Bio_ClinicalBERT',\n",
        "    num_labels=2,\n",
        "    hidden_dropout_prob=0.2  # Adjusted dropout rate\n",
        ").to(device)\n"
      ],
      "metadata": {
        "colab": {
          "base_uri": "https://localhost:8080/",
          "height": 279,
          "referenced_widgets": [
            "31b1260b43f94914a8e9dd0335e3368b",
            "4e28987762734bd9bec935f563af8048",
            "ede32ccbe98c492f82ffc65c0449773a",
            "708a14f3dc174fabb54299772f5b56d5",
            "82c4c0d7987c409aabc7794d205c8870",
            "7faa86b990d645a1b305836d4acff8c8",
            "7bcb074f69ef4787b93f87623dcaa54f",
            "9cb7e3535bd14c1eba2501e416a757a8",
            "6a6188433c034ddd97fed3f2cd0b15ff",
            "a61b6912e64f41d08d40b4e9c7e425fe",
            "6278c61de1e6455fa3e5a06e12d0a817",
            "001dcb66cab64e558ebd1ea907a13bee",
            "af89100d974c4b51960c81693f5e1ea0",
            "54bbab07464a48adb84c97de4c8dd160",
            "cb0c71de6cb04e7f839ff55a0432a7f3",
            "4f79ae25c994416a881e4e32f1f3f9c1",
            "c1a806bc3e894668bfdc5a37bf63926c",
            "659b114e6e914f03b9dbba817aade841",
            "507179a5f9d1445ea967e59c522708c7",
            "f45c58e99a0e49dc91572e6e275f3a27",
            "dec876e8ca14439b9681b72fc1d712f5",
            "1a53a35bb9444f80bc26da1c3f44998c",
            "3d5e79c4ff29498b963ff5921756f3d3",
            "93b1d79e86bf4c299cc299f74bb9b253",
            "f3888266a6a8419ea36660c49bdb10b8",
            "037314bf9fff40ac83e17c1a48793ffd",
            "ce406e7cffa74105b1132ae1c01d91f9",
            "cdb37234996a46e38254576ad7a783c0",
            "3ae623ef4e4441b6899edf9a3acb9de3",
            "509ac45128b0474b9b1ae026073f4045",
            "2c215c8e2a7c4446805364de890fae0a",
            "c240423296314e19983a1c73c5eb21b4",
            "364dc5f5164b4dffbdea389a4ab85539"
          ]
        },
        "id": "VVut9E0BXshf",
        "outputId": "a160097c-bdb8-4fd9-9390-a804c9199b31"
      },
      "execution_count": null,
      "outputs": [
        {
          "output_type": "stream",
          "name": "stdout",
          "text": [
            "Using device: cuda\n"
          ]
        },
        {
          "output_type": "stream",
          "name": "stderr",
          "text": [
            "/usr/local/lib/python3.10/dist-packages/huggingface_hub/utils/_auth.py:94: UserWarning: \n",
            "The secret `HF_TOKEN` does not exist in your Colab secrets.\n",
            "To authenticate with the Hugging Face Hub, create a token in your settings tab (https://huggingface.co/settings/tokens), set it as secret in your Google Colab and restart your session.\n",
            "You will be able to reuse this secret in all of your notebooks.\n",
            "Please note that authentication is recommended but still optional to access public models or datasets.\n",
            "  warnings.warn(\n"
          ]
        },
        {
          "output_type": "display_data",
          "data": {
            "text/plain": [
              "vocab.txt:   0%|          | 0.00/213k [00:00<?, ?B/s]"
            ],
            "application/vnd.jupyter.widget-view+json": {
              "version_major": 2,
              "version_minor": 0,
              "model_id": "31b1260b43f94914a8e9dd0335e3368b"
            }
          },
          "metadata": {}
        },
        {
          "output_type": "display_data",
          "data": {
            "text/plain": [
              "config.json:   0%|          | 0.00/385 [00:00<?, ?B/s]"
            ],
            "application/vnd.jupyter.widget-view+json": {
              "version_major": 2,
              "version_minor": 0,
              "model_id": "001dcb66cab64e558ebd1ea907a13bee"
            }
          },
          "metadata": {}
        },
        {
          "output_type": "display_data",
          "data": {
            "text/plain": [
              "pytorch_model.bin:   0%|          | 0.00/436M [00:00<?, ?B/s]"
            ],
            "application/vnd.jupyter.widget-view+json": {
              "version_major": 2,
              "version_minor": 0,
              "model_id": "3d5e79c4ff29498b963ff5921756f3d3"
            }
          },
          "metadata": {}
        },
        {
          "output_type": "stream",
          "name": "stderr",
          "text": [
            "Some weights of BertForSequenceClassification were not initialized from the model checkpoint at emilyalsentzer/Bio_ClinicalBERT and are newly initialized: ['classifier.bias', 'classifier.weight']\n",
            "You should probably TRAIN this model on a down-stream task to be able to use it for predictions and inference.\n"
          ]
        }
      ]
    },
    {
      "cell_type": "code",
      "source": [
        "# Early Stopping Class\n",
        "class EarlyStopping:\n",
        "    def __init__(self, patience=3, verbose=False):\n",
        "        self.patience = patience\n",
        "        self.verbose = verbose\n",
        "        self.counter = 0\n",
        "        self.best_loss = float('inf')\n",
        "        self.early_stop = False\n",
        "\n",
        "    def __call__(self, val_loss):\n",
        "        if val_loss < self.best_loss:\n",
        "            self.best_loss = val_loss\n",
        "            self.counter = 0\n",
        "        else:\n",
        "            self.counter += 1\n",
        "            if self.counter >= self.patience:\n",
        "                self.early_stop = True\n",
        "                if self.verbose:\n",
        "                    print(\"Early stopping triggered\")"
      ],
      "metadata": {
        "id": "6wOtUfM1XyRs"
      },
      "execution_count": null,
      "outputs": []
    },
    {
      "cell_type": "code",
      "source": [
        "# Data Preparation and Tokenization\n",
        "def prepare_data_and_tokenize(df):\n",
        "    texts = df['text'].tolist()\n",
        "    labels = df['Label'].tolist()\n",
        "\n",
        "    input_ids = []\n",
        "    attention_masks = []\n",
        "\n",
        "    print(\"Tokenizing data...\")\n",
        "    for text in tqdm(texts, desc=\"Tokenizing texts\", unit=\"text\"):\n",
        "        encoded_dict = tokenizer(\n",
        "            text,\n",
        "            add_special_tokens=True,\n",
        "            max_length=512,\n",
        "            padding='max_length',\n",
        "            truncation=True,\n",
        "            return_tensors='pt'\n",
        "        )\n",
        "        input_ids.append(encoded_dict['input_ids'])\n",
        "        attention_masks.append(encoded_dict['attention_mask'])\n",
        "\n",
        "    input_ids = torch.cat(input_ids, dim=0)\n",
        "    attention_masks = torch.cat(attention_masks, dim=0)\n",
        "    labels = torch.tensor(labels)\n",
        "\n",
        "    return input_ids, attention_masks, labels"
      ],
      "metadata": {
        "id": "LWl6KPUXX1OJ"
      },
      "execution_count": null,
      "outputs": []
    },
    {
      "cell_type": "code",
      "source": [
        "# DataLoader Creation\n",
        "def create_data_loader(input_ids, attention_masks, labels, batch_size=16):\n",
        "    dataset = TensorDataset(input_ids, attention_masks, labels)\n",
        "    sampler = RandomSampler(dataset)  # Using a random sampler\n",
        "    return DataLoader(dataset, sampler=sampler, batch_size=batch_size)"
      ],
      "metadata": {
        "id": "6TCw5dQ4X3f5"
      },
      "execution_count": null,
      "outputs": []
    },
    {
      "cell_type": "code",
      "source": [
        "# Training Function\n",
        "def train_model(model, dataloader, optimizer, scheduler, loss_fn):\n",
        "    model.train()\n",
        "    total_loss = 0\n",
        "\n",
        "    for batch in dataloader:\n",
        "        batch = tuple(t.to(device) for t in batch)\n",
        "        b_input_ids, b_input_mask, b_labels = batch\n",
        "\n",
        "        model.zero_grad()\n",
        "        outputs = model(b_input_ids, attention_mask=b_input_mask)\n",
        "        logits = outputs.logits\n",
        "\n",
        "        loss = loss_fn(logits, b_labels)\n",
        "        total_loss += loss.item()\n",
        "        loss.backward()\n",
        "\n",
        "        optimizer.step()\n",
        "        scheduler.step()\n",
        "\n",
        "    return total_loss / len(dataloader)"
      ],
      "metadata": {
        "id": "ElrFCA0lX5qW"
      },
      "execution_count": null,
      "outputs": []
    },
    {
      "cell_type": "code",
      "source": [
        "# Evaluation Function\n",
        "def evaluate(model, dataloader):\n",
        "    model.eval()\n",
        "    total_eval_loss = 0\n",
        "    all_preds, all_labels, all_probs = [], [], []\n",
        "\n",
        "    with torch.no_grad():\n",
        "        for batch in dataloader:\n",
        "            batch = tuple(t.to(device) for t in batch)\n",
        "            b_input_ids, b_input_mask, b_labels = batch\n",
        "            outputs = model(b_input_ids, attention_mask=b_input_mask, labels=b_labels)\n",
        "            total_eval_loss += outputs.loss.item()\n",
        "\n",
        "            logits = outputs.logits\n",
        "            all_preds.extend(torch.argmax(logits, dim=1).cpu().numpy())\n",
        "            all_labels.extend(b_labels.cpu().numpy())\n",
        "            probs = torch.nn.functional.softmax(logits, dim=1)\n",
        "            all_probs.extend(probs.cpu().numpy()[:, 1])\n",
        "\n",
        "    accuracy = accuracy_score(all_labels, all_preds)\n",
        "    f1 = f1_score(all_labels, all_preds, average='weighted')\n",
        "    precision = precision_score(all_labels, all_preds, average='weighted')\n",
        "    recall = recall_score(all_labels, all_preds, average='weighted')\n",
        "    auroc = roc_auc_score(all_labels, all_probs)\n",
        "\n",
        "    # Precision-Recall Curve\n",
        "    precision_vals, recall_vals, _ = precision_recall_curve(all_labels, all_probs)\n",
        "    plt.figure()\n",
        "    plt.plot(recall_vals, precision_vals, marker='.', label='Precision-Recall Curve')\n",
        "    plt.xlabel('Recall')\n",
        "    plt.ylabel('Precision')\n",
        "    plt.legend()\n",
        "    plt.show()\n",
        "\n",
        "    return total_eval_loss / len(dataloader), accuracy, f1, precision, recall, auroc\n"
      ],
      "metadata": {
        "id": "Q7uX5z4AX9CA"
      },
      "execution_count": null,
      "outputs": []
    },
    {
      "cell_type": "code",
      "source": [
        "# Preparing Datasets\n",
        "# train_input_ids, train_attention_masks, train_labels = prepare_data_and_tokenize(train_upsampled)\n",
        "# val_input_ids, val_attention_masks, val_labels = prepare_data_and_tokenize(val_upsampled)\n",
        "# test_input_ids, test_attention_masks, test_labels = prepare_data_and_tokenize(test_upsampled)\n",
        "from google.colab import drive\n",
        "drive.mount('/content/drive')\n",
        "import os\n",
        "drive_path ='/content/drive/MyDrive/STAT3612_dataset/STAT3612_data_preprocessing_final/upsampling_test'\n",
        "os.makedirs(drive_path,exist_ok=True)\n",
        "\n",
        "train_input_ids, train_attention_masks, train_labels = torch.load(os.path.join(drive_path, 'train_upsampled.pt'))\n",
        "val_input_ids, val_attention_masks, val_labels = torch.load(os.path.join(drive_path, 'val_upsampled.pt'))\n",
        "test_input_ids, test_attention_masks, test_labels = torch.load(os.path.join(drive_path, 'test_upsampled.pt'))\n",
        "\n",
        "\n",
        "# Creating DataLoaders\n",
        "train_dataloader = create_data_loader(train_input_ids, train_attention_masks, train_labels, batch_size=16)\n",
        "val_dataloader = create_data_loader(val_input_ids, val_attention_masks, val_labels, batch_size=16)\n",
        "test_dataloader = create_data_loader(test_input_ids, test_attention_masks, test_labels, batch_size=16)\n"
      ],
      "metadata": {
        "colab": {
          "base_uri": "https://localhost:8080/"
        },
        "id": "S6IkCG6RYAFM",
        "outputId": "e735e91e-39e2-4a4a-b32c-fcc4b6b3349b"
      },
      "execution_count": null,
      "outputs": [
        {
          "output_type": "stream",
          "name": "stdout",
          "text": [
            "Mounted at /content/drive\n"
          ]
        },
        {
          "output_type": "stream",
          "name": "stderr",
          "text": [
            "<ipython-input-7-d90b4eb266ff>:11: FutureWarning: You are using `torch.load` with `weights_only=False` (the current default value), which uses the default pickle module implicitly. It is possible to construct malicious pickle data which will execute arbitrary code during unpickling (See https://github.com/pytorch/pytorch/blob/main/SECURITY.md#untrusted-models for more details). In a future release, the default value for `weights_only` will be flipped to `True`. This limits the functions that could be executed during unpickling. Arbitrary objects will no longer be allowed to be loaded via this mode unless they are explicitly allowlisted by the user via `torch.serialization.add_safe_globals`. We recommend you start setting `weights_only=True` for any use case where you don't have full control of the loaded file. Please open an issue on GitHub for any issues related to this experimental feature.\n",
            "  train_input_ids, train_attention_masks, train_labels = torch.load(os.path.join(drive_path, 'train_upsampled.pt'))\n",
            "<ipython-input-7-d90b4eb266ff>:12: FutureWarning: You are using `torch.load` with `weights_only=False` (the current default value), which uses the default pickle module implicitly. It is possible to construct malicious pickle data which will execute arbitrary code during unpickling (See https://github.com/pytorch/pytorch/blob/main/SECURITY.md#untrusted-models for more details). In a future release, the default value for `weights_only` will be flipped to `True`. This limits the functions that could be executed during unpickling. Arbitrary objects will no longer be allowed to be loaded via this mode unless they are explicitly allowlisted by the user via `torch.serialization.add_safe_globals`. We recommend you start setting `weights_only=True` for any use case where you don't have full control of the loaded file. Please open an issue on GitHub for any issues related to this experimental feature.\n",
            "  val_input_ids, val_attention_masks, val_labels = torch.load(os.path.join(drive_path, 'val_upsampled.pt'))\n",
            "<ipython-input-7-d90b4eb266ff>:13: FutureWarning: You are using `torch.load` with `weights_only=False` (the current default value), which uses the default pickle module implicitly. It is possible to construct malicious pickle data which will execute arbitrary code during unpickling (See https://github.com/pytorch/pytorch/blob/main/SECURITY.md#untrusted-models for more details). In a future release, the default value for `weights_only` will be flipped to `True`. This limits the functions that could be executed during unpickling. Arbitrary objects will no longer be allowed to be loaded via this mode unless they are explicitly allowlisted by the user via `torch.serialization.add_safe_globals`. We recommend you start setting `weights_only=True` for any use case where you don't have full control of the loaded file. Please open an issue on GitHub for any issues related to this experimental feature.\n",
            "  test_input_ids, test_attention_masks, test_labels = torch.load(os.path.join(drive_path, 'test_upsampled.pt'))\n"
          ]
        }
      ]
    },
    {
      "cell_type": "code",
      "source": [
        "# import os\n",
        "# drive_path ='/content/drive/MyDrive/STAT3612_dataset/STAT3612_data_preprocessing_final/upsampling_test'\n",
        "# os.makedirs(drive_path,exist_ok=True)\n",
        "# torch.save((train_input_ids, train_attention_masks, train_labels), os.path.join(drive_path, 'train_upsampled.pt'))\n",
        "# torch.save((val_input_ids, val_attention_masks, val_labels), os.path.join(drive_path, 'val_upsampled.pt'))\n",
        "# torch.save((test_input_ids, test_attention_masks, test_labels), os.path.join(drive_path, 'test_upsampled.pt'))"
      ],
      "metadata": {
        "id": "wV0uifsR1YWe"
      },
      "execution_count": null,
      "outputs": []
    },
    {
      "cell_type": "code",
      "source": [
        "# Optimizer setup\n",
        "optimizer = AdamW(\n",
        "    model.parameters(),\n",
        "    lr=1e-5,  # Learning rate\n",
        "    eps=1e-8, # Epsilon value to avoid division by zero\n",
        "    weight_decay = 1e-4  # Weight decay (L2 regularization)\n",
        ")\n",
        "\n",
        "# Scheduler setup\n",
        "num_epochs = 10  # Number of epochs\n",
        "total_steps = len(train_dataloader) * num_epochs  # Total training steps\n",
        "num_warmup_steps = int(0.1 * total_steps)  # 10% of total steps as warmup\n",
        "\n",
        "scheduler = get_cosine_schedule_with_warmup(\n",
        "    optimizer,\n",
        "    num_warmup_steps=num_warmup_steps,\n",
        "    num_training_steps=total_steps\n",
        ")\n",
        "\n",
        "# Early stopping setup\n",
        "early_stopping = EarlyStopping(\n",
        "    patience=3,  # Number of epochs to wait for improvement\n",
        "    verbose=True  # Print messages when early stopping is triggered\n",
        ")\n"
      ],
      "metadata": {
        "id": "XSJGFj44YCfH",
        "colab": {
          "base_uri": "https://localhost:8080/"
        },
        "outputId": "28f7715e-0350-474c-c941-6354ac44e2e3"
      },
      "execution_count": null,
      "outputs": [
        {
          "output_type": "stream",
          "name": "stderr",
          "text": [
            "/usr/local/lib/python3.10/dist-packages/transformers/optimization.py:591: FutureWarning: This implementation of AdamW is deprecated and will be removed in a future version. Use the PyTorch implementation torch.optim.AdamW instead, or set `no_deprecation_warning=True` to disable this warning\n",
            "  warnings.warn(\n"
          ]
        }
      ]
    },
    {
      "cell_type": "code",
      "source": [
        "# Training Loop\n",
        "epochs = 10\n",
        "for epoch in range(epochs):\n",
        "    print(f\"\\nEpoch {epoch + 1}/{epochs}\")\n",
        "    train_loss = train_model(model, train_dataloader, optimizer, scheduler, torch.nn.CrossEntropyLoss())\n",
        "    print(f\"Training loss: {train_loss:.6f}\")\n",
        "\n",
        "    val_loss, accuracy, f1, precision, recall, auroc = evaluate(model, val_dataloader)\n",
        "    print(f\"Validation loss: {val_loss:.6f}\")\n",
        "    print(f\"Accuracy: {accuracy:.4f}\")\n",
        "    print(f\"F1 Score: {f1:.4f}\")\n",
        "    print(f\"Precision: {precision:.4f}\")\n",
        "    print(f\"Recall: {recall:.4f}\")\n",
        "    print(f\"AUROC: {auroc:.4f}\")\n",
        "\n",
        "    early_stopping(val_loss)\n",
        "    if early_stopping.early_stop:\n",
        "        break"
      ],
      "metadata": {
        "colab": {
          "base_uri": "https://localhost:8080/",
          "height": 1000
        },
        "id": "nf7DMaBtYEqk",
        "outputId": "cc39cb55-4997-4f9a-b2e9-8e25addcc8b6"
      },
      "execution_count": null,
      "outputs": [
        {
          "metadata": {
            "tags": null
          },
          "name": "stdout",
          "output_type": "stream",
          "text": [
            "\n",
            "Epoch 1/10\n",
            "Training loss: 0.686448\n"
          ]
        },
        {
          "data": {
            "image/png": "[encoded data removed]",
            "text/plain": [
              "<Figure size 640x480 with 1 Axes>"
            ]
          },
          "metadata": {},
          "output_type": "display_data"
        },
        {
          "metadata": {
            "tags": null
          },
          "name": "stdout",
          "output_type": "stream",
          "text": [
            "Validation loss: 0.671180\n",
            "Accuracy: 0.5969\n",
            "F1 Score: 0.5831\n",
            "Precision: 0.6116\n",
            "Recall: 0.5969\n",
            "AUROC: 0.6367\n",
            "\n",
            "Epoch 2/10\n",
            "Training loss: 0.609930\n"
          ]
        },
        {
          "data": {
            "image/png": "[encoded data removed]",
            "text/plain": [
              "<Figure size 640x480 with 1 Axes>"
            ]
          },
          "metadata": {},
          "output_type": "display_data"
        },
        {
          "metadata": {
            "tags": null
          },
          "name": "stdout",
          "output_type": "stream",
          "text": [
            "Validation loss: 0.667999\n",
            "Accuracy: 0.5984\n",
            "F1 Score: 0.5965\n",
            "Precision: 0.6003\n",
            "Recall: 0.5984\n",
            "AUROC: 0.6511\n",
            "\n",
            "Epoch 3/10\n",
            "Training loss: 0.455311\n"
          ]
        },
        {
          "data": {
            "image/png": "[encoded data removed]",
            "text/plain": [
              "<Figure size 640x480 with 1 Axes>"
            ]
          },
          "metadata": {},
          "output_type": "display_data"
        },
        {
          "metadata": {
            "tags": null
          },
          "name": "stdout",
          "output_type": "stream",
          "text": [
            "Validation loss: 0.859419\n",
            "Accuracy: 0.5908\n",
            "F1 Score: 0.5542\n",
            "Precision: 0.6352\n",
            "Recall: 0.5908\n",
            "AUROC: 0.6634\n",
            "\n",
            "Epoch 4/10\n",
            "Training loss: 0.268702\n"
          ]
        },
        {
          "data": {
            "image/png": "[encoded data removed]",
            "text/plain": [
              "<Figure size 640x480 with 1 Axes>"
            ]
          },
          "metadata": {},
          "output_type": "display_data"
        },
        {
          "output_type": "stream",
          "name": "stdout",
          "text": [
            "Validation loss: 0.917849\n",
            "Accuracy: 0.6055\n",
            "F1 Score: 0.6052\n",
            "Precision: 0.6059\n",
            "Recall: 0.6055\n",
            "AUROC: 0.6502\n",
            "\n",
            "Epoch 5/10\n",
            "Training loss: 0.164545\n"
          ]
        },
        {
          "output_type": "display_data",
          "data": {
            "text/plain": [
              "<Figure size 640x480 with 1 Axes>"
            ],
            "image/png": "[encoded data removed]"
          },
          "metadata": {}
        },
        {
          "output_type": "stream",
          "name": "stdout",
          "text": [
            "Validation loss: 1.121499\n",
            "Accuracy: 0.5930\n",
            "F1 Score: 0.5921\n",
            "Precision: 0.5938\n",
            "Recall: 0.5930\n",
            "AUROC: 0.6485\n",
            "Early stopping triggered\n"
          ]
        }
      ]
    },
    {
      "cell_type": "code",
      "source": [
        "# Final Evaluation on Test Set\n",
        "test_loss, test_accuracy, test_f1, test_precision, test_recall, test_auroc = evaluate(model, test_dataloader)\n",
        "print(f\"\\nTest Results:\")\n",
        "print(f\"Test Loss: {test_loss:.6f}\")\n",
        "print(f\"Test Accuracy: {test_accuracy:.4f}\")\n",
        "print(f\"Test F1 Score: {test_f1:.4f}\")\n",
        "print(f\"Test Precision: {test_precision:.4f}\")\n",
        "print(f\"Test Recall: {test_recall:.4f}\")\n",
        "print(f\"Test AUROC: {test_auroc:.4f}\")"
      ],
      "metadata": {
        "colab": {
          "base_uri": "https://localhost:8080/",
          "height": 597
        },
        "id": "wwLw5jiFYGjS",
        "outputId": "43f2a12a-e5a1-4113-d809-906b979e2871"
      },
      "execution_count": null,
      "outputs": [
        {
          "output_type": "display_data",
          "data": {
            "text/plain": [
              "<Figure size 640x480 with 1 Axes>"
            ],
            "image/png": "[encoded data removed]"
          },
          "metadata": {}
        },
        {
          "output_type": "stream",
          "name": "stdout",
          "text": [
            "\n",
            "Test Results:\n",
            "Test Loss: 1.463228\n",
            "Test Accuracy: 0.5165\n",
            "Test F1 Score: 0.5164\n",
            "Test Precision: 0.5165\n",
            "Test Recall: 0.5165\n",
            "Test AUROC: 0.5225\n"
          ]
        }
      ]
    },
    {
      "cell_type": "markdown",
      "source": [
        "#Different scheduler"
      ],
      "metadata": {
        "id": "I-vhCblIcMNH"
      }
    },
    {
      "cell_type": "code",
      "source": [
        "import torch\n",
        "import pandas as pd\n",
        "from tqdm import tqdm\n",
        "from transformers import BertTokenizer, BertForSequenceClassification, AdamW\n",
        "from torch.optim.lr_scheduler import ReduceLROnPlateau\n",
        "from torch.utils.data import DataLoader, TensorDataset, RandomSampler, WeightedRandomSampler\n",
        "from sklearn.metrics import (precision_score, recall_score, f1_score, accuracy_score,\n",
        "                             roc_auc_score, precision_recall_curve)\n",
        "import matplotlib.pyplot as plt\n",
        "import numpy as np"
      ],
      "metadata": {
        "id": "RtgQlBLfcSA4"
      },
      "execution_count": null,
      "outputs": []
    },
    {
      "cell_type": "code",
      "source": [
        "# GPU 설정\n",
        "device = torch.device('cuda' if torch.cuda.is_available() else 'cpu')\n",
        "print(f\"Using device: {device}\")\n",
        "\n",
        "# ClinicalBERT 불러오기\n",
        "tokenizer = BertTokenizer.from_pretrained('emilyalsentzer/Bio_ClinicalBERT')\n",
        "model = BertForSequenceClassification.from_pretrained(\n",
        "    'emilyalsentzer/Bio_ClinicalBERT',\n",
        "    num_labels=2,\n",
        "    hidden_dropout_prob=0.2  # Dropout 설정\n",
        ").to(device)"
      ],
      "metadata": {
        "id": "s4wRIfuQcTOc"
      },
      "execution_count": null,
      "outputs": []
    },
    {
      "cell_type": "code",
      "source": [
        "# Focal Loss 정의\n",
        "class FocalLoss(torch.nn.Module):\n",
        "    def __init__(self, alpha=0.815, gamma=2, reduction='mean'):\n",
        "        super(FocalLoss, self).__init__()\n",
        "        self.alpha = alpha\n",
        "        self.gamma = gamma\n",
        "        self.reduction = reduction\n",
        "\n",
        "    def forward(self, inputs, targets):\n",
        "        ce_loss = torch.nn.CrossEntropyLoss(reduction='none')(inputs, targets)\n",
        "        pt = torch.exp(-ce_loss)\n",
        "        focal_loss = self.alpha * ((1 - pt) ** self.gamma) * ce_loss\n",
        "\n",
        "        if self.reduction == 'mean':\n",
        "            return focal_loss.mean()\n",
        "        elif self.reduction == 'sum':\n",
        "            return focal_loss.sum()\n",
        "        else:\n",
        "            return focal_loss\n",
        "\n",
        "# Early Stopping 정의\n",
        "class EarlyStopping:\n",
        "    def __init__(self, patience=3, verbose=False):\n",
        "        self.patience = patience\n",
        "        self.verbose = verbose\n",
        "        self.counter = 0\n",
        "        self.best_loss = float('inf')\n",
        "        self.early_stop = False\n",
        "\n",
        "    def __call__(self, val_loss):\n",
        "        if val_loss < self.best_loss:\n",
        "            self.best_loss = val_loss\n",
        "            self.counter = 0\n",
        "        else:\n",
        "            self.counter += 1\n",
        "            if self.counter >= self.patience:\n",
        "                self.early_stop = True\n",
        "                if self.verbose:\n",
        "                    print(\"Early stopping triggered\")"
      ],
      "metadata": {
        "id": "h59tXKJ4cS_F"
      },
      "execution_count": 14,
      "outputs": []
    },
    {
      "cell_type": "code",
      "source": [
        "# 데이터 준비 및 토큰화 함수\n",
        "def prepare_data_and_tokenize(df):\n",
        "    texts = df['text'].tolist()\n",
        "    labels = df['Label'].tolist()\n",
        "\n",
        "    input_ids = []\n",
        "    attention_masks = []\n",
        "\n",
        "    print(\"Tokenizing data...\")\n",
        "    for text in tqdm(texts, desc=\"Tokenizing texts\", unit=\"text\"):\n",
        "        encoded_dict = tokenizer(\n",
        "            text,\n",
        "            add_special_tokens=True,\n",
        "            max_length=512,\n",
        "            padding='max_length',\n",
        "            truncation=True,\n",
        "            return_tensors='pt'\n",
        "        )\n",
        "        input_ids.append(encoded_dict['input_ids'])\n",
        "        attention_masks.append(encoded_dict['attention_mask'])\n",
        "\n",
        "    input_ids = torch.cat(input_ids, dim=0)\n",
        "    attention_masks = torch.cat(attention_masks, dim=0)\n",
        "    labels = torch.tensor(labels)\n",
        "\n",
        "    return input_ids, attention_masks, labels"
      ],
      "metadata": {
        "id": "9kHfhm7wcS7p"
      },
      "execution_count": 15,
      "outputs": []
    },
    {
      "cell_type": "code",
      "source": [
        "# DataLoader 생성 함수 (Weighted Sampler 추가)\n",
        "def create_data_loader(input_ids, attention_masks, labels, batch_size=32, sampler_type=\"weighted\"):\n",
        "    dataset = TensorDataset(input_ids, attention_masks, labels)\n",
        "    if sampler_type == \"weighted\":\n",
        "        class_counts = np.bincount(labels.numpy())\n",
        "        class_weights = 1.0 / class_counts\n",
        "        weights = class_weights[labels.numpy()]\n",
        "        sampler = WeightedRandomSampler(weights, len(weights))\n",
        "    else:\n",
        "        sampler = RandomSampler(dataset)\n",
        "    return DataLoader(dataset, sampler=sampler, batch_size=batch_size)\n",
        "\n",
        "# Training function with Focal Loss\n",
        "def train_with_focal_loss(model, dataloader, optimizer, loss_fn):\n",
        "    model.train()\n",
        "    total_loss = 0\n",
        "\n",
        "    for batch in dataloader:\n",
        "        batch = tuple(t.to(device) for t in batch)\n",
        "        b_input_ids, b_input_mask, b_labels = batch\n",
        "\n",
        "        model.zero_grad()\n",
        "        outputs = model(b_input_ids, attention_mask=b_input_mask)\n",
        "        logits = outputs.logits\n",
        "\n",
        "        loss = loss_fn(logits, b_labels)\n",
        "        total_loss += loss.item()\n",
        "        loss.backward()\n",
        "\n",
        "        optimizer.step()\n",
        "\n",
        "    return total_loss / len(dataloader)"
      ],
      "metadata": {
        "id": "9ypvwHXmcS4S"
      },
      "execution_count": 16,
      "outputs": []
    },
    {
      "cell_type": "code",
      "source": [
        "# 평가 함수\n",
        "def evaluate(model, dataloader):\n",
        "    model.eval()\n",
        "    total_eval_loss = 0\n",
        "    all_preds, all_labels, all_probs = [], [], []\n",
        "\n",
        "    with torch.no_grad():\n",
        "        for batch in dataloader:\n",
        "            batch = tuple(t.to(device) for t in batch)\n",
        "            b_input_ids, b_input_mask, b_labels = batch\n",
        "            outputs = model(b_input_ids, attention_mask=b_input_mask, labels=b_labels)\n",
        "            total_eval_loss += outputs.loss.item()\n",
        "\n",
        "            logits = outputs.logits\n",
        "            all_preds.extend(torch.argmax(logits, dim=1).cpu().numpy())\n",
        "            all_labels.extend(b_labels.cpu().numpy())\n",
        "            probs = torch.nn.functional.softmax(logits, dim=1)\n",
        "            all_probs.extend(probs.cpu().numpy()[:, 1])\n",
        "\n",
        "    accuracy = accuracy_score(all_labels, all_preds)\n",
        "    f1 = f1_score(all_labels, all_preds, average='weighted')\n",
        "    precision = precision_score(all_labels, all_preds, average='weighted')\n",
        "    recall = recall_score(all_labels, all_preds, average='weighted')\n",
        "    auroc = roc_auc_score(all_labels, all_probs)\n",
        "\n",
        "    return total_eval_loss / len(dataloader), accuracy, f1, precision, recall, auroc\n"
      ],
      "metadata": {
        "id": "Cjh68MpScSzx"
      },
      "execution_count": 17,
      "outputs": []
    },
    {
      "cell_type": "code",
      "source": [
        "from google.colab import drive\n",
        "drive.mount('/content/drive')\n",
        "import os\n",
        "drive_path ='/content/drive/MyDrive/STAT3612_dataset/STAT3612_data_preprocessing_final/imbalnce_test'\n",
        "os.makedirs(drive_path,exist_ok=True)\n",
        "\n",
        "train_input_ids, train_attention_masks, train_labels = torch.load(os.path.join(drive_path, 'train.pt'))\n",
        "val_input_ids, val_attention_masks, val_labels = torch.load(os.path.join(drive_path, 'val.pt'))\n",
        "test_input_ids, test_attention_masks, test_labels = torch.load(os.path.join(drive_path, 'test.pt'))\n",
        "\n",
        "train_dataloader = create_data_loader(train_input_ids, train_attention_masks, train_labels, sampler_type=\"weighted\")\n",
        "val_dataloader = create_data_loader(val_input_ids, val_attention_masks, val_labels)\n",
        "test_dataloader = create_data_loader(test_input_ids, test_attention_masks, test_labels)\n"
      ],
      "metadata": {
        "colab": {
          "base_uri": "https://localhost:8080/"
        },
        "id": "uFGhptwIcSry",
        "outputId": "aa9654c1-6054-4974-c565-bd9a0422b3cc"
      },
      "execution_count": 22,
      "outputs": [
        {
          "output_type": "stream",
          "name": "stdout",
          "text": [
            "Drive already mounted at /content/drive; to attempt to forcibly remount, call drive.mount(\"/content/drive\", force_remount=True).\n"
          ]
        },
        {
          "output_type": "stream",
          "name": "stderr",
          "text": [
            "<ipython-input-22-34b25161a32b>:7: FutureWarning: You are using `torch.load` with `weights_only=False` (the current default value), which uses the default pickle module implicitly. It is possible to construct malicious pickle data which will execute arbitrary code during unpickling (See https://github.com/pytorch/pytorch/blob/main/SECURITY.md#untrusted-models for more details). In a future release, the default value for `weights_only` will be flipped to `True`. This limits the functions that could be executed during unpickling. Arbitrary objects will no longer be allowed to be loaded via this mode unless they are explicitly allowlisted by the user via `torch.serialization.add_safe_globals`. We recommend you start setting `weights_only=True` for any use case where you don't have full control of the loaded file. Please open an issue on GitHub for any issues related to this experimental feature.\n",
            "  train_input_ids, train_attention_masks, train_labels = torch.load(os.path.join(drive_path, 'train.pt'))\n",
            "<ipython-input-22-34b25161a32b>:8: FutureWarning: You are using `torch.load` with `weights_only=False` (the current default value), which uses the default pickle module implicitly. It is possible to construct malicious pickle data which will execute arbitrary code during unpickling (See https://github.com/pytorch/pytorch/blob/main/SECURITY.md#untrusted-models for more details). In a future release, the default value for `weights_only` will be flipped to `True`. This limits the functions that could be executed during unpickling. Arbitrary objects will no longer be allowed to be loaded via this mode unless they are explicitly allowlisted by the user via `torch.serialization.add_safe_globals`. We recommend you start setting `weights_only=True` for any use case where you don't have full control of the loaded file. Please open an issue on GitHub for any issues related to this experimental feature.\n",
            "  val_input_ids, val_attention_masks, val_labels = torch.load(os.path.join(drive_path, 'val.pt'))\n",
            "<ipython-input-22-34b25161a32b>:9: FutureWarning: You are using `torch.load` with `weights_only=False` (the current default value), which uses the default pickle module implicitly. It is possible to construct malicious pickle data which will execute arbitrary code during unpickling (See https://github.com/pytorch/pytorch/blob/main/SECURITY.md#untrusted-models for more details). In a future release, the default value for `weights_only` will be flipped to `True`. This limits the functions that could be executed during unpickling. Arbitrary objects will no longer be allowed to be loaded via this mode unless they are explicitly allowlisted by the user via `torch.serialization.add_safe_globals`. We recommend you start setting `weights_only=True` for any use case where you don't have full control of the loaded file. Please open an issue on GitHub for any issues related to this experimental feature.\n",
            "  test_input_ids, test_attention_masks, test_labels = torch.load(os.path.join(drive_path, 'test.pt'))\n"
          ]
        }
      ]
    },
    {
      "cell_type": "code",
      "source": [
        "# Optimizer 및 LR Scheduler 설정\n",
        "optimizer = AdamW(model.parameters(), lr=2e-5, eps=1e-8, weight_decay=1e-4)\n",
        "scheduler = ReduceLROnPlateau(optimizer, mode='min', patience=2, factor=0.5, verbose=True)\n",
        "\n",
        "# Early Stopping 초기화\n",
        "early_stopping = EarlyStopping(patience=3, verbose=True)\n",
        "\n",
        "# Loss Function 설정\n",
        "loss_fn = FocalLoss(alpha=0.815, gamma=2)"
      ],
      "metadata": {
        "colab": {
          "base_uri": "https://localhost:8080/"
        },
        "id": "0INN5zg2cSdc",
        "outputId": "94a1d578-a851-44f7-db4e-26587e3d5730"
      },
      "execution_count": 23,
      "outputs": [
        {
          "output_type": "stream",
          "name": "stderr",
          "text": [
            "/usr/local/lib/python3.10/dist-packages/transformers/optimization.py:591: FutureWarning: This implementation of AdamW is deprecated and will be removed in a future version. Use the PyTorch implementation torch.optim.AdamW instead, or set `no_deprecation_warning=True` to disable this warning\n",
            "  warnings.warn(\n"
          ]
        }
      ]
    },
    {
      "cell_type": "code",
      "source": [
        "# 학습 루프\n",
        "epochs = 10\n",
        "for epoch in range(epochs):\n",
        "    print(f\"\\nEpoch {epoch + 1}/{epochs}\")\n",
        "    train_loss = train_with_focal_loss(model, train_dataloader, optimizer, loss_fn)\n",
        "    print(f\"Training loss: {train_loss:.6f}\")\n",
        "\n",
        "    val_loss, accuracy, f1, precision, recall, auroc = evaluate(model, val_dataloader)\n",
        "    print(f\"Validation loss: {val_loss:.6f}\")\n",
        "    print(f\"Accuracy: {accuracy:.4f}\")\n",
        "    print(f\"F1 Score: {f1:.4f}\")\n",
        "    print(f\"Precision: {precision:.4f}\")\n",
        "    print(f\"Recall: {recall:.4f}\")\n",
        "    print(f\"AUROC: {auroc:.4f}\")\n",
        "\n",
        "    # Scheduler step\n",
        "    scheduler.step(val_loss)\n",
        "\n",
        "    # Early stopping 체크\n",
        "    early_stopping(val_loss)\n",
        "    if early_stopping.early_stop:\n",
        "        print(\"Stopping early.\")\n",
        "        break\n"
      ],
      "metadata": {
        "colab": {
          "base_uri": "https://localhost:8080/"
        },
        "id": "ZC1-B_NDcrFq",
        "outputId": "778104d3-d426-40d7-ea08-10302e8a2752"
      },
      "execution_count": 24,
      "outputs": [
        {
          "output_type": "stream",
          "name": "stdout",
          "text": [
            "\n",
            "Epoch 1/10\n",
            "Training loss: 0.143763\n",
            "Validation loss: 0.675945\n",
            "Accuracy: 0.5825\n",
            "F1 Score: 0.5730\n",
            "Precision: 0.5911\n",
            "Recall: 0.5825\n",
            "AUROC: 0.6374\n",
            "\n",
            "Epoch 2/10\n",
            "Training loss: 0.128535\n",
            "Validation loss: 0.653283\n",
            "Accuracy: 0.6187\n",
            "F1 Score: 0.6184\n",
            "Precision: 0.6190\n",
            "Recall: 0.6187\n",
            "AUROC: 0.6719\n",
            "\n",
            "Epoch 3/10\n",
            "Training loss: 0.115384\n",
            "Validation loss: 0.649401\n",
            "Accuracy: 0.6295\n",
            "F1 Score: 0.6187\n",
            "Precision: 0.6454\n",
            "Recall: 0.6295\n",
            "AUROC: 0.6807\n",
            "\n",
            "Epoch 4/10\n",
            "Training loss: 0.088299\n",
            "Validation loss: 0.754071\n",
            "Accuracy: 0.5814\n",
            "F1 Score: 0.5350\n",
            "Precision: 0.6356\n",
            "Recall: 0.5814\n",
            "AUROC: 0.6488\n",
            "\n",
            "Epoch 5/10\n",
            "Training loss: 0.059496\n",
            "Validation loss: 0.886478\n",
            "Accuracy: 0.5732\n",
            "F1 Score: 0.5289\n",
            "Precision: 0.6185\n",
            "Recall: 0.5732\n",
            "AUROC: 0.6423\n",
            "\n",
            "Epoch 6/10\n",
            "Training loss: 0.043990\n",
            "Validation loss: 0.853781\n",
            "Accuracy: 0.5742\n",
            "F1 Score: 0.5468\n",
            "Precision: 0.6036\n",
            "Recall: 0.5742\n",
            "AUROC: 0.6453\n",
            "Early stopping triggered\n",
            "Stopping early.\n"
          ]
        }
      ]
    },
    {
      "cell_type": "code",
      "source": [
        "# Final evaluation on test set\n",
        "test_loss, test_accuracy, test_f1, test_precision, test_recall, test_auroc = evaluate(model, test_dataloader)\n",
        "print(f\"\\nTest Results:\")\n",
        "print(f\"Test Loss: {test_loss:.6f}\")\n",
        "print(f\"Test Accuracy: {test_accuracy:.4f}\")\n",
        "print(f\"Test F1 Score: {test_f1:.4f}\")\n",
        "print(f\"Test Precision: {test_precision:.4f}\")\n",
        "print(f\"Test Recall: {test_recall:.4f}\")\n",
        "print(f\"Test AUROC: {test_auroc:.4f}\")"
      ],
      "metadata": {
        "colab": {
          "base_uri": "https://localhost:8080/"
        },
        "id": "sSe_wqhkct5p",
        "outputId": "89b36714-86d5-4be8-8dca-f8109578080c"
      },
      "execution_count": 25,
      "outputs": [
        {
          "output_type": "stream",
          "name": "stdout",
          "text": [
            "\n",
            "Test Results:\n",
            "Test Loss: 1.132653\n",
            "Test Accuracy: 0.4881\n",
            "Test F1 Score: 0.4292\n",
            "Test Precision: 0.4855\n",
            "Test Recall: 0.4881\n",
            "Test AUROC: 0.4964\n"
          ]
        }
      ]
    }
  ]
}